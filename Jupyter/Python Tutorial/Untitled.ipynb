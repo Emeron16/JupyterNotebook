{
 "cells": [
  {
   "cell_type": "code",
   "execution_count": null,
   "id": "dc5d187f",
   "metadata": {},
   "outputs": [],
   "source": [
    "help(pd.loc)"
   ]
  },
  {
   "cell_type": "code",
   "execution_count": null,
   "id": "9ebbc29e",
   "metadata": {},
   "outputs": [],
   "source": [
    "import pandas as pd\n",
    "from matplotlib import pyplot as plt"
   ]
  },
  {
   "cell_type": "code",
   "execution_count": null,
   "id": "b3a22616",
   "metadata": {},
   "outputs": [],
   "source": [
    "name = \"Bob\"\n",
    "score = 92.5\n",
    "print(\"Name: {}, Score: {:.2f}\".format(name, score))\n"
   ]
  },
  {
   "cell_type": "code",
   "execution_count": null,
   "id": "da59c130",
   "metadata": {},
   "outputs": [],
   "source": [
    "import time\n",
    "print(\"Loading...\", end=\"\", flush=True)\n",
    "time.sleep(2)\n",
    "print(\"Done\")\n"
   ]
  },
  {
   "cell_type": "code",
   "execution_count": null,
   "id": "ba129020",
   "metadata": {},
   "outputs": [],
   "source": [
    "number = 12\n",
    "for n in range(1, number+1):\n",
    "    print(\"%d\" % n, end=\" \") \n",
    "    print(\"%o\" % n, end=\" \") \n",
    "    print(\"%X\" % n, end=\"\\v \")  \n",
    "    print(bin(n)[2:])"
   ]
  },
  {
   "cell_type": "code",
   "execution_count": null,
   "id": "48793ff7",
   "metadata": {},
   "outputs": [],
   "source": []
  }
 ],
 "metadata": {
  "kernelspec": {
   "display_name": "Python 3 (ipykernel)",
   "language": "python",
   "name": "python3"
  },
  "language_info": {
   "codemirror_mode": {
    "name": "ipython",
    "version": 3
   },
   "file_extension": ".py",
   "mimetype": "text/x-python",
   "name": "python",
   "nbconvert_exporter": "python",
   "pygments_lexer": "ipython3",
   "version": "3.11.7"
  }
 },
 "nbformat": 4,
 "nbformat_minor": 5
}
