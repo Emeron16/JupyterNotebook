{
 "cells": [
  {
   "cell_type": "code",
   "execution_count": 1,
   "id": "8d2d3da8",
   "metadata": {},
   "outputs": [],
   "source": []
  },
  {
   "cell_type": "code",
   "execution_count": 12,
   "id": "01b1218d",
   "metadata": {},
   "outputs": [
    {
     "name": "stdout",
     "output_type": "stream",
     "text": [
      "<class 'pandas.core.frame.DataFrame'>\n",
      "RangeIndex: 887 entries, 0 to 886\n",
      "Data columns (total 8 columns):\n",
      " #   Column                   Non-Null Count  Dtype  \n",
      "---  ------                   --------------  -----  \n",
      " 0   Survived                 887 non-null    int64  \n",
      " 1   Pclass                   887 non-null    int64  \n",
      " 2   Name                     887 non-null    object \n",
      " 3   Sex                      887 non-null    object \n",
      " 4   Age                      887 non-null    float64\n",
      " 5   Siblings/Spouses Aboard  887 non-null    int64  \n",
      " 6   Parents/Children Aboard  887 non-null    int64  \n",
      " 7   Fare                     887 non-null    float64\n",
      "dtypes: float64(2), int64(4), object(2)\n",
      "memory usage: 55.6+ KB\n"
     ]
    }
   ],
   "source": [
    "import math\n",
    "import os\n",
    "import random\n",
    "import re\n",
    "import sys\n",
    "import pandas as pd   \n",
    "df = pd.read_csv(\"http://web.stanford.edu/class/archive/cs/cs109/cs109.1166/stuff/titanic.csv\")  \n",
    "df.info()"
   ]
  },
  {
   "cell_type": "code",
   "execution_count": 16,
   "id": "53666be2",
   "metadata": {},
   "outputs": [
    {
     "name": "stdout",
     "output_type": "stream",
     "text": [
      "Odds of survival: 0.5844\n"
     ]
    }
   ],
   "source": [
    "gender ='male'\n",
    "passenger_class = 1\n",
    "#Define the event you're interested in and determine the number of successful outcomes (S).\n",
    "Specifics = df[(df['Sex']==gender) & (df['Pclass'] == passenger_class)]\n",
    "\n",
    "#Calculate odds of survival\n",
    "Survivors = Specifics['Survived'].sum()\n",
    "non_survivors = len(Specifics) - Survivors\n",
    "\n",
    "odds_of_survival = round(Survivors/non_survivors,4)\n",
    "\n",
    "Specifics.head()\n",
    "print(\"Odds of survival:\", odds_of_survival)\n"
   ]
  },
  {
   "cell_type": "code",
   "execution_count": null,
   "id": "fa3970a4",
   "metadata": {},
   "outputs": [],
   "source": [
    "2. Identify the total number of possible outcomes (T).\n",
    "3. Calculate the odds (O) using the formula:\n",
    "     O = S / T\n",
    "4. Express the odds in the desired format (ratio, fraction, or decimal)."
   ]
  }
 ],
 "metadata": {
  "kernelspec": {
   "display_name": "Python 3 (ipykernel)",
   "language": "python",
   "name": "python3"
  },
  "language_info": {
   "codemirror_mode": {
    "name": "ipython",
    "version": 3
   },
   "file_extension": ".py",
   "mimetype": "text/x-python",
   "name": "python",
   "nbconvert_exporter": "python",
   "pygments_lexer": "ipython3",
   "version": "3.11.7"
  }
 },
 "nbformat": 4,
 "nbformat_minor": 5
}
