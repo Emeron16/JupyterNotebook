{
 "cells": [
  {
   "cell_type": "code",
   "execution_count": 2,
   "id": "4709108c",
   "metadata": {},
   "outputs": [],
   "source": [
    "import pandas as pd\n",
    "\n",
    "df = pd.read_csv(\"https://github.com/mircealex/Movie_ratings_2016_17/raw/master/fandango_score_comparison.csv\") "
   ]
  },
  {
   "cell_type": "code",
   "execution_count": 40,
   "id": "47a0fbdc",
   "metadata": {},
   "outputs": [
    {
     "name": "stdout",
     "output_type": "stream",
     "text": [
      "7.859999999999999 weights: 5\n"
     ]
    },
    {
     "data": {
      "text/plain": [
       "3.93"
      ]
     },
     "execution_count": 40,
     "metadata": {},
     "output_type": "execute_result"
    }
   ],
   "source": [
    "# Complete the 'weighted_movie_rating' function below.\n",
    "#\n",
    "# The function is expected to return a FLOAT.\n",
    "# The function accepts following parameters:\n",
    "#  1. STRING movie_title\n",
    "#  2. FLOAT rt_w\n",
    "#  3. FLOAT rtu_w\n",
    "#  4. FLOAT meta_w\n",
    "#  5. FLOAT metau_w\n",
    "#  6. FLOAT imdb_w\n",
    "#\n",
    "# The function already come with an implementation to download csv file and convert it into a dataframe object using pandas\n",
    "# \n",
    "# NEVER WORKED WITH PANDAS? NO PROBLEM! HERE ARE A FEW HELPFUL LINKS/POINTERS:\n",
    "# https://pandas.pydata.org/pandas-docs/stable/user_guide/10min.html\n",
    "# \n",
    "# 1. Get cloumn names\n",
    "# columns = df.columns\n",
    "#\n",
    "# 2. If you want to get values from a single column: \n",
    "# column_values = df['column_name'] \n",
    "# OR \n",
    "# column_values = df['column_name'].values.tolist()\n",
    "#\n",
    "# 3. Extract rows based on a rule\n",
    "# df[df['column_name'] == value_of_interest]\n",
    "#\n",
    "# NOTE: csv file is loaded into variable called \"df\"\n",
    "\n",
    "def weighted_movie_rating(movie_title, rt_w, rtu_w, meta_w, metau_w, imdb_w):\n",
    "    # Loading the csv as a dataframe\n",
    "    df = pd.read_csv(\"https://github.com/mircealex/Movie_ratings_2016_17/raw/master/fandango_score_comparison.csv\")    \n",
    "\n",
    "    # Enter your code below. Use the data previously loaded to compute weighted average rating for given input\n",
    "    \n",
    "\n",
    "    if movie_title not in df['FILM'].values:\n",
    "        return 0\n",
    "    \n",
    "    # put the weights into a list\n",
    "    weights = [ rt_w, rtu_w, meta_w, metau_w, imdb_w]\n",
    "    \n",
    "    #return 0 if all weights are 0\n",
    "    if sum(weights) == 0:\n",
    "        return 0\n",
    "    \n",
    "    #subset the dataframe to only columns we need\n",
    "    Metric_df = df[['FILM','RottenTomatoes', 'RottenTomatoes_User', 'Metacritic',\\\n",
    "    'Metacritic_User','IMDB']] \n",
    "    \n",
    "    #retrieve the ratings for the movie in question.\n",
    "    Movie_data = Metric_df[Metric_df['FILM']==movie_title].reset_index(drop = True)\n",
    "    \n",
    "    \n",
    "    #convert the data(not including the FILM name) to a list to calculate weighted average.\n",
    "    Movie_list = Movie_data.iloc[0,1:].values\n",
    "    \n",
    "    #Normalize the weights\n",
    "    Normalize_list = [rating/10 if rating > 10 else rating for rating in Movie_list]\n",
    "    \n",
    "             \n",
    "    #calculate weighted average\n",
    "    weighted_avg = sum([weight*rating for weight,rating in zip(weights, Normalize_list)]) / sum(weights)\n",
    "    \n",
    "    #convert to 5 star rating\n",
    "    weighted_avg_5stars = round((weighted_avg/10) *5,2) \n",
    "    \n",
    "    return(weighted_avg_5stars)\n",
    "\n",
    "\n",
    "weighted_movie_rating('Ant-Man (2015)', 1,1,1,1,1)\n",
    "    "
   ]
  },
  {
   "cell_type": "markdown",
   "id": "1a290c10",
   "metadata": {},
   "source": [
    "# Version 2"
   ]
  },
  {
   "cell_type": "code",
   "execution_count": 3,
   "id": "aa5f550e",
   "metadata": {},
   "outputs": [
    {
     "data": {
      "text/plain": [
       "3.93"
      ]
     },
     "execution_count": 3,
     "metadata": {},
     "output_type": "execute_result"
    }
   ],
   "source": [
    "def weighted_movie_rating(movie_title, rt_w, rtu_w, meta_w, metau_w, imdb_w):\n",
    "    # Loading the csv as a dataframe\n",
    "    df = pd.read_csv(\"https://github.com/mircealex/Movie_ratings_2016_17/raw/master/fandango_score_comparison.csv\")    \n",
    "\n",
    "    # Enter your code below. Use the data previously loaded to compute weighted average rating for given input\n",
    "    \n",
    "\n",
    "    if movie_title not in df['FILM'].values:\n",
    "        return 'Film not found'\n",
    "    \n",
    "    # put the weights into a list\n",
    "    weights = [rt_w, rtu_w, meta_w, metau_w, imdb_w]\n",
    "    \n",
    "    #return 0 if all weights are 0\n",
    "    if sum(weights) == 0:\n",
    "        return 0\n",
    "    \n",
    "    #subset the dataframe to only columns we need\n",
    "    Metric_df = df[['FILM','RottenTomatoes', 'RottenTomatoes_User', 'Metacritic',\\\n",
    "    'Metacritic_User','IMDB']] \n",
    "    \n",
    "    #retrieve the ratings for the movie in question.\n",
    "    Movie_data = Metric_df[Metric_df['FILM']==movie_title].reset_index(drop = True)\n",
    "    #print(Movie_data)\n",
    "    \n",
    "    #Normalize the weights\n",
    "    Movie_ratings = Movie_data.iloc[0,1:].apply(lambda x:x/10 if x>10 else x)\n",
    "       \n",
    "    #calculate weighted average\n",
    "    weighted_avg = round(sum(Movie_ratings * weights)/sum(weights),2)\n",
    "    \n",
    "    #convert to 5 star rating\n",
    "    weighted_avg_5stars = round((weighted_avg/10) *5,2) \n",
    "               \n",
    "    \n",
    "    return(weighted_avg_5stars)\n",
    "\n",
    "\n",
    "weighted_movie_rating('Ant-Man (2015)', 1,1,1,1,1)\n",
    "    "
   ]
  },
  {
   "cell_type": "code",
   "execution_count": 39,
   "id": "49463843",
   "metadata": {},
   "outputs": [
    {
     "ename": "SyntaxError",
     "evalue": "invalid syntax (909622174.py, line 7)",
     "output_type": "error",
     "traceback": [
      "\u001b[0;36m  Cell \u001b[0;32mIn[39], line 7\u001b[0;36m\u001b[0m\n\u001b[0;31m    expected 3.93\u001b[0m\n\u001b[0m             ^\u001b[0m\n\u001b[0;31mSyntaxError\u001b[0m\u001b[0;31m:\u001b[0m invalid syntax\n"
     ]
    }
   ],
   "source": [
    "Ant-Man (2015)\n",
    "1\n",
    "1\n",
    "1\n",
    "1\n",
    "1\n",
    "expected 3.93\n",
    "\n",
    "('Ant-Man (2015)', 1,1,1,1,1)\n",
    "\n",
    "['Ant-Man (2015)', 0.0, 0.0, 0.0, 0.0, 0.0]\n",
    "['Cinderella (2015)', 0.0, 1.0, 0.0, 1.0, 0.0]\n",
    "['Jurassic World (2015)', 2.0, 1.0, 2.0, 1.0, 1.0]"
   ]
  },
  {
   "cell_type": "code",
   "execution_count": null,
   "id": "648bf406",
   "metadata": {},
   "outputs": [],
   "source": []
  }
 ],
 "metadata": {
  "kernelspec": {
   "display_name": "Python 3 (ipykernel)",
   "language": "python",
   "name": "python3"
  },
  "language_info": {
   "codemirror_mode": {
    "name": "ipython",
    "version": 3
   },
   "file_extension": ".py",
   "mimetype": "text/x-python",
   "name": "python",
   "nbconvert_exporter": "python",
   "pygments_lexer": "ipython3",
   "version": "3.11.7"
  }
 },
 "nbformat": 4,
 "nbformat_minor": 5
}
