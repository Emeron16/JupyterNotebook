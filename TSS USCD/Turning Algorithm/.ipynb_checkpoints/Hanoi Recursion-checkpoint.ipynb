{
 "cells": [
  {
   "cell_type": "code",
   "execution_count": 1,
   "id": "71e1a717",
   "metadata": {},
   "outputs": [
    {
     "name": "stdout",
     "output_type": "stream",
     "text": [
      "moving disk from originalPole to finalPole\n",
      "moving disk from originalPole to intermediatePole\n",
      "moving disk from finalPole to intermediatePole\n",
      "moving disk from originalPole to finalPole\n",
      "moving disk from intermediatePole to originalPole\n",
      "moving disk from intermediatePole to finalPole\n",
      "moving disk from originalPole to finalPole\n"
     ]
    }
   ],
   "source": [
    "#!/bin/python3\n",
    "\n",
    "import math\n",
    "import os\n",
    "import random\n",
    "import re\n",
    "import sys\n",
    "\n",
    "\n",
    "\n",
    "#\n",
    "# Complete the 'moveTower' function below.\n",
    "#\n",
    "# The function accepts following parameters:\n",
    "#  1. INTEGER height\n",
    "#  2. STRING originalPole\n",
    "#  3. STRING finalPole\n",
    "#  4. STRING intermediatePole\n",
    "#\n",
    "\n",
    "def moveTower(height, originalPole, finalPole, intermediatePole):\n",
    "    # Write your code here\n",
    "    \n",
    "    if height > 0:\n",
    "        \n",
    "        moveTower(height-1, originalPole, intermediatePole, finalPole)\n",
    "        print(f'moving disk from {originalPole} to {finalPole}')\n",
    "        moveTower(height-1, intermediatePole, finalPole, originalPole)\n",
    "\n",
    "\n",
    "\n",
    "moveTower(3, 'originalPole', 'finalPole', 'intermediatePole')"
   ]
  },
  {
   "cell_type": "code",
   "execution_count": null,
   "id": "7c4775a0",
   "metadata": {},
   "outputs": [],
   "source": []
  }
 ],
 "metadata": {
  "kernelspec": {
   "display_name": "Python 3 (ipykernel)",
   "language": "python",
   "name": "python3"
  },
  "language_info": {
   "codemirror_mode": {
    "name": "ipython",
    "version": 3
   },
   "file_extension": ".py",
   "mimetype": "text/x-python",
   "name": "python",
   "nbconvert_exporter": "python",
   "pygments_lexer": "ipython3",
   "version": "3.11.7"
  }
 },
 "nbformat": 4,
 "nbformat_minor": 5
}
