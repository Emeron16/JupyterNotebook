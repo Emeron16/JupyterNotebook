{
 "cells": [
  {
   "cell_type": "markdown",
   "id": "a2a64d41",
   "metadata": {},
   "source": [
    "# Converting String to Int"
   ]
  },
  {
   "cell_type": "code",
   "execution_count": null,
   "id": "7aa29842",
   "metadata": {},
   "outputs": [],
   "source": []
  },
  {
   "cell_type": "markdown",
   "id": "169550ec",
   "metadata": {},
   "source": [
    "# Converting Int to String "
   ]
  },
  {
   "cell_type": "code",
   "execution_count": null,
   "id": "68331977",
   "metadata": {},
   "outputs": [],
   "source": []
  },
  {
   "cell_type": "markdown",
   "id": "791481ed",
   "metadata": {},
   "source": [
    "# Converting String to List"
   ]
  },
  {
   "cell_type": "code",
   "execution_count": null,
   "id": "bcec7544",
   "metadata": {},
   "outputs": [],
   "source": []
  },
  {
   "cell_type": "markdown",
   "id": "247e065d",
   "metadata": {},
   "source": [
    "# Converting List to String"
   ]
  },
  {
   "cell_type": "code",
   "execution_count": null,
   "id": "b72dbba1",
   "metadata": {},
   "outputs": [],
   "source": []
  }
 ],
 "metadata": {
  "kernelspec": {
   "display_name": "Python 3 (ipykernel)",
   "language": "python",
   "name": "python3"
  },
  "language_info": {
   "codemirror_mode": {
    "name": "ipython",
    "version": 3
   },
   "file_extension": ".py",
   "mimetype": "text/x-python",
   "name": "python",
   "nbconvert_exporter": "python",
   "pygments_lexer": "ipython3",
   "version": "3.11.7"
  }
 },
 "nbformat": 4,
 "nbformat_minor": 5
}
