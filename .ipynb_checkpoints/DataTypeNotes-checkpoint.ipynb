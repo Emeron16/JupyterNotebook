{
 "cells": [
  {
   "cell_type": "markdown",
   "id": "769e20b9",
   "metadata": {},
   "source": [
    "# Converting String to Int"
   ]
  },
  {
   "cell_type": "code",
   "execution_count": null,
   "id": "ae5d8d9d",
   "metadata": {},
   "outputs": [],
   "source": []
  },
  {
   "cell_type": "markdown",
   "id": "d44b6b9a",
   "metadata": {},
   "source": [
    "# Converting Int to String "
   ]
  },
  {
   "cell_type": "code",
   "execution_count": null,
   "id": "f65b3288",
   "metadata": {},
   "outputs": [],
   "source": []
  },
  {
   "cell_type": "markdown",
   "id": "1792dfb5",
   "metadata": {},
   "source": [
    "# Converting String to List"
   ]
  },
  {
   "cell_type": "code",
   "execution_count": null,
   "id": "799236d6",
   "metadata": {},
   "outputs": [],
   "source": []
  },
  {
   "cell_type": "markdown",
   "id": "e7d636dc",
   "metadata": {},
   "source": [
    "# Converting List to String"
   ]
  },
  {
   "cell_type": "code",
   "execution_count": null,
   "id": "aa7e496c",
   "metadata": {},
   "outputs": [],
   "source": []
  }
 ],
 "metadata": {
  "kernelspec": {
   "display_name": "Python 3 (ipykernel)",
   "language": "python",
   "name": "python3"
  },
  "language_info": {
   "codemirror_mode": {
    "name": "ipython",
    "version": 3
   },
   "file_extension": ".py",
   "mimetype": "text/x-python",
   "name": "python",
   "nbconvert_exporter": "python",
   "pygments_lexer": "ipython3",
   "version": "3.11.7"
  }
 },
 "nbformat": 4,
 "nbformat_minor": 5
}
