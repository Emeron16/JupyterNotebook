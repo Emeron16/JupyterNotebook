{
 "cells": [
  {
   "cell_type": "markdown",
   "id": "f59ee037",
   "metadata": {},
   "source": [
    "# Simple Use Case"
   ]
  },
  {
   "cell_type": "code",
   "execution_count": 8,
   "id": "fb50bcbb",
   "metadata": {},
   "outputs": [
    {
     "name": "stdout",
     "output_type": "stream",
     "text": [
      "[0.5, 1.0, 0.5, 2, 10]\n",
      "[0.5, 1.0, 0.5, 2, 10]\n"
     ]
    }
   ],
   "source": [
    "wallet = [.25, .50, .25, 1, 5]\n",
    "double = []\n",
    "for money in wallet:\n",
    "    double.append(money * 2)\n",
    "    \n",
    "print(double)\n",
    "    \n",
    "double2=[money*2 for money in wallet]\n",
    "\n",
    "\n",
    "\n",
    "\n"
   ]
  },
  {
   "cell_type": "markdown",
   "id": "d5e458d3",
   "metadata": {},
   "source": [
    "#Functions Sum() Print() Min()/Max()"
   ]
  },
  {
   "cell_type": "code",
   "execution_count": 21,
   "id": "532a0bf5",
   "metadata": {},
   "outputs": [
    {
     "name": "stdout",
     "output_type": "stream",
     "text": [
      "7.0\n"
     ]
    },
    {
     "data": {
      "text/plain": [
       "0.25"
      ]
     },
     "execution_count": 21,
     "metadata": {},
     "output_type": "execute_result"
    }
   ],
   "source": [
    "wallet = [.25, .50, .25, 1, 5]\n",
    "total = 0\n",
    "for money in wallet:\n",
    "        total += money\n",
    "print(total)\n",
    "\n",
    "total2 = sum([money for money in wallet])\n",
    "min([money for money in wallet])"
   ]
  },
  {
   "cell_type": "markdown",
   "id": "f914e5d3",
   "metadata": {},
   "source": [
    "# IF"
   ]
  },
  {
   "cell_type": "code",
   "execution_count": 17,
   "id": "8ccf1259",
   "metadata": {},
   "outputs": [
    {
     "name": "stdout",
     "output_type": "stream",
     "text": [
      "[5]\n",
      "[5]\n"
     ]
    }
   ],
   "source": [
    "wallet = [.25, .50, .25, 1, 5]\n",
    "\n",
    "bills = []\n",
    "for money in wallet:\n",
    "    if money > 1:\n",
    "        bills.append(money)\n",
    "        \n",
    "print(bills)\n",
    "bills=[money for money in wallet if money > 1]\n",
    "print(bills)"
   ]
  },
  {
   "cell_type": "markdown",
   "id": "83cc4e05",
   "metadata": {},
   "source": [
    "# If Else"
   ]
  },
  {
   "cell_type": "code",
   "execution_count": 1,
   "id": "f66b12d2",
   "metadata": {},
   "outputs": [
    {
     "name": "stdout",
     "output_type": "stream",
     "text": [
      "[0.5, 1.0, 0.5, 0.5, 2.5]\n"
     ]
    }
   ],
   "source": [
    "wallet = [.25, .50, .25, 1, 5]\n",
    "#double if small than or equal to $1\n",
    "jackpot = 1\n",
    "\n",
    "'''\n",
    "for money in range(len(wallet)):\n",
    "    if wallet[money] < jackpot:\n",
    "        wallet[money] *= 2\n",
    "    else:\n",
    "        wallet[money] /= 2\n",
    "'''\n",
    "print([money*2 if money < jackpot else money/2 for money in wallet])\n",
    "    \n",
    "        \n",
    "        \n"
   ]
  },
  {
   "cell_type": "code",
   "execution_count": null,
   "id": "6b870c9c",
   "metadata": {},
   "outputs": [],
   "source": []
  }
 ],
 "metadata": {
  "kernelspec": {
   "display_name": "Python 3 (ipykernel)",
   "language": "python",
   "name": "python3"
  },
  "language_info": {
   "codemirror_mode": {
    "name": "ipython",
    "version": 3
   },
   "file_extension": ".py",
   "mimetype": "text/x-python",
   "name": "python",
   "nbconvert_exporter": "python",
   "pygments_lexer": "ipython3",
   "version": "3.11.7"
  }
 },
 "nbformat": 4,
 "nbformat_minor": 5
}
