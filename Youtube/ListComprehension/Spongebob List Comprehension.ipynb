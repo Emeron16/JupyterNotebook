{
 "cells": [
  {
   "cell_type": "markdown",
   "id": "f59ee037",
   "metadata": {},
   "source": [
    "# Simple Use Case"
   ]
  },
  {
   "cell_type": "code",
   "execution_count": 16,
   "id": "fb50bcbb",
   "metadata": {},
   "outputs": [
    {
     "name": "stdout",
     "output_type": "stream",
     "text": [
      "['Spongebob', 'Squidward', 'Patrick', 'Sandy']\n"
     ]
    }
   ],
   "source": [
    "sea = ['spongebob', 'squidward', 'patrick', 'sandy']\n",
    "double = []\n",
    "'''\n",
    "for idx in range(len(sea)):\n",
    "    sea[idx] = characters[idx].capitalize()\n",
    "print(characters)\n",
    "'''\n",
    "sea = [fish.capitalize() for fish in sea]\n",
    "print(sea)\n"
   ]
  },
  {
   "cell_type": "markdown",
   "id": "d5e458d3",
   "metadata": {},
   "source": [
    "# Functions Sum() Print() Min()/Max()"
   ]
  },
  {
   "cell_type": "code",
   "execution_count": 8,
   "id": "532a0bf5",
   "metadata": {},
   "outputs": [
    {
     "name": "stdout",
     "output_type": "stream",
     "text": [
      "6.75\n",
      "6.75\n",
      "6.75\n",
      "5\n"
     ]
    }
   ],
   "source": [
    "wallet = {'Spongebob':.25, 'Squidward':.50, 'Patrick':1, 'Sandy':5}\n",
    "total = 0\n",
    "for money in wallet.values():\n",
    "    total += money\n",
    "        \n",
    "print(total)\n",
    "\n",
    "total2 = sum([money for money in wallet.values()])\n",
    "print(total2)\n",
    "\n",
    "#OR\n",
    "print(sum([money for money in wallet.values()]))\n",
    "\n",
    "print(max([money for money in wallet.values()]))"
   ]
  },
  {
   "cell_type": "markdown",
   "id": "f914e5d3",
   "metadata": {},
   "source": [
    "# IF\n"
   ]
  },
  {
   "cell_type": "code",
   "execution_count": 6,
   "id": "8ccf1259",
   "metadata": {},
   "outputs": [
    {
     "name": "stdout",
     "output_type": "stream",
     "text": [
      "['spongebob', 'squidward', 'sandy']\n",
      "['spongebob', 'squidward', 'sandy']\n"
     ]
    }
   ],
   "source": [
    "sea = ['spongebob', 'squidward', 'patrick', 'sandy']\n",
    "\n",
    "#What if we wanted to add everyone whos name started with S to the beach party\n",
    "\n",
    "beachParty = []\n",
    "for fish in sea:\n",
    "    if fish[0] == 's':\n",
    "        beachParty.append(fish)\n",
    "        \n",
    "print(beachParty)\n",
    "beach_Party=[fish for fish in sea if fish[0] == 's' ]\n",
    "print(beach_Party)"
   ]
  },
  {
   "cell_type": "markdown",
   "id": "83cc4e05",
   "metadata": {},
   "source": [
    "# If Else"
   ]
  },
  {
   "cell_type": "code",
   "execution_count": 9,
   "id": "7dfe09b7",
   "metadata": {},
   "outputs": [
    {
     "name": "stdout",
     "output_type": "stream",
     "text": [
      "['spongebob', 'squidward', 'sandy']\n",
      "['spongebob', 'squidward', 'patrick notInvited', 'sandy']\n"
     ]
    }
   ],
   "source": [
    "sea = ['spongebob', 'squidward', 'patrick', 'sandy']\n",
    "\n",
    "#What if we wanted to add everyone whos name started with S to the beach party\n",
    "#And if they dont add 'notInvited' to their name\n",
    "\n",
    "beachParty = []\n",
    "for fish in sea:\n",
    "    if fish[0] == 's':\n",
    "        beachParty.append(fish)\n",
    "        \n",
    "print(beachParty)\n",
    "beach_Party=[fish if fish[0] == 's' else fish + ' notInvited' for fish in sea ]\n",
    "print(beach_Party)\n"
   ]
  },
  {
   "cell_type": "code",
   "execution_count": 54,
   "id": "f66b12d2",
   "metadata": {},
   "outputs": [
    {
     "name": "stdout",
     "output_type": "stream",
     "text": [
      "{'Spongebob': 0.25, 'Squidward': 0.5, 'Patrick': 1, 'Sandy': 5}\n",
      "{'Spongebob': 0.5, 'Squidward': 1.0, 'Patrick': 0.5, 'Sandy': 2.5}\n"
     ]
    }
   ],
   "source": [
    "wallet = {'Spongebob':.25, 'Squidward':.50, 'Patrick':1, 'Sandy':5}\n",
    "#double if small than or equal to $1\n",
    "jackpot = 1\n",
    "\n",
    "'''\n",
    "for item, money in wallet.items():\n",
    "    if money < jackpot:\n",
    "        wallet[item] *= 2\n",
    "    else:\n",
    "        wallet[item] /= 2\n",
    "'''       \n",
    "print(wallet)\n",
    "wheel = {name: money*2 if money < 1 else money/2 for name, money in wallet.items()}\n",
    "print(wheel)\n",
    "    \n",
    "        \n",
    "        \n"
   ]
  },
  {
   "cell_type": "code",
   "execution_count": null,
   "id": "6b870c9c",
   "metadata": {},
   "outputs": [],
   "source": []
  }
 ],
 "metadata": {
  "kernelspec": {
   "display_name": "Python 3 (ipykernel)",
   "language": "python",
   "name": "python3"
  },
  "language_info": {
   "codemirror_mode": {
    "name": "ipython",
    "version": 3
   },
   "file_extension": ".py",
   "mimetype": "text/x-python",
   "name": "python",
   "nbconvert_exporter": "python",
   "pygments_lexer": "ipython3",
   "version": "3.11.7"
  }
 },
 "nbformat": 4,
 "nbformat_minor": 5
}
