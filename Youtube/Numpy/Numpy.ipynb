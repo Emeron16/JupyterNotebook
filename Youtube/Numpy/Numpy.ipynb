{
 "cells": [
  {
   "cell_type": "markdown",
   "id": "38e350d9",
   "metadata": {},
   "source": [
    "# Importing Numpy"
   ]
  },
  {
   "cell_type": "code",
   "execution_count": 2,
   "id": "0fc050be",
   "metadata": {},
   "outputs": [],
   "source": [
    "import numpy as np"
   ]
  },
  {
   "cell_type": "markdown",
   "id": "0ad5ebac",
   "metadata": {},
   "source": [
    "# Creating a Numpy Array"
   ]
  },
  {
   "cell_type": "code",
   "execution_count": 10,
   "id": "772d51d7",
   "metadata": {},
   "outputs": [
    {
     "data": {
      "text/plain": [
       "array([4, 3, 2])"
      ]
     },
     "execution_count": 10,
     "metadata": {},
     "output_type": "execute_result"
    }
   ],
   "source": [
    "#One dimension\n",
    "np.array([4,3,2])"
   ]
  },
  {
   "cell_type": "code",
   "execution_count": 12,
   "id": "b42f2457",
   "metadata": {},
   "outputs": [
    {
     "data": {
      "text/plain": [
       "array([[4, 3, 2],\n",
       "       [2, 1, 0]])"
      ]
     },
     "execution_count": 12,
     "metadata": {},
     "output_type": "execute_result"
    }
   ],
   "source": [
    "np.array([[4,3,2],[2,1,0]])"
   ]
  },
  {
   "cell_type": "code",
   "execution_count": 13,
   "id": "7be8ddb2",
   "metadata": {},
   "outputs": [
    {
     "data": {
      "text/plain": [
       "array([0, 1, 2, 3, 4, 5, 6, 7, 8, 9])"
      ]
     },
     "execution_count": 13,
     "metadata": {},
     "output_type": "execute_result"
    }
   ],
   "source": [
    "np.arange(10)"
   ]
  },
  {
   "cell_type": "code",
   "execution_count": 6,
   "id": "572b5714",
   "metadata": {},
   "outputs": [
    {
     "data": {
      "text/plain": [
       "array([[[1, 2, 3, 4],\n",
       "        [1, 2, 3, 4],\n",
       "        [1, 2, 3, 4]],\n",
       "\n",
       "       [[1, 2, 3, 4],\n",
       "        [1, 2, 3, 4],\n",
       "        [1, 2, 3, 4]]])"
      ]
     },
     "execution_count": 6,
     "metadata": {},
     "output_type": "execute_result"
    }
   ],
   "source": [
    "np.full((2,3,4),[1,2,3,4])\n"
   ]
  },
  {
   "cell_type": "code",
   "execution_count": 21,
   "id": "0d6e855c",
   "metadata": {},
   "outputs": [
    {
     "data": {
      "text/plain": [
       "array([[[1., 1., 1., 1., 1.],\n",
       "        [1., 1., 1., 1., 1.],\n",
       "        [1., 1., 1., 1., 1.],\n",
       "        [1., 1., 1., 1., 1.]],\n",
       "\n",
       "       [[1., 1., 1., 1., 1.],\n",
       "        [1., 1., 1., 1., 1.],\n",
       "        [1., 1., 1., 1., 1.],\n",
       "        [1., 1., 1., 1., 1.]]])"
      ]
     },
     "execution_count": 21,
     "metadata": {},
     "output_type": "execute_result"
    }
   ],
   "source": [
    "np.ones((2,4,5))"
   ]
  },
  {
   "cell_type": "markdown",
   "id": "6cd82639",
   "metadata": {},
   "source": [
    "# Selecting Values"
   ]
  },
  {
   "cell_type": "code",
   "execution_count": 23,
   "id": "bc693db4",
   "metadata": {},
   "outputs": [
    {
     "data": {
      "text/plain": [
       "4"
      ]
     },
     "execution_count": 23,
     "metadata": {},
     "output_type": "execute_result"
    }
   ],
   "source": [
    "#One Dimension\n",
    "var = np.array([4,3,2])\n",
    "var[0]"
   ]
  },
  {
   "cell_type": "code",
   "execution_count": 7,
   "id": "dbeed3a1",
   "metadata": {},
   "outputs": [
    {
     "data": {
      "text/plain": [
       "array([[4, 3, 2],\n",
       "       [2, 1, 0]])"
      ]
     },
     "execution_count": 7,
     "metadata": {},
     "output_type": "execute_result"
    }
   ],
   "source": [
    "#Two Dimension\n",
    "var = np.array([[4,3,2],[2,1,0]])\n",
    "var[0,:]\n",
    "var[0][:]\n",
    "var"
   ]
  },
  {
   "cell_type": "markdown",
   "id": "65c238c7",
   "metadata": {},
   "source": [
    "# Functions\n",
    ".mean()\n",
    ".min()\n",
    ".sqrt()"
   ]
  },
  {
   "cell_type": "code",
   "execution_count": 29,
   "id": "7e636f2b",
   "metadata": {},
   "outputs": [
    {
     "data": {
      "text/plain": [
       "3.0"
      ]
     },
     "execution_count": 29,
     "metadata": {},
     "output_type": "execute_result"
    }
   ],
   "source": [
    "var = np.array([4,3,2])\n",
    "var.mean()\n",
    "np.mean(var)"
   ]
  },
  {
   "cell_type": "code",
   "execution_count": 32,
   "id": "d8f53de5",
   "metadata": {},
   "outputs": [
    {
     "data": {
      "text/plain": [
       "array([[2.        , 1.73205081, 1.41421356],\n",
       "       [1.41421356, 1.        , 0.        ]])"
      ]
     },
     "execution_count": 32,
     "metadata": {},
     "output_type": "execute_result"
    }
   ],
   "source": [
    "np.sqrt(var)\n"
   ]
  },
  {
   "cell_type": "code",
   "execution_count": 34,
   "id": "f1a8f758",
   "metadata": {},
   "outputs": [
    {
     "data": {
      "text/plain": [
       "0"
      ]
     },
     "execution_count": 34,
     "metadata": {},
     "output_type": "execute_result"
    }
   ],
   "source": [
    "np.min(var)\n",
    "var.min()"
   ]
  },
  {
   "cell_type": "markdown",
   "id": "2ad1860d",
   "metadata": {},
   "source": [
    "# Difference between a List and Numpy array"
   ]
  },
  {
   "cell_type": "code",
   "execution_count": 39,
   "id": "28dd56c0",
   "metadata": {},
   "outputs": [
    {
     "name": "stdout",
     "output_type": "stream",
     "text": [
      "Regular list: ['a', 1, True] <class 'list'>\n",
      "Numpy array:  ['a' '1' 'True'] <class 'numpy.ndarray'>\n"
     ]
    }
   ],
   "source": [
    "A_list = ['a',1,True]\n",
    "np_array = np.array(['a',1,True])\n",
    "print('Regular list: ', A_list, type(A_list))\n",
    "print('Numpy array: ', np_array, type(np_array))"
   ]
  },
  {
   "cell_type": "markdown",
   "id": "cc4a9bf6",
   "metadata": {},
   "source": [
    "## Brodcasting"
   ]
  },
  {
   "cell_type": "code",
   "execution_count": 40,
   "id": "04c31a63",
   "metadata": {},
   "outputs": [
    {
     "name": "stdout",
     "output_type": "stream",
     "text": [
      "Regular list: [2, 4, 6, 2, 4, 6]\n",
      "Numpy array:  [ 4  8 12]\n"
     ]
    }
   ],
   "source": [
    "A_list = [2,4,6] *2\n",
    "np_array = np.array([2,4,6]) *2\n",
    "\n",
    "print('Regular list: ', A_list)\n",
    "print('Numpy array: ', np_array)\n"
   ]
  },
  {
   "cell_type": "code",
   "execution_count": 54,
   "id": "bef395b6",
   "metadata": {},
   "outputs": [
    {
     "name": "stdout",
     "output_type": "stream",
     "text": [
      "Regular list:  [2, 4, 6, 2, 4, 6]\n",
      "Numpy array:  [ 4  8 12]\n"
     ]
    }
   ],
   "source": [
    "A_list = [2,4,6]\n",
    "A_list_2 = [2,4,6]\n",
    "np_array = np.array([2,4,6])\n",
    "np_array_2 = np.array([2,4,6])\n",
    "\n",
    "print('Regular list: ', A_list + A_list_2)\n",
    "print('Numpy array: ', np_array + np_array_2)"
   ]
  },
  {
   "cell_type": "markdown",
   "id": "41695ae3",
   "metadata": {},
   "source": [
    "# Subsetting and Indexing"
   ]
  },
  {
   "cell_type": "code",
   "execution_count": 50,
   "id": "3a88f314",
   "metadata": {},
   "outputs": [
    {
     "name": "stdout",
     "output_type": "stream",
     "text": [
      "Regular list:  [2, 6, 10]\n",
      "Numpy array:  [ 2  6 10]\n"
     ]
    },
    {
     "ename": "TypeError",
     "evalue": "'>' not supported between instances of 'list' and 'int'",
     "output_type": "error",
     "traceback": [
      "\u001b[0;31m---------------------------------------------------------------------------\u001b[0m",
      "\u001b[0;31mTypeError\u001b[0m                                 Traceback (most recent call last)",
      "Cell \u001b[0;32mIn[50], line 6\u001b[0m\n\u001b[1;32m      3\u001b[0m \u001b[38;5;28mprint\u001b[39m(\u001b[38;5;124m'\u001b[39m\u001b[38;5;124mRegular list: \u001b[39m\u001b[38;5;124m'\u001b[39m, A_list[\u001b[38;5;241m0\u001b[39m:\u001b[38;5;241m5\u001b[39m:\u001b[38;5;241m2\u001b[39m])\n\u001b[1;32m      4\u001b[0m \u001b[38;5;28mprint\u001b[39m(\u001b[38;5;124m'\u001b[39m\u001b[38;5;124mNumpy array: \u001b[39m\u001b[38;5;124m'\u001b[39m, np_array[\u001b[38;5;241m0\u001b[39m:\u001b[38;5;241m5\u001b[39m:\u001b[38;5;241m2\u001b[39m])\n\u001b[0;32m----> 6\u001b[0m \u001b[38;5;28mprint\u001b[39m(\u001b[38;5;124m'\u001b[39m\u001b[38;5;124mRegular list: \u001b[39m\u001b[38;5;124m'\u001b[39m, A_list[A_list \u001b[38;5;241m>\u001b[39m \u001b[38;5;241m4\u001b[39m])\n\u001b[1;32m      7\u001b[0m \u001b[38;5;28mprint\u001b[39m(\u001b[38;5;124m'\u001b[39m\u001b[38;5;124mNumpy array: \u001b[39m\u001b[38;5;124m'\u001b[39m, np_array[np_array \u001b[38;5;241m>\u001b[39m \u001b[38;5;241m4\u001b[39m])\n",
      "\u001b[0;31mTypeError\u001b[0m: '>' not supported between instances of 'list' and 'int'"
     ]
    }
   ],
   "source": [
    "A_list = [2,4,6,8,10,12] \n",
    "np_array = np.array([2,4,6,8,10,12]) \n",
    "print('Regular list: ', A_list[0:5:2])\n",
    "print('Numpy array: ', np_array[0:5:2])\n",
    "\n"
   ]
  },
  {
   "cell_type": "code",
   "execution_count": 51,
   "id": "b94ca829",
   "metadata": {},
   "outputs": [
    {
     "name": "stdout",
     "output_type": "stream",
     "text": [
      "Numpy array:  [ 6  8 10 12]\n"
     ]
    }
   ],
   "source": [
    "#print('Regular list: ', A_list[A_list > 4])\n",
    "print('Numpy array: ', np_array[np_array > 4])"
   ]
  },
  {
   "cell_type": "code",
   "execution_count": null,
   "id": "73782acc",
   "metadata": {},
   "outputs": [],
   "source": []
  }
 ],
 "metadata": {
  "kernelspec": {
   "display_name": "Python 3 (ipykernel)",
   "language": "python",
   "name": "python3"
  },
  "language_info": {
   "codemirror_mode": {
    "name": "ipython",
    "version": 3
   },
   "file_extension": ".py",
   "mimetype": "text/x-python",
   "name": "python",
   "nbconvert_exporter": "python",
   "pygments_lexer": "ipython3",
   "version": "3.11.7"
  }
 },
 "nbformat": 4,
 "nbformat_minor": 5
}
