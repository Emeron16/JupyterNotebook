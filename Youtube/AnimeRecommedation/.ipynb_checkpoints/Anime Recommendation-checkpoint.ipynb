{
 "cells": [
  {
   "cell_type": "code",
   "execution_count": 1,
   "id": "dcb05817",
   "metadata": {},
   "outputs": [],
   "source": [
    "import pandas as pd\n",
    "import numpy as np\n",
    "import matplotlib.pyplot as plt\n",
    "import seaborn as sns"
   ]
  },
  {
   "cell_type": "code",
   "execution_count": 2,
   "id": "9d4963c0",
   "metadata": {},
   "outputs": [
    {
     "name": "stdout",
     "output_type": "stream",
     "text": [
      "<class 'pandas.core.frame.DataFrame'>\n",
      "Index: 13254 entries, 0 to 15488\n",
      "Data columns (total 9 columns):\n",
      " #   Column        Non-Null Count  Dtype         \n",
      "---  ------        --------------  -----         \n",
      " 0   Name          13254 non-null  object        \n",
      " 1   Rank          13254 non-null  float64       \n",
      " 2   Rating        13254 non-null  float64       \n",
      " 3   Release_year  13254 non-null  datetime64[ns]\n",
      " 4   Episodes      13254 non-null  float64       \n",
      " 5   Type          13254 non-null  object        \n",
      " 6   Studio        13254 non-null  object        \n",
      " 7   Tags          13254 non-null  object        \n",
      " 8   staff         13254 non-null  object        \n",
      "dtypes: datetime64[ns](1), float64(3), object(5)\n",
      "memory usage: 1.0+ MB\n"
     ]
    }
   ],
   "source": [
    "df = pd.read_csv('Cleaned_Anime.csv',index_col=0)\n",
    "df['Release_year'] = pd.to_datetime(df['Release_year'] )\n",
    "df.info()"
   ]
  },
  {
   "cell_type": "code",
   "execution_count": null,
   "id": "3822e56e",
   "metadata": {},
   "outputs": [],
   "source": [
    "# Filter to o"
   ]
  },
  {
   "cell_type": "code",
   "execution_count": null,
   "id": "045641b5",
   "metadata": {},
   "outputs": [],
   "source": [
    "only_tags = df[(df['Type']!= 'Movie') & (df.staff != 'unknown') ].loc[:,['Name','Tags','staff']]\n",
    "\n",
    "#Identify Genres. Comment out when not needed\n",
    "#with pd.option_context('display.max_colwidth', None):\n",
    "#    print(Studio_100_plus.loc['Bones'])\n",
    "\n",
    "Interested_Genres = ['Action', 'Adventure', 'Comedy', 'Drama',\\\n",
    "'Fantasy','Shounen','Martial Arts', 'Violence','Superpowers',\\\n",
    "                     'Overpowered Main Characters','Isekai','Sexual Content','Magic']\n",
    "only_tags[Interested_Genres] = 0\n",
    "only_tags[Interested_Genres] = only_tags[Interested_Genres].astype(float)\n",
    "\n",
    "#Remove square brackets \n",
    "only_tags['Tags'] = only_tags['Tags'].str.replace(r'\\[|\\]','',regex = True)\n",
    "only_tags.set_index('Name', inplace=True)\n",
    "\n",
    "\n",
    "#Algorithm to retrieve shows that has the interested Genres\n",
    "for name, genres in zip(only_tags.index,only_tags['Tags']):\n",
    "    tags = genres.split(',')\n",
    "    \n",
    "    for genre in tags:\n",
    "        genre = genre.strip()\n",
    "        #Add weights(Importance)to the genre\n",
    "        if genre in ['Action', 'Adventure','Comedy','Isekai','Violence','Sexual Content']:\n",
    "            only_tags.loc[name,genre] = 1\n",
    "        elif genre in ['Fantasy','Shounen', 'Drama']:\n",
    "            only_tags.loc[name,genre] = .5\n",
    "        elif genre in ['Overpowered Main Characters','Superpowers','Martial Arts','Magic']:\n",
    "            only_tags.loc[name,genre] = 2\n",
    "            \n",
    "\n",
    "only_tags['Total'] = only_tags.iloc[:,2:].sum(axis=1)\n",
    "Six_or_More_Genres = only_tags[only_tags['Total'] > 5].sort_values('Total', ascending = False)            \n",
    "\n",
    "\n",
    "#only_tags[only_tags.index.str.contains('Overlord')]\n",
    "\n",
    "only_tags['Total'].plot(bins = 10, kind = 'hist', alpha=0.7)\n",
    "# Set the labels and title\n",
    "plt.xlabel('Total')\n",
    "plt.ylabel('Frequency')\n",
    "plt.title('Distribution of Interested Genres')\n",
    "\n",
    "# Show the plot\n",
    "plt.show()\n",
    "\n",
    "#Display the shows that are on the top of the list\n",
    "#with pd.option_context('display.max_rows', None):\n",
    "#    print(Six_or_More_Genres)\n"
   ]
  }
 ],
 "metadata": {
  "kernelspec": {
   "display_name": "Python 3 (ipykernel)",
   "language": "python",
   "name": "python3"
  },
  "language_info": {
   "codemirror_mode": {
    "name": "ipython",
    "version": 3
   },
   "file_extension": ".py",
   "mimetype": "text/x-python",
   "name": "python",
   "nbconvert_exporter": "python",
   "pygments_lexer": "ipython3",
   "version": "3.11.7"
  }
 },
 "nbformat": 4,
 "nbformat_minor": 5
}
