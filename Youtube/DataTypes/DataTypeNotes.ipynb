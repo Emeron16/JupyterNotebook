{
 "cells": [
  {
   "cell_type": "markdown",
   "id": "4117623e",
   "metadata": {},
   "source": [
    "# Functions\n",
    "\n",
    "## str()\n",
    "## int()\n",
    "## list()"
   ]
  },
  {
   "cell_type": "markdown",
   "id": "dbcdf68a",
   "metadata": {},
   "source": [
    "# Converting String to Int"
   ]
  },
  {
   "cell_type": "code",
   "execution_count": 5,
   "id": "92099425",
   "metadata": {},
   "outputs": [
    {
     "name": "stdout",
     "output_type": "stream",
     "text": [
      "5\n"
     ]
    }
   ],
   "source": [
    "Apples = '10'\n",
    "Oranges = '5'\n",
    "Fruits = int(Apples) - int(Oranges)\n",
    "print(Fruits)\n"
   ]
  },
  {
   "cell_type": "markdown",
   "id": "17594f3d",
   "metadata": {},
   "source": [
    "# Converting Int to String "
   ]
  },
  {
   "cell_type": "code",
   "execution_count": 8,
   "id": "1ecf1452",
   "metadata": {},
   "outputs": [
    {
     "name": "stdout",
     "output_type": "stream",
     "text": [
      "you are 23 years old\n"
     ]
    }
   ],
   "source": [
    "age = 23\n",
    "\n",
    "print(\"you are \" + str(age) + \" years old\")\n"
   ]
  },
  {
   "cell_type": "markdown",
   "id": "76134c5e",
   "metadata": {},
   "source": [
    "# Converting String to List"
   ]
  },
  {
   "cell_type": "code",
   "execution_count": 30,
   "id": "38196616",
   "metadata": {},
   "outputs": [
    {
     "ename": "SyntaxError",
     "evalue": "invalid syntax (591775372.py, line 3)",
     "output_type": "error",
     "traceback": [
      "\u001b[0;36m  Cell \u001b[0;32mIn[30], line 3\u001b[0;36m\u001b[0m\n\u001b[0;31m    print(\"Hi \" + *Names)\u001b[0m\n\u001b[0m                  ^\u001b[0m\n\u001b[0;31mSyntaxError\u001b[0m\u001b[0;31m:\u001b[0m invalid syntax\n"
     ]
    }
   ],
   "source": [
    "Names = 'Bob Anna George'\n",
    "List_Names = list(Names.split())\n",
    "print(\"Hi \" + Names)\n",
    "print(\"Hi \" + List_Names[1])"
   ]
  },
  {
   "cell_type": "markdown",
   "id": "a36429c4",
   "metadata": {},
   "source": [
    "# Converting List to String"
   ]
  },
  {
   "cell_type": "code",
   "execution_count": 29,
   "id": "1d6aaa0e",
   "metadata": {},
   "outputs": [
    {
     "name": "stdout",
     "output_type": "stream",
     "text": [
      "Hi  B o b\n"
     ]
    }
   ],
   "source": [
    "Name = ['B','o','b']\n",
    "str_Bob =  ''.join(Name)\n",
    "\n",
    "print('Hi ' + str(Name))"
   ]
  },
  {
   "cell_type": "code",
   "execution_count": null,
   "id": "21d3faeb",
   "metadata": {},
   "outputs": [],
   "source": []
  }
 ],
 "metadata": {
  "kernelspec": {
   "display_name": "Python 3 (ipykernel)",
   "language": "python",
   "name": "python3"
  },
  "language_info": {
   "codemirror_mode": {
    "name": "ipython",
    "version": 3
   },
   "file_extension": ".py",
   "mimetype": "text/x-python",
   "name": "python",
   "nbconvert_exporter": "python",
   "pygments_lexer": "ipython3",
   "version": "3.11.7"
  }
 },
 "nbformat": 4,
 "nbformat_minor": 5
}
