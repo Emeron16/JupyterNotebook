{
 "cells": [
  {
   "cell_type": "markdown",
   "id": "8917adbd",
   "metadata": {},
   "source": [
    "Function\n",
    "str()\n",
    "int()\n",
    "list()"
   ]
  },
  {
   "cell_type": "markdown",
   "id": "a2a64d41",
   "metadata": {},
   "source": [
    "# Converting String to Int"
   ]
  },
  {
   "cell_type": "code",
   "execution_count": 3,
   "id": "7aa29842",
   "metadata": {},
   "outputs": [
    {
     "name": "stdout",
     "output_type": "stream",
     "text": [
      "5\n"
     ]
    }
   ],
   "source": [
    "Apple = '10'\n",
    "Oranges = '5'\n",
    "Fruits = int(Apple) + int(Oranges)\n",
    "\n",
    "print(Fruits)"
   ]
  },
  {
   "cell_type": "markdown",
   "id": "169550ec",
   "metadata": {},
   "source": [
    "# Converting Int to String "
   ]
  },
  {
   "cell_type": "code",
   "execution_count": 5,
   "id": "68331977",
   "metadata": {},
   "outputs": [
    {
     "name": "stdout",
     "output_type": "stream",
     "text": [
      "You are 23 years old\n"
     ]
    }
   ],
   "source": [
    "age = 23\n",
    "\n",
    "print('You are ' + str(age) + ' years old')"
   ]
  },
  {
   "cell_type": "markdown",
   "id": "791481ed",
   "metadata": {},
   "source": [
    "# Converting String to List"
   ]
  },
  {
   "cell_type": "code",
   "execution_count": 12,
   "id": "bcec7544",
   "metadata": {},
   "outputs": [
    {
     "name": "stdout",
     "output_type": "stream",
     "text": [
      "Hi George\n"
     ]
    }
   ],
   "source": [
    "Names = \"Bob Anna George\"\n",
    "List_Names = list(Names.split())\n",
    "print(\"Hi \" + List_Names[2])"
   ]
  },
  {
   "cell_type": "markdown",
   "id": "247e065d",
   "metadata": {},
   "source": [
    "# Converting List to String"
   ]
  },
  {
   "cell_type": "code",
   "execution_count": 18,
   "id": "b72dbba1",
   "metadata": {},
   "outputs": [
    {
     "name": "stdout",
     "output_type": "stream",
     "text": [
      "Hi B,o,b\n"
     ]
    }
   ],
   "source": [
    "Name = ['B','o','b']\n",
    "str_Bob= ''.join(Name)\n",
    "\n",
    "print('Hi ' + str_Bob)"
   ]
  },
  {
   "cell_type": "code",
   "execution_count": null,
   "id": "7340b892",
   "metadata": {},
   "outputs": [],
   "source": []
  }
 ],
 "metadata": {
  "kernelspec": {
   "display_name": "Python 3 (ipykernel)",
   "language": "python",
   "name": "python3"
  },
  "language_info": {
   "codemirror_mode": {
    "name": "ipython",
    "version": 3
   },
   "file_extension": ".py",
   "mimetype": "text/x-python",
   "name": "python",
   "nbconvert_exporter": "python",
   "pygments_lexer": "ipython3",
   "version": "3.11.7"
  }
 },
 "nbformat": 4,
 "nbformat_minor": 5
}
