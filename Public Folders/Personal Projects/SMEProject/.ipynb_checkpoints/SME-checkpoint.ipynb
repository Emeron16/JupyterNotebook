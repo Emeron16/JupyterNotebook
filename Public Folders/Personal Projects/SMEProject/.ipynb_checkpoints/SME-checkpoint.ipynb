{
 "cells": [
  {
   "cell_type": "code",
   "execution_count": 2,
   "id": "adfc719d",
   "metadata": {},
   "outputs": [],
   "source": [
    "import pandas as pd\n",
    "import numpy as np\n",
    "file = 'Dataset/US_SME/Small_Business_By _State_2017.xlsx'\n",
    "df = pd.read_excel(file)"
   ]
  },
  {
   "cell_type": "code",
   "execution_count": 4,
   "id": "6204edac",
   "metadata": {},
   "outputs": [
    {
     "name": "stdout",
     "output_type": "stream",
     "text": [
      "        State  Number of establishments  Employment  Annual payroll ($000)\n",
      "0     Alabama                     78972      802920               30986278\n",
      "1      Alaska                     18188      137271                6974993\n",
      "2     Arizona                    114076     1065720               43182447\n",
      "3    Arkansas                     53966      490680               17132234\n",
      "4  California                    808213     7224945              375608143\n"
     ]
    }
   ],
   "source": [
    "print(df.head())"
   ]
  },
  {
   "cell_type": "code",
   "execution_count": 6,
   "id": "b91edb94",
   "metadata": {},
   "outputs": [],
   "source": [
    "Employment = np.array(df.Employment)"
   ]
  },
  {
   "cell_type": "code",
   "execution_count": null,
   "id": "8d0e52b1",
   "metadata": {},
   "outputs": [],
   "source": []
  }
 ],
 "metadata": {
  "kernelspec": {
   "display_name": "Python 3 (ipykernel)",
   "language": "python",
   "name": "python3"
  },
  "language_info": {
   "codemirror_mode": {
    "name": "ipython",
    "version": 3
   },
   "file_extension": ".py",
   "mimetype": "text/x-python",
   "name": "python",
   "nbconvert_exporter": "python",
   "pygments_lexer": "ipython3",
   "version": "3.11.7"
  }
 },
 "nbformat": 4,
 "nbformat_minor": 5
}
