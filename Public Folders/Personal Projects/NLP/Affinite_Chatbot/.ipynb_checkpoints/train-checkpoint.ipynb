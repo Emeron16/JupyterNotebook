{
 "cells": [
  {
   "cell_type": "markdown",
   "id": "da2e2464-e8ce-44e8-ab25-dec7e1df08ab",
   "metadata": {},
   "source": [
    "How to: https://www.youtube.com/watch?v=8qwowmiXANQ"
   ]
  },
  {
   "cell_type": "code",
   "execution_count": 12,
   "id": "e6c4a742-132f-42b9-876d-9b351629d1ae",
   "metadata": {},
   "outputs": [],
   "source": [
    "# Restart kernel after upgrading NLTK to ensure compatibility\n",
    "import json\n",
    "from preprocessing import tokenize, stem, bag_of_words\n",
    "import numpy as np"
   ]
  },
  {
   "cell_type": "code",
   "execution_count": 4,
   "id": "730c89cd-a16a-470c-adee-3c0e72413b16",
   "metadata": {},
   "outputs": [],
   "source": [
    "with open('intents.json', 'r') as f:\n",
    "    intents = json.load(f)"
   ]
  },
  {
   "cell_type": "code",
   "execution_count": 10,
   "id": "a5654a02-99bd-45da-ba9f-e66c23edf141",
   "metadata": {},
   "outputs": [
    {
     "name": "stdout",
     "output_type": "stream",
     "text": [
      "93 patterns\n",
      "\n",
      " 13 tags: ['events', 'family_tree', 'features', 'goodbye', 'greeting', 'help', 'messaging', 'posts', 'privacy', 'profile', 'stories', 'subscription', 'thanks']\n",
      "\n",
      " 114 unique stemmed words: [\"'m\", \"'s\", '24-hour', 'a', 'about', 'add', 'affinit', 'afternoon', 'an', 'anyon', 'app', 'appreci', 'are', 'avail', 'bill', 'bye', 'can', 'care', 'chat', 'commun', 'confus', 'content', 'control', 'cost', 'creat', 'custom', 'data', 'day', 'direct', 'do', 'doe', 'edit', 'ephemer', 'even', 'event', 'famili', 'farewel', 'featur', 'function', 'gather', 'get', 'good', 'goodby', 'have', 'hello', 'help', 'hey', 'hi', 'how', 'i', 'inform', 'is', 'it', 'later', 'lot', 'main', 'manag', 'me', 'member', 'messag', 'morn', 'much', 'my', \"n't\", 'need', 'organ', 'payment', 'person', 'photo', 'plan', 'post', 'premium', 'price', 'privaci', 'privat', 'profil', 'protect', 'relationship', 'rsvp', 'section', 'secur', 'see', 'set', 'share', 'show', 'so', 'social', 'soon', 'start', 'stori', 'subscript', 'support', 'take', 'talk', 'tell', 'temporari', 'thank', 'the', 'there', 'thi', 'to', 'tree', 'tutori', 'understand', 'up', 'updat', 'user', 'visibl', 'visual', 'what', 'who', 'with', 'work', 'you']\n"
     ]
    }
   ],
   "source": [
    "\n",
    "all_words = []\n",
    "tags = []\n",
    "xy = []\n",
    "for intent in intents['intents']:\n",
    "    tag = intent['tag']\n",
    "    tags.append(tag)\n",
    "    for pattern in intent['patterns']:\n",
    "        w = tokenize(pattern)\n",
    "        all_words.extend(w)\n",
    "        xy.append((w, tag))\n",
    "\n",
    "ignore_words = ['?', '!', ',', '.']\n",
    "all_words = [stem(w) for w in all_words if w not in ignore_words]\n",
    "all_words = sorted(set(all_words))\n",
    "tags = sorted(set(tags))\n",
    "\n",
    "print(len(xy), \"patterns\")\n",
    "print('\\n', len(tags), \"tags:\", tags)\n",
    "print('\\n', len(all_words), \"unique stemmed words:\", all_words)"
   ]
  },
  {
   "cell_type": "code",
   "execution_count": null,
   "id": "47f7d28d-f38f-47b3-9c02-e9594fa42fe7",
   "metadata": {},
   "outputs": [],
   "source": [
    "X_train = []\n",
    "y_train = []\n",
    "for (pattern_sentence, tag) in xy:\n",
    "    bag = bag_of_words(pattern_sentence, all_words)\n",
    "    X_train.append(bag)\n",
    "\n",
    "    label = tags.index(tag)\n",
    "    y_train.append(label)\n",
    "\n",
    "X_train = np.array(X_train)\n",
    "y_train = np.array(y_train)"
   ]
  }
 ],
 "metadata": {
  "kernelspec": {
   "display_name": "Job Application Bot (NumPy 1.x)",
   "language": "python",
   "name": "job_application_bot"
  },
  "language_info": {
   "codemirror_mode": {
    "name": "ipython",
    "version": 3
   },
   "file_extension": ".py",
   "mimetype": "text/x-python",
   "name": "python",
   "nbconvert_exporter": "python",
   "pygments_lexer": "ipython3",
   "version": "3.12.2"
  }
 },
 "nbformat": 4,
 "nbformat_minor": 5
}
