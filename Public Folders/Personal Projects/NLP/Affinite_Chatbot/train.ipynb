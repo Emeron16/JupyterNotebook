{
 "cells": [
  {
   "cell_type": "markdown",
   "id": "da2e2464-e8ce-44e8-ab25-dec7e1df08ab",
   "metadata": {},
   "source": [
    "How to: https://www.youtube.com/watch?v=8qwowmiXANQ\n",
    "part 3: https://www.youtube.com/watch?v=Da-iHgrmHYg\n",
    "part 4: https://www.youtube.com/watch?v=k1SzvvFtl4w"
   ]
  },
  {
   "cell_type": "code",
   "execution_count": null,
   "id": "e6c4a742-132f-42b9-876d-9b351629d1ae",
   "metadata": {},
   "outputs": [],
   "source": [
    "# Import required libraries for training the chatbot\n",
    "import json  # For reading JSON files (intents.json)\n",
    "# Import custom preprocessing functions from our local preprocessing.py file\n",
    "from preprocessing import tokenize, stem, bag_of_words  # Functions for text processing\n",
    "import numpy as np  # For numerical operations and array handling\n",
    "import torch  # PyTorch main library for deep learning\n",
    "import torch.nn as nn  # Neural network modules from PyTorch\n",
    "from torch.utils.data import Dataset, DataLoader  # For creating datasets and data loaders\n",
    "# Import our custom neural network model from local model.py file\n",
    "from model import NeuralNet  # Our 3-layer neural network class"
   ]
  },
  {
   "cell_type": "code",
   "execution_count": null,
   "id": "730c89cd-a16a-470c-adee-3c0e72413b16",
   "metadata": {},
   "outputs": [],
   "source": [
    "# Load the intents data from JSON file\n",
    "# This file contains all the training patterns, tags, and responses for the chatbot\n",
    "with open('intents.json', 'r') as f:  # Open the intents.json file in read mode\n",
    "    intents = json.load(f)  # Parse the JSON content into a Python dictionary"
   ]
  },
  {
   "cell_type": "code",
   "execution_count": null,
   "id": "a5654a02-99bd-45da-ba9f-e66c23edf141",
   "metadata": {},
   "outputs": [
    {
     "name": "stdout",
     "output_type": "stream",
     "text": [
      "93 patterns\n",
      "\n",
      " 13 tags: ['events', 'family_tree', 'features', 'goodbye', 'greeting', 'help', 'messaging', 'posts', 'privacy', 'profile', 'stories', 'subscription', 'thanks']\n",
      "\n",
      " 114 unique stemmed words: [\"'m\", \"'s\", '24-hour', 'a', 'about', 'add', 'affinit', 'afternoon', 'an', 'anyon', 'app', 'appreci', 'are', 'avail', 'bill', 'bye', 'can', 'care', 'chat', 'commun', 'confus', 'content', 'control', 'cost', 'creat', 'custom', 'data', 'day', 'direct', 'do', 'doe', 'edit', 'ephemer', 'even', 'event', 'famili', 'farewel', 'featur', 'function', 'gather', 'get', 'good', 'goodby', 'have', 'hello', 'help', 'hey', 'hi', 'how', 'i', 'inform', 'is', 'it', 'later', 'lot', 'main', 'manag', 'me', 'member', 'messag', 'morn', 'much', 'my', \"n't\", 'need', 'organ', 'payment', 'person', 'photo', 'plan', 'post', 'premium', 'price', 'privaci', 'privat', 'profil', 'protect', 'relationship', 'rsvp', 'section', 'secur', 'see', 'set', 'share', 'show', 'so', 'social', 'soon', 'start', 'stori', 'subscript', 'support', 'take', 'talk', 'tell', 'temporari', 'thank', 'the', 'there', 'thi', 'to', 'tree', 'tutori', 'understand', 'up', 'updat', 'user', 'visibl', 'visual', 'what', 'who', 'with', 'work', 'you']\n"
     ]
    }
   ],
   "source": [
    "\n",
    "# Initialize empty lists to store training data\n",
    "all_words = []  # Will store all unique words from all patterns\n",
    "tags = []  # Will store all unique intent tags\n",
    "xy = []  # Will store (tokenized_pattern, tag) pairs for training\n",
    "\n",
    "# Process each intent from the JSON file\n",
    "for intent in intents['intents']:  # Loop through each intent category\n",
    "    tag = intent['tag']  # Get the intent tag (e.g., 'greeting', 'goodbye')\n",
    "    tags.append(tag)  # Add tag to our tags list\n",
    "    \n",
    "    # Process each pattern (example sentence) for this intent\n",
    "    for pattern in intent['patterns']:  # Loop through each example sentence\n",
    "        w = tokenize(pattern)  # Split sentence into individual words/tokens\n",
    "        all_words.extend(w)  # Add all words from this pattern to our word list\n",
    "        xy.append((w, tag))  # Store the tokenized pattern with its corresponding tag\n",
    "\n",
    "# Define words to ignore during processing (punctuation marks)\n",
    "ignore_words = ['?', '!', ',', '.']\n",
    "\n",
    "# Clean and process the word list\n",
    "all_words = [stem(w) for w in all_words if w not in ignore_words]  # Stem each word and remove ignored words\n",
    "all_words = sorted(set(all_words))  # Remove duplicates and sort alphabetically\n",
    "tags = sorted(set(tags))  # Remove duplicate tags and sort alphabetically\n",
    "\n",
    "# Print statistics about our training data\n",
    "print(len(xy), \"patterns\")  # Total number of training patterns\n",
    "print('\\n', len(tags), \"tags:\", tags)  # Number of unique intent categories\n",
    "print('\\n', len(all_words), \"unique stemmed words:\", all_words)  # Number of unique words in vocabulary"
   ]
  },
  {
   "cell_type": "code",
   "execution_count": null,
   "id": "47f7d28d-f38f-47b3-9c02-e9594fa42fe7",
   "metadata": {},
   "outputs": [],
   "source": [
    "# Create training data arrays for the neural network\n",
    "X_train = []  # Will store bag-of-words vectors (input features)\n",
    "y_train = []  # Will store corresponding labels (output targets)\n",
    "\n",
    "# Convert each pattern into numerical format for training\n",
    "for (pattern_sentence, tag) in xy:  # Loop through each (tokenized_pattern, tag) pair\n",
    "    bag = bag_of_words(pattern_sentence, all_words)  # Convert pattern to bag-of-words vector\n",
    "    X_train.append(bag)  # Add the bag-of-words vector to training inputs\n",
    "\n",
    "    label = tags.index(tag)  # Convert tag name to numerical index (0, 1, 2, etc.)\n",
    "    y_train.append(label)  # Add the numerical label to training targets\n",
    "\n",
    "# Convert lists to numpy arrays for efficient computation\n",
    "X_train = np.array(X_train)  # Convert to numpy array for faster processing\n",
    "y_train = np.array(y_train)  # Convert to numpy array for faster processing"
   ]
  },
  {
   "cell_type": "code",
   "execution_count": null,
   "id": "b2732f7e-7f3a-42f4-98b8-b6d3a787040d",
   "metadata": {},
   "outputs": [],
   "source": [
    "# Custom Dataset class for PyTorch DataLoader\n",
    "class ChatDataset(Dataset):\n",
    "    def __init__(self):\n",
    "        # Initialize dataset with our training data\n",
    "        self.n_samples = len(X_train)  # Total number of training samples\n",
    "        self.x_data = X_train  # Input features (bag-of-words vectors)\n",
    "        self.y_data = y_train  # Target labels (intent indices)\n",
    "\n",
    "    def __getitem__(self, index):\n",
    "        # Return a single training sample (input, target) pair\n",
    "        return self.x_data[index], self.y_data[index]  # Return (features, label) for given index\n",
    "\n",
    "    def __len__(self):\n",
    "        # Return the total number of samples in the dataset\n",
    "        return self.n_samples\n",
    "\n"
   ]
  },
  {
   "cell_type": "code",
   "execution_count": null,
   "id": "da2a754b-b8e8-4986-aea3-8004beee7314",
   "metadata": {},
   "outputs": [],
   "source": [
    "# Define hyperparameters for training the neural network\n",
    "batch_size = 8  # Number of samples processed in each training batch\n",
    "hidden_size = 8  # Number of neurons in the hidden layer\n",
    "output_size = len(tags)  # Number of output classes (intent categories)\n",
    "input_size = len(X_train[0])  # Number of input features (vocabulary size)\n",
    "learning_rate = 0.001  # How fast the model learns (step size for optimization)\n",
    "num_epochs = 1000  # Number of complete passes through the training data\n",
    "\n"
   ]
  },
  {
   "cell_type": "code",
   "execution_count": null,
   "id": "c0ce3516-e127-46eb-9596-03ed3844429c",
   "metadata": {},
   "outputs": [],
   "source": [
    "\n",
    "# Create dataset and data loader for training\n",
    "dataset = ChatDataset()  # Create an instance of our custom dataset\n",
    "train_loader = DataLoader(dataset=dataset, batch_size=batch_size, shuffle=True, num_workers=0)  # Create data loader with batching and shuffling"
   ]
  },
  {
   "cell_type": "code",
   "execution_count": null,
   "id": "b34b3838-5307-44b3-94c8-362b93bbd785",
   "metadata": {},
   "outputs": [],
   "source": [
    "# Set up device for training (GPU if available, otherwise CPU)\n",
    "device = torch.device('cuda' if torch.cuda.is_available() else 'cpu')  # Check if CUDA is available for GPU training\n",
    "model = NeuralNet(input_size, hidden_size, output_size).to(device)  # Create neural network and move it to the device\n"
   ]
  },
  {
   "cell_type": "code",
   "execution_count": null,
   "id": "3a4838f5-6c94-4607-bc12-9506c2e54d0a",
   "metadata": {},
   "outputs": [
    {
     "name": "stdout",
     "output_type": "stream",
     "text": [
      "epoch 100/1000, loss=0.0324\n",
      "epoch 200/1000, loss=0.0028\n",
      "epoch 300/1000, loss=0.0006\n",
      "epoch 400/1000, loss=0.0001\n",
      "epoch 500/1000, loss=0.0001\n",
      "epoch 600/1000, loss=0.0001\n",
      "epoch 700/1000, loss=0.0001\n",
      "epoch 800/1000, loss=0.0000\n",
      "epoch 900/1000, loss=0.0000\n",
      "epoch 1000/1000, loss=0.0000\n",
      "final loss, loss=0.0000\n"
     ]
    }
   ],
   "source": [
    "# Set up loss function and optimizer for training\n",
    "criterion = nn.CrossEntropyLoss()  # Cross-entropy loss for multi-class classification\n",
    "optimizer = torch.optim.Adam(model.parameters(), lr=learning_rate)  # Adam optimizer for updating model weights\n",
    "\n",
    "# Train the model\n",
    "for epoch in range(num_epochs):  # Loop through each training epoch\n",
    "    for (words, labels) in train_loader:  # Loop through each batch of training data\n",
    "        words = words.to(device)  # Move input data to device (GPU/CPU)\n",
    "        labels = labels.to(device)  # Move target labels to device (GPU/CPU)\n",
    "\n",
    "        # Forward pass: compute predictions\n",
    "        outputs = model(words)  # Get model predictions for current batch\n",
    "        loss = criterion(outputs, labels)  # Calculate loss between predictions and actual labels\n",
    "\n",
    "        # Backward pass: compute gradients and update weights\n",
    "        optimizer.zero_grad()  # Clear gradients from previous iteration\n",
    "        loss.backward()  # Compute gradients of loss with respect to model parameters\n",
    "        optimizer.step()  # Update model parameters using computed gradients\n",
    "\n",
    "    # Print training progress every 100 epochs\n",
    "    if (epoch +1) % 100 == 0:\n",
    "        print(f'epoch {epoch+1}/{num_epochs}, loss={loss.item():.4f}')  # Display current epoch and loss\n",
    "print(f'final loss, loss={loss.item():.4f}')  # Print final training loss\n",
    "        \n",
    "        "
   ]
  },
  {
   "cell_type": "code",
   "execution_count": null,
   "id": "d8795e09-8daa-4faa-afba-46f9e34869bb",
   "metadata": {},
   "outputs": [
    {
     "name": "stdout",
     "output_type": "stream",
     "text": [
      "Model successfully saved\n"
     ]
    }
   ],
   "source": [
    "# Save the trained model and related data for later use\n",
    "data = {\n",
    "    \"model_state\": model.state_dict(),  # Save the trained model weights and biases\n",
    "    \"input_size\": input_size,  # Save input layer size (vocabulary size)\n",
    "    \"output_size\": output_size,  # Save output layer size (number of intent categories)\n",
    "    \"hidden_size\": hidden_size,  # Save hidden layer size\n",
    "    \"all_word\": all_words,  # Save the vocabulary (all unique words)\n",
    "    \"tags\": tags  # Save the intent tags list\n",
    "}\n",
    "\n",
    "# Attempt to save the model data to a file\n",
    "try:\n",
    "    FILE = 'data.pth'  # Define the filename for saving\n",
    "    torch.save(data, FILE)  # Save all the data to the file\n",
    "    print('Model successfully saved')  # Confirm successful save\n",
    "except:\n",
    "    print('save unsuccessful')  # Handle any save errors"
   ]
  },
  {
   "cell_type": "code",
   "execution_count": null,
   "id": "e2a4381c-98d7-410e-8846-6f4ccd1ca834",
   "metadata": {},
   "outputs": [],
   "source": []
  }
 ],
 "metadata": {
  "kernelspec": {
   "display_name": "Job Application Bot (NumPy 1.x)",
   "language": "python",
   "name": "job_application_bot"
  },
  "language_info": {
   "codemirror_mode": {
    "name": "ipython",
    "version": 3
   },
   "file_extension": ".py",
   "mimetype": "text/x-python",
   "name": "python",
   "nbconvert_exporter": "python",
   "pygments_lexer": "ipython3",
   "version": "3.12.2"
  }
 },
 "nbformat": 4,
 "nbformat_minor": 5
}
