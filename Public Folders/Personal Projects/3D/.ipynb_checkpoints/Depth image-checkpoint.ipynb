{
 "cells": [
  {
   "cell_type": "markdown",
   "id": "62f26f8e",
   "metadata": {},
   "source": [
    "Follows:  https://www.youtube.com/watch?v=5ypQIUbpA7c"
   ]
  },
  {
   "cell_type": "code",
   "execution_count": 16,
   "id": "e484e09f",
   "metadata": {},
   "outputs": [],
   "source": [
    "import matplotlib\n",
    "matplotlib.use('TkAgg')\n",
    "import matplotlib.pyplot as plt\n",
    "from PIL import Image\n",
    "import torch\n",
    "from transformers import GLPNImageProcessor, GLPNForDepthEstimation\n",
    "import numpy as np\n",
    "import open3d as o3d"
   ]
  },
  {
   "cell_type": "markdown",
   "id": "b9bf75b9",
   "metadata": {},
   "source": [
    "# Model"
   ]
  },
  {
   "cell_type": "code",
   "execution_count": 8,
   "id": "4db8ce69",
   "metadata": {},
   "outputs": [
    {
     "data": {
      "application/vnd.jupyter.widget-view+json": {
       "model_id": "63f4bb298e014cbe99fdea139773f0d1",
       "version_major": 2,
       "version_minor": 0
      },
      "text/plain": [
       "preprocessor_config.json:   0%|          | 0.00/137 [00:00<?, ?B/s]"
      ]
     },
     "metadata": {},
     "output_type": "display_data"
    },
    {
     "data": {
      "application/vnd.jupyter.widget-view+json": {
       "model_id": "27be3be37e77433abebeb92eaf06794a",
       "version_major": 2,
       "version_minor": 0
      },
      "text/plain": [
       "config.json:   0%|          | 0.00/920 [00:00<?, ?B/s]"
      ]
     },
     "metadata": {},
     "output_type": "display_data"
    },
    {
     "data": {
      "application/vnd.jupyter.widget-view+json": {
       "model_id": "b7f679d989ab4d70bf07e1fdf2d4a4b9",
       "version_major": 2,
       "version_minor": 0
      },
      "text/plain": [
       "model.safetensors:   0%|          | 0.00/245M [00:00<?, ?B/s]"
      ]
     },
     "metadata": {},
     "output_type": "display_data"
    }
   ],
   "source": [
    "feature_extractor = GLPNImageProcessor.from_pretrained(\"vinvino02/glpn-nyu\")\n",
    "model = GLPNForDepthEstimation.from_pretrained(\"vinvino02/glpn-nyu\")"
   ]
  },
  {
   "cell_type": "markdown",
   "id": "ee85a126",
   "metadata": {},
   "source": [
    "# Load and Resize Image"
   ]
  },
  {
   "cell_type": "code",
   "execution_count": 11,
   "id": "b462e83d",
   "metadata": {},
   "outputs": [],
   "source": [
    "image = Image.open(\"/Users/emeronmarcelle/Downloads/IMG_8363.jpg\")\n",
    "new_height = 480 if image.height > 480 else image.height\n",
    "new_width = int(new_height * image.width / image.height)\n",
    "diff = new_width % 32\n",
    "\n",
    "new_width = new_width - diff if diff < 16 else new_width + 32 - dff\n",
    "new_size = (new_width, new_height)\n",
    "image = image.resize(new_size)\n"
   ]
  },
  {
   "cell_type": "markdown",
   "id": "b4cf9344",
   "metadata": {},
   "source": [
    "# Prepare the Image"
   ]
  },
  {
   "cell_type": "code",
   "execution_count": 12,
   "id": "f66f43c9",
   "metadata": {},
   "outputs": [],
   "source": [
    "inputs = feature_extractor(images= image, return_tensors='pt')"
   ]
  },
  {
   "cell_type": "markdown",
   "id": "741788c7",
   "metadata": {},
   "source": [
    "# Get prediction from Model"
   ]
  },
  {
   "cell_type": "code",
   "execution_count": 13,
   "id": "ab304fc0",
   "metadata": {},
   "outputs": [],
   "source": [
    "with torch.no_grad():\n",
    "    outputs = model(**inputs)\n",
    "    predicted_depth = outputs.predicted_depth"
   ]
  },
  {
   "cell_type": "markdown",
   "id": "247c6646",
   "metadata": {},
   "source": [
    "# Post-Processing"
   ]
  },
  {
   "cell_type": "code",
   "execution_count": 14,
   "id": "6af8b2d3",
   "metadata": {},
   "outputs": [],
   "source": [
    "pad = 16\n",
    "output = predicted_depth.squeeze().cpu().numpy() * 1000.0\n",
    "output = output[pad:-pad, pad:-pad]\n",
    "image = image.crop((pad, pad, image.width - pad, image.height - pad))"
   ]
  },
  {
   "cell_type": "markdown",
   "id": "3ea2fa3b",
   "metadata": {},
   "source": [
    "# Visualize the prediction"
   ]
  },
  {
   "cell_type": "code",
   "execution_count": 15,
   "id": "3698bf34",
   "metadata": {},
   "outputs": [
    {
     "name": "stderr",
     "output_type": "stream",
     "text": [
      "2024-10-31 14:50:51.146 python[7188:212124] +[IMKClient subclass]: chose IMKClient_Modern\n",
      "2024-10-31 14:50:51.146 python[7188:212124] +[IMKInputSession subclass]: chose IMKInputSession_Modern\n"
     ]
    }
   ],
   "source": [
    "fig, ax = plt.subplots(1,2)\n",
    "ax[0].imshow(image)\n",
    "ax[0].tick_params(left=False, bottom=False, labelleft=False, labelbottom= False)\n",
    "ax[1].imshow(output, cmap='plasma')\n",
    "ax[1].tick_params(left=False, bottom=False, labelleft=False, labelbottom=False)\n",
    "plt.tight_layout()\n",
    "plt.pause(5)"
   ]
  },
  {
   "cell_type": "markdown",
   "id": "9da4a1ec",
   "metadata": {},
   "source": [
    "# Prepare the depth image for open3d"
   ]
  },
  {
   "cell_type": "code",
   "execution_count": 17,
   "id": "a8771d85",
   "metadata": {},
   "outputs": [],
   "source": [
    "width, height = image.size\n",
    "depth_image = (output * 255 / np.max(output)).astype('uint8')\n",
    "image = np.array(image)"
   ]
  },
  {
   "cell_type": "code",
   "execution_count": 18,
   "id": "593a45c2",
   "metadata": {},
   "outputs": [],
   "source": [
    "#create rgbd image\n",
    "depth_o3d = o3d.geometry.Image(depth_image)\n",
    "image_o3d = o3d.geometry.Image(image)\n",
    "rgbd_image = o3d.geometry.RGBDImage.create_from_color_and_depth(image_o3d,depth_o3d,\n",
    "                                                                convert_rgb_to_intensity=False)\n"
   ]
  },
  {
   "cell_type": "markdown",
   "id": "91792357",
   "metadata": {},
   "source": [
    "# Creating Camera"
   ]
  },
  {
   "cell_type": "code",
   "execution_count": 19,
   "id": "e45a102c",
   "metadata": {},
   "outputs": [],
   "source": [
    "camera_intrisic = o3d.camera.PinholeCameraIntrinsic()\n",
    "camera_intrisic.set_intrinsics(width, height, 500, 500, width/2, height/2)"
   ]
  },
  {
   "cell_type": "markdown",
   "id": "ec487948",
   "metadata": {},
   "source": [
    "# Creating o3d point cloud"
   ]
  },
  {
   "cell_type": "code",
   "execution_count": 22,
   "id": "d3684404",
   "metadata": {},
   "outputs": [],
   "source": [
    "pcd_raw = o3d.geometry.PointCloud.create_from_rgbd_image(rgbd_image,camera_intrisic)\n",
    "#Visualize the 3d image\n",
    "o3d.visualization.draw_geometries([pcd_raw])"
   ]
  },
  {
   "cell_type": "markdown",
   "id": "2dfcbd8f",
   "metadata": {},
   "source": [
    "# Post-processing the 3D Point Cloud"
   ]
  },
  {
   "cell_type": "code",
   "execution_count": 28,
   "id": "0845c74d",
   "metadata": {},
   "outputs": [],
   "source": [
    "#outlier removal\n",
    "#adjust std_ratio for better performance\n",
    "cl, ind = pcd_raw.remove_statistical_outlier(nb_neighbors=20, std_ratio=20.0)\n",
    "pcd = pcd_raw.select_by_index(ind)\n",
    "\n",
    "#estiamte normals\n",
    "pcd.estimate_normals()\n",
    "pcd.orient_normals_to_align_with_direction()\n",
    "#Rerun visualization with outlier removal\n",
    "o3d.visualization.draw_geometries([pcd])"
   ]
  },
  {
   "cell_type": "markdown",
   "id": "fd786dc0",
   "metadata": {},
   "source": [
    "# Surface reconstruction"
   ]
  },
  {
   "cell_type": "code",
   "execution_count": 33,
   "id": "d0e41c5e",
   "metadata": {},
   "outputs": [],
   "source": [
    "mesh = o3d.geometry.TriangleMesh.create_from_point_cloud_poisson(pcd, depth=10, n_threads=1)[0]\n",
    "\n",
    "# rotate the mesh\n",
    "rotation = mesh.get_rotation_matrix_from_xyz((np.pi, 0, 0))\n",
    "mesh.rotate(rotation, center=(0, 0, 0))\n",
    "\n",
    "# visualizevisualizationizationualizatione mesh\n",
    "o3d.visualization.draw_geometries([mesh], mesh_show_back_face=True)"
   ]
  },
  {
   "cell_type": "code",
   "execution_count": null,
   "id": "32152b3b",
   "metadata": {},
   "outputs": [],
   "source": []
  }
 ],
 "metadata": {
  "kernelspec": {
   "display_name": "Python 3 (ipykernel)",
   "language": "python",
   "name": "python3"
  },
  "language_info": {
   "codemirror_mode": {
    "name": "ipython",
    "version": 3
   },
   "file_extension": ".py",
   "mimetype": "text/x-python",
   "name": "python",
   "nbconvert_exporter": "python",
   "pygments_lexer": "ipython3",
   "version": "3.11.7"
  }
 },
 "nbformat": 4,
 "nbformat_minor": 5
}
