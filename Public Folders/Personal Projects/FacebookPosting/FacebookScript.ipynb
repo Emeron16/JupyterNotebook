{
 "cells": [
  {
   "cell_type": "code",
   "execution_count": 71,
   "id": "fc1c5a7e",
   "metadata": {},
   "outputs": [],
   "source": [
    "import pandas as pd\n",
    "import time\n",
    "from datetime import datetime\n",
    "from selenium import webdriver\n",
    "from selenium.webdriver.common.by import By\n",
    "from selenium.webdriver.common.keys import Keys\n",
    "import schedule\n",
    "import os\n",
    "from selenium import webdriver\n",
    "from selenium.webdriver.chrome.options import Options\n",
    "from selenium.webdriver.support.ui import WebDriverWait\n",
    "from selenium.webdriver.support import expected_conditions as EC\n",
    "from dotenv import load_dotenv"
   ]
  },
  {
   "cell_type": "markdown",
   "id": "d569af4a-9d48-440a-8f30-484cab9c1059",
   "metadata": {},
   "source": [
    "# Run in terminal\n",
    "/Applications/Google\\ Chrome.app/Contents/MacOS/Google\\ Chrome --remote-debugging-port=9222 --user-data-dir=\"/tmp/chrome-debug\" "
   ]
  },
  {
   "cell_type": "code",
   "execution_count": 73,
   "id": "37ce5b81-b97d-4b7f-bfcc-22f9aa231e56",
   "metadata": {},
   "outputs": [],
   "source": [
    "# Load environment variables from .env file\n",
    "load_dotenv()\n",
    "# Facebook credentials (use env vars in production)\n",
    "EMAIL = os.environ.get('EMAIL')\n",
    "PASSWORD = os.environ.get('PASSWORD')"
   ]
  },
  {
   "cell_type": "code",
   "execution_count": 97,
   "id": "ce8f46cc-6114-49b9-8442-f2209aa85494",
   "metadata": {},
   "outputs": [
    {
     "name": "stderr",
     "output_type": "stream",
     "text": [
      "/var/folders/p8/5y8nk565329f4nf8lyxjhv1w0000gn/T/ipykernel_30157/1567821209.py:44: FutureWarning: Setting an item of incompatible dtype is deprecated and will raise an error in a future version of pandas. Value '2025-06-09 00:00:00\n",
      "07-09-2025 19:14' has dtype incompatible with datetime64[ns], please explicitly cast to a compatible dtype first.\n",
      "  df.at[idx, 'date'] = new_date\n"
     ]
    },
    {
     "name": "stdout",
     "output_type": "stream",
     "text": [
      "✅ Posted to https://www.facebook.com/groups/kickstarterprojects\n",
      "All posts completed and Excel updated.\n"
     ]
    }
   ],
   "source": [
    "\n",
    "# Load your Excel file\n",
    "df = pd.read_excel('KickstarterFacebookPost.xlsx')\n",
    "\n",
    "options = Options()\n",
    "options.add_experimental_option(\"debuggerAddress\", \"localhost:9222\")\n",
    "driver = webdriver.Chrome(options=options)\n",
    "\n",
    "def clean_non_bmp(text):\n",
    "    return ''.join(c if ord(c) <= 0xFFFF else '�' for c in text)\n",
    "\n",
    "def post_to_group(group_link, message):\n",
    "    driver.get(group_link)\n",
    "    safe_message = clean_non_bmp(message)\n",
    "\n",
    "\n",
    "    try:\n",
    "        # Wait for the post box to be clickable\n",
    "        wait = WebDriverWait(driver, 15)\n",
    "\n",
    "        # Find a div that is clickable and matches the post box\n",
    "        post_click_box = wait.until(EC.element_to_be_clickable(\n",
    "            (By.XPATH, \"//div[@role='button' and (contains(., \\\"Write something\\\") or contains(., \\\"What's on your mind\\\"))]\")\n",
    "        ))\n",
    "        post_click_box.click()\n",
    "        time.sleep(2)\n",
    "\n",
    "        # Wait for the active textbox to be ready for input\n",
    "        text_area = wait.until(EC.presence_of_element_located(\n",
    "            (By.XPATH, \"//div[@role='dialog']//div[@role='textbox']\")\n",
    "        ))\n",
    "        text_area.send_keys(safe_message)\n",
    "        time.sleep(2)\n",
    "\n",
    "        # Find and click the Post button\n",
    "        post_button = wait.until(EC.element_to_be_clickable(\n",
    "            (By.XPATH, \"//div[@aria-label='Post']\")\n",
    "        ))\n",
    "        post_button.click()\n",
    "\n",
    "        \n",
    "        # Append new date to existing 'date' field (as a string, newline-separated)\n",
    "        prev_date = str(row['date']) if pd.notna(row['date']) else \"\"\n",
    "        new_date = f\"{prev_date}\\n{today_str}\" if prev_date else today_str\n",
    "        df.at[idx, 'date'] = new_date\n",
    "    \n",
    "        # Increment count field, defaulting to 1 if empty\n",
    "        prev_count = row['count'] if pd.notna(row['count']) else 0\n",
    "        df.at[idx, 'count'] = int(prev_count) + 1\n",
    "        \n",
    "        print(f\"✅ Posted to {group_link}\")\n",
    "\n",
    "\n",
    "        time.sleep(5)\n",
    "    except Exception as e:\n",
    "        print(f\"❌ Failed to post to {group_link}: {e}\")\n",
    "\n",
    "\n",
    "if __name__ == \"__main__\":\n",
    "    today_str = datetime.now().strftime('%m-%d-%Y %H:%M')\n",
    "    for idx, row in df.iterrows():\n",
    "        group_link = row['group_link']\n",
    "        # switch between 'long_post', 'short_post', 'concise_post'\n",
    "        message = row['short_post']\n",
    "        post_to_group(group_link, message)\n",
    "\n",
    "\n",
    "    df.to_excel('KickstarterFacebookPost.xlsx', index=False)\n",
    "    print('All posts completed and Excel updated.')\n"
   ]
  },
  {
   "cell_type": "code",
   "execution_count": 105,
   "id": "44b4c4db",
   "metadata": {},
   "outputs": [
    {
     "data": {
      "text/html": [
       "<div>\n",
       "<style scoped>\n",
       "    .dataframe tbody tr th:only-of-type {\n",
       "        vertical-align: middle;\n",
       "    }\n",
       "\n",
       "    .dataframe tbody tr th {\n",
       "        vertical-align: top;\n",
       "    }\n",
       "\n",
       "    .dataframe thead th {\n",
       "        text-align: right;\n",
       "    }\n",
       "</style>\n",
       "<table border=\"1\" class=\"dataframe\">\n",
       "  <thead>\n",
       "    <tr style=\"text-align: right;\">\n",
       "      <th></th>\n",
       "      <th>group_link</th>\n",
       "      <th>date</th>\n",
       "      <th>long_post</th>\n",
       "      <th>short_post</th>\n",
       "      <th>concise_post</th>\n",
       "      <th>count</th>\n",
       "    </tr>\n",
       "  </thead>\n",
       "  <tbody>\n",
       "    <tr>\n",
       "      <th>0</th>\n",
       "      <td>https://www.facebook.com/groups/1669940083272033</td>\n",
       "      <td>2025-06-09</td>\n",
       "      <td>🚨 Family: Reconnect. Rediscover. Rebuild Your ...</td>\n",
       "      <td>https://www.kickstarter.com/projects/214456860...</td>\n",
       "      <td>https://www.kickstarter.com/projects/214456860...</td>\n",
       "      <td>0.0</td>\n",
       "    </tr>\n",
       "    <tr>\n",
       "      <th>1</th>\n",
       "      <td>NaN</td>\n",
       "      <td>NaT</td>\n",
       "      <td>Hi everyone! I just launched my passion projec...</td>\n",
       "      <td>Just launched my passion project — Affinite — ...</td>\n",
       "      <td>I just launched Affinite — a new app to connec...</td>\n",
       "      <td>NaN</td>\n",
       "    </tr>\n",
       "    <tr>\n",
       "      <th>2</th>\n",
       "      <td>NaN</td>\n",
       "      <td>NaT</td>\n",
       "      <td>Now you might be thinking: “How is this differ...</td>\n",
       "      <td>NaN</td>\n",
       "      <td>NaN</td>\n",
       "      <td>NaN</td>\n",
       "    </tr>\n",
       "    <tr>\n",
       "      <th>3</th>\n",
       "      <td>NaN</td>\n",
       "      <td>NaT</td>\n",
       "      <td>Note: The idea came from a real need: I was se...</td>\n",
       "      <td>Unlike Ancestry or Facebook, Affinite lets you:</td>\n",
       "      <td>We’re live on Kickstarter — every backer counts!</td>\n",
       "      <td>NaN</td>\n",
       "    </tr>\n",
       "    <tr>\n",
       "      <th>4</th>\n",
       "      <td>NaN</td>\n",
       "      <td>NaT</td>\n",
       "      <td>So I created Affinite — a smart, interactive f...</td>\n",
       "      <td>- Share family photos &amp; stories</td>\n",
       "      <td>NaN</td>\n",
       "      <td>NaN</td>\n",
       "    </tr>\n",
       "  </tbody>\n",
       "</table>\n",
       "</div>"
      ],
      "text/plain": [
       "                                         group_link       date  \\\n",
       "0  https://www.facebook.com/groups/1669940083272033 2025-06-09   \n",
       "1                                               NaN        NaT   \n",
       "2                                               NaN        NaT   \n",
       "3                                               NaN        NaT   \n",
       "4                                               NaN        NaT   \n",
       "\n",
       "                                           long_post  \\\n",
       "0  🚨 Family: Reconnect. Rediscover. Rebuild Your ...   \n",
       "1  Hi everyone! I just launched my passion projec...   \n",
       "2  Now you might be thinking: “How is this differ...   \n",
       "3  Note: The idea came from a real need: I was se...   \n",
       "4  So I created Affinite — a smart, interactive f...   \n",
       "\n",
       "                                          short_post  \\\n",
       "0  https://www.kickstarter.com/projects/214456860...   \n",
       "1  Just launched my passion project — Affinite — ...   \n",
       "2                                                NaN   \n",
       "3    Unlike Ancestry or Facebook, Affinite lets you:   \n",
       "4                   - Share family photos & stories    \n",
       "\n",
       "                                        concise_post  count  \n",
       "0  https://www.kickstarter.com/projects/214456860...    0.0  \n",
       "1  I just launched Affinite — a new app to connec...    NaN  \n",
       "2                                                NaN    NaN  \n",
       "3  We’re live on Kickstarter — every backer counts!     NaN  \n",
       "4                                                NaN    NaN  "
      ]
     },
     "execution_count": 105,
     "metadata": {},
     "output_type": "execute_result"
    }
   ],
   "source": [
    "# Load your Excel file\n",
    "df = pd.read_excel('KickstarterFacebookPost.xlsx')\n",
    "\n",
    "df.head()"
   ]
  },
  {
   "cell_type": "code",
   "execution_count": 22,
   "id": "6376d4ff",
   "metadata": {},
   "outputs": [
    {
     "name": "stdout",
     "output_type": "stream",
     "text": [
      "https://www.facebook.com/groups/863054980482454 🚨 👨‍👩‍👧‍👦 Reconnect. Rediscover. Rebuild Your Family Bonds. 💞\n",
      "Hi everyone! I just launched my passion project — Affinite, a modern family connection app that makes it easy to discover, connect, and stay in touch with both immediate and distant relatives.\n",
      "Now you might be thinking: “How is this different from Ancestry or Facebook?”\n",
      "👉 The idea came from a real need: I was searching for relatives in Engineering field — hoping someone in my family could guide me — but quickly realized: There’s no simple way to search your own family network for help, connection, or support.\n",
      "So I created Affinite — a smart, interactive family tree that doesn’t just show you who you’re connected to — but helps you build real relationships through:\n",
      "✅ Photo & story sharing ✅ Family event planning with RSVPs ✅ Searchable family interests & career paths ✅ Private + group messaging ✅ Fun family trivia to learn and bond ...and so much more.\n",
      "⚠️ We’re in the critical first 7 days of our Kickstarter campaign — when early momentum can determine whether this dream becomes reality.\n",
      "📌 Back the campaign today — even a $5 pledge helps us rise in the rankings! 📲 https://www.kickstarter.com/projects/2144568603/affinite-the-family-connection-app\n",
      "(And you’ll unlock exclusive early access + family-first features.)\n",
      "❤️ If you believe tech should bring families closer... ❤️ If you’ve ever wished you could really know your extended relatives... ❤️ If you just want to support a meaningful, human-driven mission...\n",
      "Then I’d love your support.\n",
      "If you'd like to watch a short Youtube demo of the app: https://www.youtube.com/watch?v=TQ3C1b5euaA\n",
      "Let’s build a world where family connection is effortless — no matter the distance. 💫\n",
      "#Affinite #Kickstarter #FamilyApp #FamilyFirst #SupportSmallProjects #ReconnectNow\n"
     ]
    }
   ],
   "source": [
    "    for idx, row in df.iterrows():\n",
    "        group_link = row['group_link']\n",
    "        message = row['short_post']           # switch between 'long_post', 'short_post', 'concise_post'\n",
    "        print(group_link, message)"
   ]
  },
  {
   "cell_type": "code",
   "execution_count": 34,
   "id": "73a048d5-6d35-4f6d-98e6-4fa967c04088",
   "metadata": {},
   "outputs": [
    {
     "name": "stdout",
     "output_type": "stream",
     "text": [
      "~$KickstarterFacebookPost.xlsx  KickstarterFacebookPost.gsheet\n",
      "FacebookScript.ipynb            KickstarterFacebookPost.xlsx\n"
     ]
    }
   ],
   "source": [
    "ls"
   ]
  },
  {
   "cell_type": "code",
   "execution_count": 36,
   "id": "3cf8edf8-fe2d-4b99-b734-eae8644f9255",
   "metadata": {},
   "outputs": [
    {
     "name": "stdout",
     "output_type": "stream",
     "text": [
      "[Errno 20] Not a directory: '.env'\n",
      "/Users/princemarcelle/Library/CloudStorage/GoogleDrive-emeronit@gmail.com/My Drive/Jupyter Notebook/Public Folders/Personal Projects/FacebookPosting\n"
     ]
    }
   ],
   "source": [
    "cd .env\n"
   ]
  },
  {
   "cell_type": "code",
   "execution_count": null,
   "id": "90473c5e-e71a-4b16-a382-262242028c3a",
   "metadata": {},
   "outputs": [],
   "source": []
  }
 ],
 "metadata": {
  "kernelspec": {
   "display_name": "Python [conda env:base] *",
   "language": "python",
   "name": "conda-base-py"
  },
  "language_info": {
   "codemirror_mode": {
    "name": "ipython",
    "version": 3
   },
   "file_extension": ".py",
   "mimetype": "text/x-python",
   "name": "python",
   "nbconvert_exporter": "python",
   "pygments_lexer": "ipython3",
   "version": "3.12.2"
  }
 },
 "nbformat": 4,
 "nbformat_minor": 5
}
