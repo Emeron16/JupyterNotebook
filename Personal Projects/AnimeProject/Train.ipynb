{
 "cells": [
  {
   "cell_type": "code",
   "execution_count": 25,
   "id": "db295876",
   "metadata": {},
   "outputs": [],
   "source": [
    "import pandas as pd\n",
    "import numpy as np\n",
    "import matplotlib.pyplot as plt\n",
    "import seaborn as sns\n",
    "from sklearn.model_selection import train_test_split\n"
   ]
  },
  {
   "cell_type": "code",
   "execution_count": 22,
   "id": "c0248e60",
   "metadata": {},
   "outputs": [
    {
     "name": "stdout",
     "output_type": "stream",
     "text": [
      "<class 'pandas.core.frame.DataFrame'>\n",
      "Index: 15489 entries, 0 to 15488\n",
      "Data columns (total 11 columns):\n",
      " #   Column           Non-Null Count  Dtype         \n",
      "---  ------           --------------  -----         \n",
      " 0   Name             15489 non-null  object        \n",
      " 1   Rank             15312 non-null  float64       \n",
      " 2   Rating           15489 non-null  float64       \n",
      " 3   Release_year     15469 non-null  datetime64[ns]\n",
      " 4   Episodes         8227 non-null   float64       \n",
      " 5   Type             15312 non-null  object        \n",
      " 6   Studio           11132 non-null  object        \n",
      " 7   Tags             15132 non-null  object        \n",
      " 8   staff            11776 non-null  object        \n",
      " 9   Content_Warning  1806 non-null   object        \n",
      " 10  Good_Anime       15489 non-null  int64         \n",
      "dtypes: datetime64[ns](1), float64(3), int64(1), object(6)\n",
      "memory usage: 1.4+ MB\n"
     ]
    }
   ],
   "source": [
    "df = pd.read_csv('Test_Train_Staff.csv', index_col=0)\n",
    "df['Release_year'] = pd.to_datetime(df['Release_year'] )\n",
    "df.info()"
   ]
  },
  {
   "cell_type": "code",
   "execution_count": 26,
   "id": "d8a4b3a5",
   "metadata": {},
   "outputs": [],
   "source": [
    "#Type column is an ordinal attribute so we will use oneHotEncoder for translation\n",
    "from sklearn.preprocessing import OneHotEncoder\n",
    "encoder_for_tag = OneHotEncoder().fit(df[['Type']])"
   ]
  },
  {
   "cell_type": "code",
   "execution_count": null,
   "id": "6358c354",
   "metadata": {},
   "outputs": [],
   "source": []
  }
 ],
 "metadata": {
  "kernelspec": {
   "display_name": "Python 3 (ipykernel)",
   "language": "python",
   "name": "python3"
  },
  "language_info": {
   "codemirror_mode": {
    "name": "ipython",
    "version": 3
   },
   "file_extension": ".py",
   "mimetype": "text/x-python",
   "name": "python",
   "nbconvert_exporter": "python",
   "pygments_lexer": "ipython3",
   "version": "3.11.7"
  }
 },
 "nbformat": 4,
 "nbformat_minor": 5
}
