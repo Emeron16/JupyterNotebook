{
 "cells": [
  {
   "cell_type": "markdown",
   "id": "f1030115",
   "metadata": {},
   "source": [
    "# Example1"
   ]
  },
  {
   "cell_type": "code",
   "execution_count": 2,
   "id": "c0ed3b79",
   "metadata": {},
   "outputs": [],
   "source": [
    "    x = 1\n",
    "    y = 1\n",
    "    z = 1\n",
    "    n = 2"
   ]
  },
  {
   "cell_type": "code",
   "execution_count": 1,
   "id": "023dd907",
   "metadata": {},
   "outputs": [
    {
     "name": "stdout",
     "output_type": "stream",
     "text": [
      "[[1, 4], [1, 5], [1, 6], [2, 4], [2, 5], [2, 6], [3, 4], [3, 5], [3, 6]]\n"
     ]
    }
   ],
   "source": [
    "print([[x, y] for x in [1, 2, 3] for y in [4, 5, 6]])"
   ]
  },
  {
   "cell_type": "code",
   "execution_count": 14,
   "id": "947f861b",
   "metadata": {},
   "outputs": [
    {
     "name": "stdout",
     "output_type": "stream",
     "text": [
      "[[0, 1], [1, 1], [2, 1], [3, 1], [4, 1], [5, 1], [6, 1]]\n"
     ]
    }
   ],
   "source": [
    "print([[x, y] for x in range(7)])"
   ]
  },
  {
   "cell_type": "code",
   "execution_count": 16,
   "id": "18fea8b1",
   "metadata": {},
   "outputs": [
    {
     "name": "stdout",
     "output_type": "stream",
     "text": [
      "[[0, 0], [0, 1], [1, 0], [1, 1], [2, 0], [2, 1], [3, 0], [3, 1], [4, 0], [4, 1], [5, 0], [5, 1], [6, 0], [6, 1]]\n"
     ]
    }
   ],
   "source": [
    "print([[x, y] for x in range(7) for y in range(2)])"
   ]
  },
  {
   "cell_type": "markdown",
   "id": "36208c37",
   "metadata": {},
   "source": [
    "# Example2"
   ]
  },
  {
   "cell_type": "code",
   "execution_count": 1,
   "id": "b509acc1",
   "metadata": {},
   "outputs": [],
   "source": [
    "#Gets the second smallest element\n",
    "arr =  [1,2,3,5,6]"
   ]
  },
  {
   "cell_type": "code",
   "execution_count": 21,
   "id": "6c4cd6e3",
   "metadata": {},
   "outputs": [
    {
     "name": "stdout",
     "output_type": "stream",
     "text": [
      "[5]\n"
     ]
    }
   ],
   "source": [
    "result =[[arr[x-1]] for x in range(len(arr)-1, 0, -1) if arr[x] > arr[x-1] ]\n",
    "print( result[0] )\n"
   ]
  },
  {
   "cell_type": "code",
   "execution_count": 20,
   "id": "71d7ee98",
   "metadata": {},
   "outputs": [
    {
     "name": "stdout",
     "output_type": "stream",
     "text": [
      "5\n"
     ]
    }
   ],
   "source": [
    "first_element = next((arr[x-1] for x in range(len(arr)-1, 0, -1) if arr[x] > arr[x-1]), None)\n",
    "print( first_element )"
   ]
  },
  {
   "cell_type": "markdown",
   "id": "d44088e7",
   "metadata": {},
   "source": [
    "# Example3"
   ]
  },
  {
   "cell_type": "code",
   "execution_count": 139,
   "id": "a499a0d6",
   "metadata": {},
   "outputs": [],
   "source": [
    "arr =  [1,2,3,5,6]\n"
   ]
  },
  {
   "cell_type": "code",
   "execution_count": 144,
   "id": "27bf4a6f",
   "metadata": {},
   "outputs": [
    {
     "name": "stdout",
     "output_type": "stream",
     "text": [
      "17\n"
     ]
    }
   ],
   "source": [
    "total = sum([s for s in arr]) #note you can also use: total = sum(arr) \n",
    "print(total)  "
   ]
  },
  {
   "cell_type": "markdown",
   "id": "7e3700fb",
   "metadata": {},
   "source": [
    "# Example4"
   ]
  },
  {
   "cell_type": "code",
   "execution_count": 178,
   "id": "05b714ff",
   "metadata": {},
   "outputs": [],
   "source": [
    "l = '12 -9 61 5 -14'"
   ]
  },
  {
   "cell_type": "code",
   "execution_count": 179,
   "id": "8f593f52",
   "metadata": {},
   "outputs": [
    {
     "name": "stdout",
     "output_type": "stream",
     "text": [
      "[12, -9, 61, 5, -14]\n"
     ]
    }
   ],
   "source": [
    "ans=list(map(int, l.rstrip().split()))\n",
    "print(ans)"
   ]
  },
  {
   "cell_type": "code",
   "execution_count": 184,
   "id": "378ae4a6",
   "metadata": {},
   "outputs": [
    {
     "data": {
      "text/plain": [
       "False"
      ]
     },
     "execution_count": 184,
     "metadata": {},
     "output_type": "execute_result"
    }
   ],
   "source": [
    "print(all(x>0 for x in ans))"
   ]
  },
  {
   "cell_type": "markdown",
   "id": "3e03275f",
   "metadata": {},
   "source": [
    "#Example5"
   ]
  },
  {
   "cell_type": "code",
   "execution_count": 203,
   "id": "ccbddad8",
   "metadata": {},
   "outputs": [],
   "source": [
    "string = 'Sorting1234'"
   ]
  },
  {
   "cell_type": "code",
   "execution_count": 205,
   "id": "2be1d4ea",
   "metadata": {},
   "outputs": [
    {
     "name": "stdout",
     "output_type": "stream",
     "text": [
      "ortingS13\n"
     ]
    }
   ],
   "source": [
    "ans = ''\n",
    "ans += ''.join(x for x in string if x.islower()) \n",
    "ans += ''.join(x for x in string if x.isupper())\n",
    "ans += ''.join(x for x in string if x.isdigit() if int(x) % 2 != 0)\n",
    "print(ans)"
   ]
  },
  {
   "cell_type": "code",
   "execution_count": null,
   "id": "759aaeac",
   "metadata": {},
   "outputs": [],
   "source": []
  },
  {
   "cell_type": "code",
   "execution_count": null,
   "id": "af802cb6",
   "metadata": {},
   "outputs": [],
   "source": []
  }
 ],
 "metadata": {
  "kernelspec": {
   "display_name": "Python 3 (ipykernel)",
   "language": "python",
   "name": "python3"
  },
  "language_info": {
   "codemirror_mode": {
    "name": "ipython",
    "version": 3
   },
   "file_extension": ".py",
   "mimetype": "text/x-python",
   "name": "python",
   "nbconvert_exporter": "python",
   "pygments_lexer": "ipython3",
   "version": "3.11.7"
  }
 },
 "nbformat": 4,
 "nbformat_minor": 5
}
