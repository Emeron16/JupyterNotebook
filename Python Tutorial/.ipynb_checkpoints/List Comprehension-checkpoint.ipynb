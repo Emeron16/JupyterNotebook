{
 "cells": [
  {
   "cell_type": "markdown",
   "id": "f1030115",
   "metadata": {},
   "source": [
    "# Example1"
   ]
  },
  {
   "cell_type": "code",
   "execution_count": null,
   "id": "c0ed3b79",
   "metadata": {},
   "outputs": [],
   "source": [
    "    x = 1\n",
    "    y = 1\n",
    "    z = 1\n",
    "    n = 2"
   ]
  },
  {
   "cell_type": "code",
   "execution_count": null,
   "id": "023dd907",
   "metadata": {},
   "outputs": [],
   "source": [
    "print([[x, y] for x in [1, 2, 3] for y in [4, 5, 6]])\n",
    "\n",
    "# also equivalent to:\n",
    "\n",
    "#Use 2 for loops in one list comp.\n",
    "arr =  [1,2,3,5,6]\n",
    "arr2 = [7,2,3,5,6]\n",
    "\n",
    "#creates a tuple of combination\n",
    "combinedTuple = [(x,y) for x in arr for y in arr2]\n",
    "print(combinedTuple)"
   ]
  },
  {
   "cell_type": "code",
   "execution_count": null,
   "id": "947f861b",
   "metadata": {},
   "outputs": [],
   "source": [
    "print([[x, y] for x in range(7)])"
   ]
  },
  {
   "cell_type": "code",
   "execution_count": null,
   "id": "18fea8b1",
   "metadata": {},
   "outputs": [],
   "source": [
    "print([[x, y] for x in range(7) for y in range(2)])"
   ]
  },
  {
   "cell_type": "markdown",
   "id": "36208c37",
   "metadata": {},
   "source": [
    "# Example2"
   ]
  },
  {
   "cell_type": "code",
   "execution_count": null,
   "id": "b509acc1",
   "metadata": {},
   "outputs": [],
   "source": [
    "#Gets the second smallest element\n",
    "arr =  [1,2,3,5,6]"
   ]
  },
  {
   "cell_type": "code",
   "execution_count": null,
   "id": "6c4cd6e3",
   "metadata": {},
   "outputs": [],
   "source": [
    "result =[[arr[x-1]] for x in range(len(arr)-1, 0, -1) if arr[x] > arr[x-1] ]\n",
    "print( result[0] )\n"
   ]
  },
  {
   "cell_type": "code",
   "execution_count": null,
   "id": "71d7ee98",
   "metadata": {},
   "outputs": [],
   "source": [
    "first_element = next((arr[x-1] for x in range(len(arr)-1, 0, -1) if arr[x] > arr[x-1]), None)\n",
    "print( first_element )"
   ]
  },
  {
   "cell_type": "markdown",
   "id": "9a141143",
   "metadata": {},
   "source": [
    "# Example3 Sum"
   ]
  },
  {
   "cell_type": "code",
   "execution_count": null,
   "id": "a9a16fc5",
   "metadata": {},
   "outputs": [],
   "source": [
    "arr =  [1,2,3,5,6]\n"
   ]
  },
  {
   "cell_type": "code",
   "execution_count": null,
   "id": "6fbe8418",
   "metadata": {},
   "outputs": [],
   "source": [
    "total = sum([s for s in arr]) #note you can also use: total = sum(arr) \n",
    "print(total)  \n",
    "\n",
    "string = 'abcdef'\n",
    "sub_string = 'def'\n",
    "#Returns the amount of time the substring appear in the string\n",
    "count = sum(1 for n in range(len(string) - len(sub_string) + 1) \n",
    "            if string[n:n+len(sub_string)] == sub_string)\n",
    "print(count)"
   ]
  },
  {
   "cell_type": "markdown",
   "id": "3fae1c07",
   "metadata": {},
   "source": [
    "# Example4 List/Map"
   ]
  },
  {
   "cell_type": "code",
   "execution_count": null,
   "id": "e331d1d7",
   "metadata": {},
   "outputs": [],
   "source": [
    "l = '12 -9 61 5 -14'"
   ]
  },
  {
   "cell_type": "code",
   "execution_count": null,
   "id": "99ded94a",
   "metadata": {},
   "outputs": [],
   "source": [
    "ans=list(map(int, l.rstrip().split()))\n",
    "print(ans)"
   ]
  },
  {
   "cell_type": "code",
   "execution_count": null,
   "id": "da7a7d8d",
   "metadata": {},
   "outputs": [],
   "source": [
    "print(all(x>0 for x in ans))"
   ]
  },
  {
   "cell_type": "markdown",
   "id": "85654639",
   "metadata": {},
   "source": [
    "# Example5 Sorted"
   ]
  },
  {
   "cell_type": "code",
   "execution_count": null,
   "id": "4a8f52c9",
   "metadata": {},
   "outputs": [],
   "source": [
    "string = 'Sorting1234'"
   ]
  },
  {
   "cell_type": "code",
   "execution_count": null,
   "id": "3a4ff9d6",
   "metadata": {},
   "outputs": [],
   "source": [
    "ans = ''\n",
    "temp = ''\n",
    "temp = sorted(''.join(x for x in string if x.islower()))\n",
    "ans = ''.join(temp)\n",
    "temp = sorted(''.join(x for x in string if x.isupper()))\n",
    "ans += ''.join(temp)\n",
    "temp = sorted(''.join(x for x in string if x.isdigit() if int(x) % 2 != 0))\n",
    "ans += ''.join(temp)\n",
    "temp = sorted(''.join(x for x in string if x.isdigit() if int(x) % 2 == 0))\n",
    "ans += ''.join(temp)\n",
    "\n",
    "print(ans)"
   ]
  },
  {
   "cell_type": "markdown",
   "id": "bf4291e0",
   "metadata": {},
   "source": [
    "# Example6 Index"
   ]
  },
  {
   "cell_type": "code",
   "execution_count": null,
   "id": "30a8b256",
   "metadata": {},
   "outputs": [],
   "source": [
    "# Sample records\n",
    "records = [\n",
    "    [1, '2024-05-16', 'John Doe', 'Emma', 'Female'],\n",
    "    [2, '2024-05-16', 'Jane Smith', 'Liam', 'Male'],\n",
    "    [3, '2024-05-16', 'Alex Johnson', 'Olivia', 'Female'],\n",
    "    [4, '2024-05-16', 'Chris Lee', 'Noah', 'Male'],\n",
    "    # ... more records\n",
    "]\n",
    "\n",
    "# Using list comprehension to extract the fourth element (names) from each row\n",
    "baby_names = [row[3] for row in records]\n",
    "\n",
    "# Output the result\n",
    "print(baby_names)"
   ]
  },
  {
   "cell_type": "code",
   "execution_count": null,
   "id": "7f358c40",
   "metadata": {},
   "outputs": [],
   "source": [
    "records[2]\n"
   ]
  },
  {
   "cell_type": "markdown",
   "id": "3f766e35",
   "metadata": {},
   "source": [
    "# Example 7 Print"
   ]
  },
  {
   "cell_type": "code",
   "execution_count": 1,
   "id": "ebe15c82",
   "metadata": {},
   "outputs": [
    {
     "name": "stdout",
     "output_type": "stream",
     "text": [
      "ac\n",
      "ah\n",
      "ak\n",
      "ca\n",
      "ch\n",
      "ck\n",
      "ha\n",
      "hc\n",
      "hk\n",
      "ka\n",
      "kc\n",
      "kh\n"
     ]
    },
    {
     "data": {
      "text/plain": [
       "[None, None, None, None, None, None, None, None, None, None, None, None]"
      ]
     },
     "execution_count": 1,
     "metadata": {},
     "output_type": "execute_result"
    }
   ],
   "source": [
    "from itertools import permutations\n",
    "word = \"hack\"\n",
    "l = 2\n",
    "\n",
    "perm = list(permutations(word, int(l)))\n",
    "perm.sort()\n",
    "\n",
    "#all 2 letter combinations using the letters in word\n",
    "[print(''.join(perm[idx])) for idx in range(len(perm))]\n",
    "\n",
    "#Equivalent to:\n",
    "for idx in range(len(perm)):\n",
    "    print(''.join(perm[idx]))"
   ]
  },
  {
   "cell_type": "markdown",
   "id": "555b9141",
   "metadata": {},
   "source": [
    "# Example 8 Any"
   ]
  },
  {
   "cell_type": "code",
   "execution_count": 1,
   "id": "defa94d0",
   "metadata": {},
   "outputs": [
    {
     "name": "stdout",
     "output_type": "stream",
     "text": [
      "True\n"
     ]
    }
   ],
   "source": [
    "#prints True or false if any of the characters in s is a digit\n",
    "s ='abc1'\n",
    "print(any(c.isdigit() for c in s))"
   ]
  },
  {
   "cell_type": "markdown",
   "id": "7e65e1aa",
   "metadata": {},
   "source": [
    "# Example 9 Two For"
   ]
  },
  {
   "cell_type": "code",
   "execution_count": null,
   "id": "fdd79e38",
   "metadata": {},
   "outputs": [],
   "source": [
    "# USe a list comprehension within a list comprehension\n",
    "matrix = [[col for col in range(5)] for row in range(5)]\n",
    "for row in matrix:\n",
    "    print(row)"
   ]
  },
  {
   "cell_type": "markdown",
   "id": "6973f0df",
   "metadata": {},
   "source": [
    "# Example 10 If Else"
   ]
  },
  {
   "cell_type": "code",
   "execution_count": null,
   "id": "dea639d8",
   "metadata": {},
   "outputs": [],
   "source": [
    "#Using if else. must end with an else.\n",
    "# List of numbers\n",
    "numbers = [1, -2, 0, 4, -5]\n",
    "\n",
    "# List comprehension with if-else\n",
    "classifications = [\"positive\" if num > 0 else \"negative\" if num < 0 else \"zero\" for num in numbers]\n",
    "\n",
    "print(classifications)\n",
    "# Output: ['positive', 'negative', 'zero', 'positive', 'negative']"
   ]
  },
  {
   "cell_type": "markdown",
   "id": "0d85c72f",
   "metadata": {},
   "source": [
    "# Example 11 Dictionary\n"
   ]
  },
  {
   "cell_type": "code",
   "execution_count": 7,
   "id": "5f8d29e2",
   "metadata": {},
   "outputs": [],
   "source": [
    "#Create a dictionary from a list\n",
    "\n",
    "fellowship = ['frodo', 'samwise', 'merry', 'aragorn', 'legolas', 'boromir', 'gimli']\n",
    "#the key is the name and the value is the size of the name\n",
    "new_fellowship = {member:len(member) for member in fellowship}"
   ]
  },
  {
   "cell_type": "markdown",
   "id": "a45bae2b",
   "metadata": {},
   "source": [
    "# Example 12 Set"
   ]
  },
  {
   "cell_type": "code",
   "execution_count": null,
   "id": "fbd53fa8",
   "metadata": {},
   "outputs": [],
   "source": [
    "#Create a set\n",
    "my_set = {n for n in nums} "
   ]
  }
 ],
 "metadata": {
  "kernelspec": {
   "display_name": "Python 3 (ipykernel)",
   "language": "python",
   "name": "python3"
  },
  "language_info": {
   "codemirror_mode": {
    "name": "ipython",
    "version": 3
   },
   "file_extension": ".py",
   "mimetype": "text/x-python",
   "name": "python",
   "nbconvert_exporter": "python",
   "pygments_lexer": "ipython3",
   "version": "3.11.7"
  }
 },
 "nbformat": 4,
 "nbformat_minor": 5
}
