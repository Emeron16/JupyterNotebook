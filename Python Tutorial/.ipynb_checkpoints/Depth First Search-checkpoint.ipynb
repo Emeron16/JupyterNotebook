{
 "cells": [
  {
   "cell_type": "code",
   "execution_count": 1,
   "id": "1a922dd9",
   "metadata": {},
   "outputs": [],
   "source": [
    "class TreeNode:\n",
    "    def __init__(self, val = 0, left =None, right = None):\n",
    "        self.val = val\n",
    "        self.left = left\n",
    "        self.right = right"
   ]
  },
  {
   "cell_type": "code",
   "execution_count": null,
   "id": "b4275cf1",
   "metadata": {},
   "outputs": [],
   "source": [
    "# Traversal Approach"
   ]
  },
  {
   "cell_type": "code",
   "execution_count": 8,
   "id": "b46f73e2",
   "metadata": {},
   "outputs": [],
   "source": [
    "def Preorder(root):\n",
    "    if root is None:\n",
    "        return None\n",
    "    \n",
    "    stack = [root]\n",
    "    \n",
    "    while stack:\n",
    "        \n",
    "        Node = stack.pop()\n",
    "        print(Node.val)\n",
    "        \n",
    "        if Node.right:\n",
    "            stack.append(Node.right)\n",
    "        if Node.left:\n",
    "            stack.append(Node.left)\n",
    "        "
   ]
  },
  {
   "cell_type": "code",
   "execution_count": 11,
   "id": "544b7310",
   "metadata": {},
   "outputs": [],
   "source": [
    "#Recursive Approach"
   ]
  },
  {
   "cell_type": "code",
   "execution_count": null,
   "id": "8b3ab218",
   "metadata": {},
   "outputs": [],
   "source": [
    "def InorderRecursive(root):\n",
    "    if root is None:\n",
    "        return None\n",
    "\n",
    "    print(root.val)\n",
    "    InorderRecursive(root.left)\n",
    "\n",
    "    InorderRecursive(root.right)"
   ]
  },
  {
   "cell_type": "code",
   "execution_count": 16,
   "id": "3df98455",
   "metadata": {},
   "outputs": [],
   "source": [
    "def InorderRecursive(root):\n",
    "    if root is None:\n",
    "        return None\n",
    "    \n",
    "    InorderRecursive(root.left)\n",
    "    print(root.val)\n",
    "    InorderRecursive(root.right)"
   ]
  },
  {
   "cell_type": "code",
   "execution_count": 22,
   "id": "f18950be",
   "metadata": {},
   "outputs": [],
   "source": [
    "def PostorderRecursive(root):\n",
    "    if root is None:\n",
    "        return None\n",
    "    \n",
    "    PostorderRecursive(root.left)\n",
    "    PostorderRecursive(root.right)\n",
    "    print(root.val)"
   ]
  },
  {
   "cell_type": "code",
   "execution_count": 19,
   "id": "e8f192ad",
   "metadata": {},
   "outputs": [],
   "source": [
    "root = TreeNode(1)\n",
    "root.left = TreeNode(2)\n",
    "root.right = TreeNode(3)\n",
    "root.left.left = TreeNode(4)\n",
    "root.left.right = TreeNode(5)\n",
    "root.right.left = TreeNode(6)\n",
    "root.right.right = TreeNode(7)"
   ]
  },
  {
   "cell_type": "code",
   "execution_count": 20,
   "id": "715c9b13",
   "metadata": {},
   "outputs": [
    {
     "name": "stdout",
     "output_type": "stream",
     "text": [
      "1\n",
      "2\n",
      "4\n",
      "5\n",
      "3\n",
      "6\n",
      "7\n"
     ]
    }
   ],
   "source": [
    "Preorder(root)"
   ]
  },
  {
   "cell_type": "code",
   "execution_count": 21,
   "id": "801ff473",
   "metadata": {},
   "outputs": [
    {
     "name": "stdout",
     "output_type": "stream",
     "text": [
      "4\n",
      "2\n",
      "5\n",
      "1\n",
      "6\n",
      "3\n",
      "7\n"
     ]
    }
   ],
   "source": [
    "InorderRecursive(root)"
   ]
  },
  {
   "cell_type": "code",
   "execution_count": 25,
   "id": "317b4209",
   "metadata": {},
   "outputs": [
    {
     "name": "stdout",
     "output_type": "stream",
     "text": [
      "4\n",
      "5\n",
      "2\n",
      "6\n",
      "7\n",
      "3\n",
      "1\n"
     ]
    }
   ],
   "source": [
    "PostorderRecursive(root)"
   ]
  },
  {
   "cell_type": "code",
   "execution_count": null,
   "id": "55e016ca",
   "metadata": {},
   "outputs": [],
   "source": []
  }
 ],
 "metadata": {
  "kernelspec": {
   "display_name": "Python 3 (ipykernel)",
   "language": "python",
   "name": "python3"
  },
  "language_info": {
   "codemirror_mode": {
    "name": "ipython",
    "version": 3
   },
   "file_extension": ".py",
   "mimetype": "text/x-python",
   "name": "python",
   "nbconvert_exporter": "python",
   "pygments_lexer": "ipython3",
   "version": "3.11.7"
  }
 },
 "nbformat": 4,
 "nbformat_minor": 5
}
