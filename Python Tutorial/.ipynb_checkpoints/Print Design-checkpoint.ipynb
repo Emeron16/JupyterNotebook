{
 "cells": [
  {
   "cell_type": "code",
   "execution_count": 81,
   "id": "d1e5e72a",
   "metadata": {},
   "outputs": [
    {
     "name": "stdout",
     "output_type": "stream",
     "text": [
      "    P    \n",
      "   PPP   \n",
      "  PPPPP  \n",
      " PPPPPPP \n",
      "PPPPPPPPP\n",
      "  PPPPP               PPPPP             \n",
      "  PPPPP               PPPPP             \n",
      "  PPPPP               PPPPP             \n",
      "  PPPPP               PPPPP             \n",
      "  PPPPP               PPPPP             \n",
      "  PPPPP               PPPPP             \n",
      "  PPPPPPPPPPPPPPPPPPPPPPPPP   \n",
      "  PPPPPPPPPPPPPPPPPPPPPPPPP   \n",
      "  PPPPPPPPPPPPPPPPPPPPPPPPP   \n",
      "  PPPPP               PPPPP             \n",
      "  PPPPP               PPPPP             \n",
      "  PPPPP               PPPPP             \n",
      "  PPPPP               PPPPP             \n",
      "  PPPPP               PPPPP             \n",
      "  PPPPP               PPPPP             \n",
      "                    PPPPPPPPP \n",
      "                     PPPPPPP  \n",
      "                      PPPPP   \n",
      "                       PPP    \n",
      "                        P     \n"
     ]
    }
   ],
   "source": [
    "thickness = 5\n",
    "c = \"P\"\n",
    "for i in range(thickness):\n",
    "    print((c*i).rjust(thickness-1)+c+(c*i).ljust(thickness-1))\n",
    "for i in range(thickness+1):\n",
    "    print((c*thickness).center(thickness*2)+(c*thickness).center(thickness*6))\n",
    "for i in range((thickness+1)//2):\n",
    "    print((c*thickness*5).center(thickness*6))\n",
    "for i in range(thickness+1):\n",
    "    print((c*thickness).center(thickness*2)+(c*thickness).center(thickness*6))\n",
    "for i in range(thickness):\n",
    "    print(((c*(thickness-i-1)).rjust(thickness)+c+(c*(thickness-i-1)).ljust(thickness)).rjust(thickness*6))\n"
   ]
  },
  {
   "cell_type": "code",
   "execution_count": 83,
   "id": "a6c53b64",
   "metadata": {},
   "outputs": [
    {
     "name": "stdout",
     "output_type": "stream",
     "text": [
      "------------------------------.|.------------------------------\n",
      "\n",
      "---------------------------.|..|..|.---------------------------\n",
      "\n",
      "------------------------.|..|..|..|..|.------------------------\n",
      "\n",
      "---------------------.|..|..|..|..|..|..|.---------------------\n",
      "\n",
      "------------------.|..|..|..|..|..|..|..|..|.------------------\n",
      "\n",
      "---------------.|..|..|..|..|..|..|..|..|..|..|.---------------\n",
      "\n",
      "------------.|..|..|..|..|..|..|..|..|..|..|..|..|.------------\n",
      "\n",
      "---------.|..|..|..|..|..|..|..|..|..|..|..|..|..|..|.---------\n",
      "\n",
      "------.|..|..|..|..|..|..|..|..|..|..|..|..|..|..|..|..|.------\n",
      "\n",
      "---.|..|..|..|..|..|..|..|..|..|..|..|..|..|..|..|..|..|..|.---\n",
      "\n",
      "------------------------- Hello Welcome------------------------\n",
      "---.|..|..|..|..|..|..|..|..|..|..|..|..|..|..|..|..|..|..|.---\n",
      "------.|..|..|..|..|..|..|..|..|..|..|..|..|..|..|..|..|.------\n",
      "---------.|..|..|..|..|..|..|..|..|..|..|..|..|..|..|.---------\n",
      "------------.|..|..|..|..|..|..|..|..|..|..|..|..|.------------\n",
      "---------------.|..|..|..|..|..|..|..|..|..|..|.---------------\n",
      "------------------.|..|..|..|..|..|..|..|..|.------------------\n",
      "---------------------.|..|..|..|..|..|..|.---------------------\n",
      "------------------------.|..|..|..|..|.------------------------\n",
      "---------------------------.|..|..|.---------------------------\n",
      "------------------------------.|.------------------------------\n"
     ]
    }
   ],
   "source": [
    "#https://www.hackerrank.com/challenges/designer-door-mat/problem?isFullScreen=true\n",
    "#replace n value for length and m value for width\n",
    "n = 21\n",
    "m = 63\n",
    "line = 0\n",
    "#replace dash for boarder design\n",
    "dash = '-'\n",
    "#replace for design\n",
    "special = '.|.'\n",
    "specA = 1\n",
    "space= (m-specA*len(special))//2\n",
    "#Replace for word design\n",
    "word = \" Hello Welcome\"\n",
    "log = []\n",
    "for i in range(1, n+1):\n",
    "    \n",
    "        log.append(f\" line:{line},  n/2:{(n)//2}, {line < (n+1)//i},{(i ==(n)//2)},\\\n",
    "        specA: {specA},'i:'{i},{line} < {n//2}\")\n",
    "      \n",
    "        if line < n//2:\n",
    "            print((dash*space)+(special*specA)+(dash*space))\n",
    "            print( )\n",
    "            line+= 1\n",
    "            specA += 2\n",
    "       \n",
    "        elif line ==n//2:\n",
    "            Tempspace = m - len(word)\n",
    "            Temp = dash * Tempspace\n",
    "            Middle =  Temp[len(Temp)//2:]+word + Temp[:len(Temp)//2]\n",
    "            print(Middle)\n",
    "            line+=1\n",
    "            specA-=2\n",
    "        elif line > n//2:\n",
    "            print((dash*space)+(special*specA)+(dash*space))\n",
    "            line +=1\n",
    "            specA-=2\n",
    "        #How much space is needed for special Design.\n",
    "        #Subtract M from len of special times the number line we are on\n",
    "        space = (m-(specA*len(special)))//2\n",
    "        \n",
    "\n",
    "        \n",
    "#Shows log: print('\\n'.join([l for l in log])) \n",
    "   \n",
    "    \n",
    "\n",
    "     "
   ]
  },
  {
   "cell_type": "code",
   "execution_count": 86,
   "id": "3673f865",
   "metadata": {},
   "outputs": [
    {
     "name": "stdout",
     "output_type": "stream",
     "text": [
      "                               *                               \n",
      "                              ***                              \n",
      "                             *****                             \n",
      "                            *******                            \n",
      "                           *********                           \n",
      "                          ***********                          \n",
      "                         *************                         \n",
      "                        ***************                        \n",
      "                       *****************                       \n",
      "                      *******************                      \n",
      "                            WELCOME                            \n",
      "                      *******************                      \n",
      "                       *****************                       \n",
      "                        ***************                        \n",
      "                         *************                         \n",
      "                          ***********                          \n",
      "                           *********                           \n",
      "                            *******                            \n",
      "                             *****                             \n",
      "                              ***                              \n",
      "                               *                               \n"
     ]
    }
   ],
   "source": [
    "n = 21\n",
    "m = 63\n",
    "s = \"*\"\n",
    "h = \"-\"\n",
    "w = \"WELCOME\"\n",
    "\n",
    "pat = [(s*(2*i + 1)).center(m, h) for i in range(n//2)]\n",
    "wel = [w.center(m,h)]\n",
    "\n",
    "x = \"\\n\".join(pat+wel+pat[::-1])\n",
    "print(x)"
   ]
  },
  {
   "cell_type": "code",
   "execution_count": null,
   "id": "0952c99d",
   "metadata": {},
   "outputs": [],
   "source": []
  }
 ],
 "metadata": {
  "kernelspec": {
   "display_name": "Python 3 (ipykernel)",
   "language": "python",
   "name": "python3"
  },
  "language_info": {
   "codemirror_mode": {
    "name": "ipython",
    "version": 3
   },
   "file_extension": ".py",
   "mimetype": "text/x-python",
   "name": "python",
   "nbconvert_exporter": "python",
   "pygments_lexer": "ipython3",
   "version": "3.11.7"
  }
 },
 "nbformat": 4,
 "nbformat_minor": 5
}
