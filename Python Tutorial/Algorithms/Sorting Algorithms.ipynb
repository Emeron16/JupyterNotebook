{
 "cells": [
  {
   "cell_type": "markdown",
   "id": "e4c64781-3fe9-42e4-af30-1805355d573d",
   "metadata": {},
   "source": [
    "# Quick Sort\n",
    "Sorting [29, 10, 14, 37, 13]\n",
    "\n",
    "Step 1: Select a pivot (e.g., the last element, 13).\n",
    "Array: [29, 10, 14, 37, 13]\n",
    "Pivot: 13\n",
    "\n",
    "Step 2: Partition the array around the pivot.\n",
    "Rearrange the array so that all elements less than 13 are on the left and all elements greater than 13 are on the right.\n",
    "After partitioning: [10, 13, 14, 37, 29]\n",
    "The pivot 13 is now in its final position.\n",
    "\n",
    "Step 3: Recursively apply Quick Sort on the left and right subarrays:\n",
    "Left subarray: [10] (already sorted)\n",
    "\n",
    "Right subarray: [14, 37, 29]\n",
    "\n",
    "Step 4: Sort the right subarray [14, 37, 29]:\n",
    "Choose a pivot (e.g., 29).\n",
    "Partition: [14, 29, 37]\n",
    "Pivot 29 is in its final position.\n",
    "\n",
    "Step 5: Recursively apply Quick Sort on subarrays:\n",
    "Left subarray: [14] (already sorted)\n",
    "Right subarray: [37] (already sorted)\n",
    "\n",
    "Step 6: Combine the results:\n",
    "Final sorted array: [10, 13, 14, 29, 37]\n",
    " Time Complexity: O(N log N)\n",
    "Worst Case Time Complexity: O(N^2)\n",
    "\n"
   ]
  },
  {
   "cell_type": "code",
   "execution_count": 9,
   "id": "6c50f956",
   "metadata": {},
   "outputs": [],
   "source": [
    "def quick_sort(arr):\n",
    "    # Base case: if the array has 0 or 1 elements, it's already sorted\n",
    "    if len(arr) <= 1:\n",
    "        return arr\n",
    "    \n",
    "    # Choose a pivot element (last element in this case)\n",
    "    pivot = arr[-1]\n",
    "    \n",
    "    # Partitioning step: elements less than pivot and greater than pivot\n",
    "    left = [x for x in arr[:-1] if x <= pivot]  # elements <= pivot\n",
    "    right = [x for x in arr[:-1] if x > pivot]  # elements > pivot\n",
    "    print(left, right, arr)\n",
    "    # Recursively sort left and right sub-arrays, and combine with pivot\n",
    "    return quick_sort(left) + [pivot] + quick_sort(right)\n",
    "\n"
   ]
  },
  {
   "cell_type": "code",
   "execution_count": 10,
   "id": "37296c62",
   "metadata": {},
   "outputs": [
    {
     "name": "stdout",
     "output_type": "stream",
     "text": [
      "[1] [10, 7, 8, 9] [10, 7, 8, 9, 1, 5]\n",
      "[7, 8] [10] [10, 7, 8, 9]\n",
      "[7] [] [7, 8]\n",
      "Sorted array: [1, 5, 7, 8, 9, 10]\n"
     ]
    }
   ],
   "source": [
    "# Example usage:\n",
    "arr = [10, 7, 8, 9, 1, 5]\n",
    "sorted_arr = quick_sort(arr)\n",
    "print(\"Sorted array:\", sorted_arr)"
   ]
  },
  {
   "attachments": {},
   "cell_type": "markdown",
   "id": "4d55ee6a",
   "metadata": {},
   "source": [
    "# Merge Sort\n",
    "Let's say we have an array [38, 27, 43, 3, 9, 82, 10]:\n",
    "\n",
    "\t1. Split it into two halves: [38, 27, 43] and [3, 9, 82, 10].\n",
    "\t2. Continue splitting:\n",
    "\t\t○ [38, 27, 43] becomes [38] and [27, 43] → [27], [43]\n",
    "\t\t○ [3, 9, 82, 10] becomes [3, 9], [82, 10] → [3], [9], [82], [10]\n",
    "\t3. Now merge and sort:\n",
    "\t\t○ Merge [27] and [43] to get [27, 43], then merge [38] with [27, 43] to get [27, 38, 43].\n",
    "\t\t○ Merge [3] and [9] to get [3, 9], and merge [82] and [10] to get [10, 82].\n",
    "\t\t○ Finally, merge [3, 9] with [10, 82] to get [3, 9, 10, 82].\n",
    "Lastly, merge [27, 38, 43] and [3, 9, 10, 82] to get the sorted array [3, 9, 10, 27, 38, 43, 82]\n",
    "\n",
    "The time complexity of Merge Sort is O(n log n):\n",
    "\t• Divide step: Splitting the array takes O(log n) because each time we divide the array into two.\n",
    "Merge step: Merging the elements back together takes O(n) because we compare and merge each element once.\n",
    "\n"
   ]
  },
  {
   "cell_type": "code",
   "execution_count": 4,
   "id": "5ef0aeec",
   "metadata": {},
   "outputs": [],
   "source": [
    "def merge_sort(arr):\n",
    "    # Base case: If the array has 1 or no elements, it's already sorted\n",
    "    if len(arr) <= 1:\n",
    "        return arr\n",
    "\n",
    "    # Step 1: Split the array into two halves\n",
    "    mid = len(arr) // 2\n",
    "    left_half = merge_sort(arr[:mid])\n",
    "    right_half = merge_sort(arr[mid:])\n",
    "\n",
    "    # Step 2: Merge the two halves together in sorted order\n",
    "    return merge(left_half, right_half)\n",
    "\n",
    "def merge(left, right):\n",
    "    sorted_array = []\n",
    "    i = j = 0\n",
    "\n",
    "    # Step 3: Merge elements in sorted order\n",
    "    while i < len(left) and j < len(right):\n",
    "        if left[i] < right[j]:\n",
    "            sorted_array.append(left[i])\n",
    "            i += 1\n",
    "        else:\n",
    "            sorted_array.append(right[j])\n",
    "            j += 1\n",
    "\n",
    "    # Append any remaining elements in the left or right subarrays\n",
    "    sorted_array.extend(left[i:])\n",
    "    sorted_array.extend(right[j:])\n",
    "\n",
    "    return sorted_array\n",
    "\n"
   ]
  },
  {
   "cell_type": "code",
   "execution_count": 5,
   "id": "1ce929ea",
   "metadata": {},
   "outputs": [
    {
     "name": "stdout",
     "output_type": "stream",
     "text": [
      "[3, 9, 10, 27, 38, 43, 82]\n"
     ]
    }
   ],
   "source": [
    "# Example usage:\n",
    "arr = [38, 27, 43, 3, 9, 82, 10]\n",
    "sorted_arr = merge_sort(arr)\n",
    "print(sorted_arr)  # Output: [3, 9, 10, 27, 38, 43, 82]\n"
   ]
  },
  {
   "cell_type": "markdown",
   "id": "fbb25376",
   "metadata": {},
   "source": [
    "# Selection Sort"
   ]
  },
  {
   "cell_type": "markdown",
   "id": "ea5b84dc",
   "metadata": {},
   "source": [
    "Start with the first element (index 0) and consider it as the minimum element.\n",
    "\n",
    "Traverse the rest of the array (from index 1 to n-1) and find the minimum element.\n",
    "\n",
    "Swap the first element with the found minimum element.\n",
    "\n",
    "Move to the next position (index 1), and repeat steps 2-3 until the entire array is sorted.\n",
    "\n",
    "Time Complexity: O(n²) (because of two nested loops) Space Complexity: O(1) (in-place sorting)"
   ]
  },
  {
   "cell_type": "markdown",
   "id": "3c8e4362",
   "metadata": {},
   "source": [
    "Initial array: [64, 25, 12, 22, 11]\n",
    "\n",
    "First pass: Find minimum in [64, 25, 12, 22, 11], which is 11. Swap 64 and 11. Array becomes: [11, 25, 12, 22, 64]\n",
    "Second pass: Find minimum in [25, 12, 22, 64], which is 12. Swap 25 and 12. Array becomes: [11, 12, 25, 22, 64]\n",
    "\n",
    "Third pass: Find minimum in [25, 22, 64], which is 22. Swap 25 and 22. Array becomes: [11, 12, 22, 25, 64]\n",
    "\n",
    "Fourth pass: Find minimum in [25, 64], which is 25 (no need to swap).\n",
    "\n",
    "Final sorted array: [11, 12, 22, 25, 64]"
   ]
  },
  {
   "cell_type": "code",
   "execution_count": null,
   "id": "82caef33",
   "metadata": {},
   "outputs": [],
   "source": [
    "def selection_sort(arr):\n",
    "    n = len(arr)\n",
    "    \n",
    "    # Traverse through all array elements\n",
    "    for i in range(n):\n",
    "        # Find the minimum element in remaining unsorted array\n",
    "        min_idx = i\n",
    "        for j in range(i + 1, n):\n",
    "            if arr[j] < arr[min_idx]:\n",
    "                min_idx = j\n",
    "        \n",
    "        # Swap the found minimum element with the first element\n",
    "        arr[i], arr[min_idx] = arr[min_idx], arr[i]\n",
    "    \n",
    "    return arr\n",
    "\n",
    "\n"
   ]
  },
  {
   "cell_type": "code",
   "execution_count": null,
   "id": "4b75c3d7",
   "metadata": {},
   "outputs": [],
   "source": [
    "# Example usage\n",
    "arr = [64, 25, 12, 22, 11]\n",
    "sorted_arr = selection_sort(arr)\n",
    "print(\"Sorted array:\", sorted_arr)"
   ]
  },
  {
   "cell_type": "markdown",
   "id": "0be3ea0a",
   "metadata": {},
   "source": [
    "# Insertion Sort"
   ]
  },
  {
   "attachments": {},
   "cell_type": "markdown",
   "id": "7db7cbe2",
   "metadata": {},
   "source": [
    "Initial array: [12, 11, 13, 5, 6]\n",
    "\n",
    "\t• First pass (key = 11): Compare 11 with 12. Since 11 < 12, move 12 to the right, and insert 11 in its place. Array becomes: [11, 12, 13, 5, 6]\n",
    "    \n",
    "\t• Second pass (key = 13): Compare 13 with 12. Since 13 > 12, no shifting is needed, and 13 stays in place. Array becomes: [11, 12, 13, 5, 6]\n",
    "    \n",
    "\t• Third pass (key = 5): Compare 5 with 13, 12, and 11. Move 13, 12, and 11 to the right, and insert 5 at the beginning. Array becomes: [5, 11, 12, 13, 6]\n",
    "    \n",
    "\t• Fourth pass (key = 6): Compare 6 with 13, 12, and 11. Move 13 and 12 to the right, and insert 6 at the correct position. Array becomes: [5, 6, 11, 12, 13]\n",
    "Final sorted array: [5, 6, 11, 12, 13]\n",
    "\n",
    "• It is efficient for small data sets or nearly sorted arrays, with a best-case time complexity of O(n) (for already sorted arrays).\n",
    "However, for large or randomly ordered arrays, its O(n²) worst-case time complexity makes it less efficient than more advanced sorting algorithms like quicksort or mergesort."
   ]
  },
  {
   "cell_type": "code",
   "execution_count": null,
   "id": "5cd57adc",
   "metadata": {},
   "outputs": [],
   "source": [
    "def insertion_sort(arr):\n",
    "    # Traverse through 1 to len(arr)\n",
    "    for i in range(1, len(arr)):\n",
    "        key = arr[i]  # Element to be positioned correctly\n",
    "        j = i - 1\n",
    "        \n",
    "        # Move elements of arr[0..i-1], that are greater than 'key',\n",
    "        # to one position ahead of their current position\n",
    "        while j >= 0 and arr[j] > key:\n",
    "            arr[j + 1] = arr[j]\n",
    "            j -= 1\n",
    "        \n",
    "        # Place the key element in its correct position\n",
    "        arr[j + 1] = key\n",
    "    \n",
    "    return arr\n",
    "\n",
    "# Example usage\n",
    "arr = [12, 11, 13, 5, 6]\n",
    "sorted_arr = insertion_sort(arr)\n",
    "print(\"Sorted array:\", sorted_arr)\n"
   ]
  }
 ],
 "metadata": {
  "kernelspec": {
   "display_name": "Python [conda env:base] *",
   "language": "python",
   "name": "conda-base-py"
  },
  "language_info": {
   "codemirror_mode": {
    "name": "ipython",
    "version": 3
   },
   "file_extension": ".py",
   "mimetype": "text/x-python",
   "name": "python",
   "nbconvert_exporter": "python",
   "pygments_lexer": "ipython3",
   "version": "3.12.2"
  }
 },
 "nbformat": 4,
 "nbformat_minor": 5
}
