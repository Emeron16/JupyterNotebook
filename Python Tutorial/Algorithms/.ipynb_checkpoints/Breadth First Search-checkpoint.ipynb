{
 "cells": [
  {
   "cell_type": "code",
   "execution_count": 1,
   "id": "d4773071",
   "metadata": {},
   "outputs": [],
   "source": [
    "from collections import deque"
   ]
  },
  {
   "cell_type": "code",
   "execution_count": 5,
   "id": "0629ec06",
   "metadata": {},
   "outputs": [],
   "source": [
    "class TreeNode:\n",
    "    def __init__(self, val= 0, left = None, right = None):\n",
    "        self.val= val\n",
    "        self.left = None\n",
    "        self.right = None\n",
    "        "
   ]
  },
  {
   "cell_type": "code",
   "execution_count": 27,
   "id": "bf57fc9b",
   "metadata": {},
   "outputs": [],
   "source": [
    "def Print(root):\n",
    "    q = deque([root])\n",
    "    \n",
    "    while q:\n",
    "        Node = q.popleft()\n",
    "        print(Node.val)\n",
    "        \n",
    "        if Node.left:\n",
    "            q.append(Node.left)\n",
    "        if Node.right:\n",
    "            q.append(Node.right)"
   ]
  },
  {
   "cell_type": "code",
   "execution_count": 33,
   "id": "c5d251e3",
   "metadata": {},
   "outputs": [],
   "source": [
    "def invertTree(root):\n",
    "    if not root:\n",
    "        return None\n",
    "    q = deque([root])\n",
    "\n",
    "    while q:\n",
    "        Node = q.popleft()\n",
    "        \n",
    "        Node.left, Node.right = Node.right, Node.left\n",
    "\n",
    "        if Node.left:\n",
    "            q.append(Node.left)\n",
    "        if Node.right:\n",
    "            q.append(Node.right)\n",
    "            \n",
    "            \n",
    "    return root\n",
    "         "
   ]
  },
  {
   "cell_type": "code",
   "execution_count": 30,
   "id": "a9522018",
   "metadata": {},
   "outputs": [],
   "source": [
    "root = TreeNode(1)\n",
    "root.left = TreeNode(2)\n",
    "root.right = TreeNode(3)\n",
    "root.left.left = TreeNode(4)\n",
    "root.left.right = TreeNode(5)\n",
    "root.right.left = TreeNode(6)\n",
    "root.right.right = TreeNode(7)"
   ]
  },
  {
   "cell_type": "code",
   "execution_count": 38,
   "id": "77c998a9",
   "metadata": {},
   "outputs": [
    {
     "name": "stdout",
     "output_type": "stream",
     "text": [
      "1\n",
      "3\n",
      "2\n",
      "7\n",
      "6\n",
      "5\n",
      "4\n"
     ]
    }
   ],
   "source": [
    "Print(root)"
   ]
  },
  {
   "cell_type": "code",
   "execution_count": 36,
   "id": "bfe0f50c",
   "metadata": {},
   "outputs": [],
   "source": [
    "q = invertTree(root)"
   ]
  },
  {
   "cell_type": "code",
   "execution_count": 35,
   "id": "a3645e47",
   "metadata": {},
   "outputs": [
    {
     "name": "stdout",
     "output_type": "stream",
     "text": [
      "1\n",
      "3\n",
      "2\n",
      "7\n",
      "6\n",
      "5\n",
      "4\n"
     ]
    }
   ],
   "source": [
    "Print(q)"
   ]
  },
  {
   "cell_type": "markdown",
   "id": "305203bd",
   "metadata": {},
   "source": [
    "# Graphs"
   ]
  },
  {
   "cell_type": "code",
   "execution_count": null,
   "id": "54320ae2",
   "metadata": {},
   "outputs": [],
   "source": [
    "def bfs(gr)"
   ]
  }
 ],
 "metadata": {
  "kernelspec": {
   "display_name": "Python 3 (ipykernel)",
   "language": "python",
   "name": "python3"
  },
  "language_info": {
   "codemirror_mode": {
    "name": "ipython",
    "version": 3
   },
   "file_extension": ".py",
   "mimetype": "text/x-python",
   "name": "python",
   "nbconvert_exporter": "python",
   "pygments_lexer": "ipython3",
   "version": "3.11.7"
  }
 },
 "nbformat": 4,
 "nbformat_minor": 5
}
