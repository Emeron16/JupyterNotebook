{
 "cells": [
  {
   "cell_type": "code",
   "execution_count": 5,
   "id": "4a013264",
   "metadata": {},
   "outputs": [],
   "source": [
    "class TreeNode:\n",
    "    def __init__(self, val = 0, left =None, right = None):\n",
    "        self.val = val\n",
    "        self.left = left\n",
    "        self.right = right"
   ]
  },
  {
   "cell_type": "code",
   "execution_count": null,
   "id": "5810f37a",
   "metadata": {},
   "outputs": [],
   "source": [
    "# Traversal Approach"
   ]
  },
  {
   "cell_type": "code",
   "execution_count": 2,
   "id": "3b3aa752",
   "metadata": {},
   "outputs": [],
   "source": [
    "def Preorder(root):\n",
    "    if root is None:\n",
    "        return None\n",
    "    \n",
    "    stack = [root]\n",
    "    \n",
    "    while stack:\n",
    "        \n",
    "        Node = stack.pop()\n",
    "        print(Node.val)\n",
    "        \n",
    "        if Node.right:\n",
    "            stack.append(Node.right)\n",
    "        if Node.left:\n",
    "            stack.append(Node.left)\n",
    "        "
   ]
  },
  {
   "cell_type": "code",
   "execution_count": 11,
   "id": "3c1dcfa6",
   "metadata": {},
   "outputs": [],
   "source": [
    "#Recursive Approach"
   ]
  },
  {
   "cell_type": "code",
   "execution_count": 3,
   "id": "1e004113",
   "metadata": {},
   "outputs": [],
   "source": [
    "def PreorderRecursive(root):\n",
    "    if root is None:\n",
    "        return None\n",
    "\n",
    "    print(root.val)\n",
    "    InorderRecursive(root.left)\n",
    "\n",
    "    InorderRecursive(root.right)"
   ]
  },
  {
   "cell_type": "code",
   "execution_count": 9,
   "id": "ac0b1e31",
   "metadata": {},
   "outputs": [],
   "source": [
    "def InorderRecursive(root):\n",
    "    if root is None:\n",
    "        return None\n",
    "    \n",
    "    InorderRecursive(root.left)\n",
    "    print(root.val)\n",
    "    InorderRecursive(root.right)"
   ]
  },
  {
   "cell_type": "code",
   "execution_count": 22,
   "id": "b9e71fea",
   "metadata": {},
   "outputs": [],
   "source": [
    "def PostorderRecursive(root):\n",
    "    if root is None:\n",
    "        return None\n",
    "    \n",
    "    PostorderRecursive(root.left)\n",
    "    PostorderRecursive(root.right)\n",
    "    print(root.val)"
   ]
  },
  {
   "cell_type": "code",
   "execution_count": null,
   "id": "7694b33d",
   "metadata": {},
   "outputs": [],
   "source": [
    "def diameterOfBinaryTree(root):\n",
    "    "
   ]
  },
  {
   "cell_type": "code",
   "execution_count": 6,
   "id": "c158e872",
   "metadata": {},
   "outputs": [],
   "source": [
    "root = TreeNode(1)\n",
    "root.left = TreeNode(2)\n",
    "root.right = TreeNode(3)\n",
    "#root.left.left = TreeNode(4)\n",
    "root.left.right = TreeNode(5)\n",
    "root.right.left = TreeNode(6)\n",
    "root.right.right = TreeNode(7)"
   ]
  },
  {
   "cell_type": "code",
   "execution_count": 7,
   "id": "898e53e0",
   "metadata": {},
   "outputs": [
    {
     "name": "stdout",
     "output_type": "stream",
     "text": [
      "1\n",
      "2\n",
      "5\n",
      "3\n",
      "6\n",
      "7\n"
     ]
    }
   ],
   "source": [
    "Preorder(root)"
   ]
  },
  {
   "cell_type": "code",
   "execution_count": 10,
   "id": "41758124",
   "metadata": {},
   "outputs": [
    {
     "name": "stdout",
     "output_type": "stream",
     "text": [
      "1\n",
      "2\n",
      "5\n",
      "6\n",
      "3\n",
      "7\n"
     ]
    }
   ],
   "source": [
    "PreorderRecursive(root)"
   ]
  },
  {
   "cell_type": "code",
   "execution_count": 31,
   "id": "0e3009ca",
   "metadata": {},
   "outputs": [
    {
     "name": "stdout",
     "output_type": "stream",
     "text": [
      "4\n",
      "2\n",
      "5\n",
      "1\n",
      "6\n",
      "3\n",
      "7\n"
     ]
    }
   ],
   "source": [
    "InorderRecursive(root)"
   ]
  },
  {
   "cell_type": "code",
   "execution_count": 25,
   "id": "84016c08",
   "metadata": {},
   "outputs": [
    {
     "name": "stdout",
     "output_type": "stream",
     "text": [
      "4\n",
      "5\n",
      "2\n",
      "6\n",
      "7\n",
      "3\n",
      "1\n"
     ]
    }
   ],
   "source": [
    "PostorderRecursive(root)"
   ]
  },
  {
   "cell_type": "code",
   "execution_count": null,
   "id": "fada944f",
   "metadata": {},
   "outputs": [],
   "source": []
  }
 ],
 "metadata": {
  "kernelspec": {
   "display_name": "Python 3 (ipykernel)",
   "language": "python",
   "name": "python3"
  },
  "language_info": {
   "codemirror_mode": {
    "name": "ipython",
    "version": 3
   },
   "file_extension": ".py",
   "mimetype": "text/x-python",
   "name": "python",
   "nbconvert_exporter": "python",
   "pygments_lexer": "ipython3",
   "version": "3.11.7"
  }
 },
 "nbformat": 4,
 "nbformat_minor": 5
}
