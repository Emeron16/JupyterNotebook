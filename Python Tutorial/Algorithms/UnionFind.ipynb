{
 "cells": [
  {
   "cell_type": "code",
   "execution_count": null,
   "id": "d458d686",
   "metadata": {},
   "outputs": [],
   "source": [
    "class UnionFind:\n",
    "    def __init__(self, size):\n",
    "        self.parent = list(range(size))\n",
    "        self.rank = [1] * size\n",
    "        \n",
    "    def find(self, node):\n",
    "        \n",
    "        if self.parent[node] != node:\n",
    "            self.parent[node] = self.find(self.parent[node])\n",
    "            \n",
    "        return self.parent[node]\n",
    "    \n",
    "    def union(self, node1, node2):\n",
    "        root1 = self.find(node1)\n",
    "        root2 = self.find(node2)\n",
    "        \n",
    "        \n",
    "        if root1 == root2\n",
    "            return False\n",
    "        \n",
    "        if self.rank[root1] > self.rank[root2]:\n",
    "            self.parent[root2] = root1\n",
    "        elif self.rank[root1] < self.rank[root2]:\n",
    "            self.parent[root1] = root2\n",
    "        else:\n",
    "            self.parent[root2] = root1\n",
    "            self.rank[root1] += 1\n",
    "        \n",
    "        return True"
   ]
  }
 ],
 "metadata": {
  "kernelspec": {
   "display_name": "Python 3 (ipykernel)",
   "language": "python",
   "name": "python3"
  },
  "language_info": {
   "codemirror_mode": {
    "name": "ipython",
    "version": 3
   },
   "file_extension": ".py",
   "mimetype": "text/x-python",
   "name": "python",
   "nbconvert_exporter": "python",
   "pygments_lexer": "ipython3",
   "version": "3.11.7"
  }
 },
 "nbformat": 4,
 "nbformat_minor": 5
}
