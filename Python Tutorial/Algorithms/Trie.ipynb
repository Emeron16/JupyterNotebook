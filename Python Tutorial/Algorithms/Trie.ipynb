{
 "cells": [
  {
   "cell_type": "code",
   "execution_count": 3,
   "id": "250836eb",
   "metadata": {},
   "outputs": [],
   "source": [
    "class TrieNode:\n",
    "    def __init__(self):\n",
    "        self.children =  {}\n",
    "        self.endOfWord = False\n",
    "        "
   ]
  },
  {
   "cell_type": "code",
   "execution_count": 6,
   "id": "5a0fd3d5",
   "metadata": {},
   "outputs": [],
   "source": [
    "class Trie:\n",
    "    def __init__(self):\n",
    "        self.root = TrieNode()\n",
    "    \n",
    "    def insert(self, word: str) -> None:\n",
    "        curr = self.root\n",
    "        \n",
    "        for c in word:\n",
    "            if c not in cur.children:\n",
    "                curr.children[c] = TrieNode()\n",
    "            curr = curr.children[c]\n",
    "            \n",
    "        curr.endOfWord = True\n",
    "        \n",
    "    def search(self, word:str) -> bool:\n",
    "        curr = self.root\n",
    "        \n",
    "        for c in word:\n",
    "            if c not in cur.children:\n",
    "                return False\n",
    "            \n",
    "            cur = cur.children[c]\n",
    "        \n",
    "        return cur.endOfWord\n",
    "    \n",
    "    def startWith(self, prefix: str) -> bool:\n",
    "        \n",
    "        curr = self.root\n",
    "        \n",
    "        for c in prefix:\n",
    "            if c not in cur.children:\n",
    "                return False\n",
    "            \n",
    "            curr = curr.children[c]\n",
    "        \n",
    "        return True\n",
    "        "
   ]
  },
  {
   "cell_type": "code",
   "execution_count": null,
   "id": "974358a7",
   "metadata": {},
   "outputs": [],
   "source": []
  }
 ],
 "metadata": {
  "kernelspec": {
   "display_name": "Python 3 (ipykernel)",
   "language": "python",
   "name": "python3"
  },
  "language_info": {
   "codemirror_mode": {
    "name": "ipython",
    "version": 3
   },
   "file_extension": ".py",
   "mimetype": "text/x-python",
   "name": "python",
   "nbconvert_exporter": "python",
   "pygments_lexer": "ipython3",
   "version": "3.11.7"
  }
 },
 "nbformat": 4,
 "nbformat_minor": 5
}
