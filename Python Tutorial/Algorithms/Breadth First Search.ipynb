{
 "cells": [
  {
   "cell_type": "code",
   "execution_count": 3,
   "id": "d4773071",
   "metadata": {},
   "outputs": [],
   "source": [
    "from collections import deque"
   ]
  },
  {
   "cell_type": "code",
   "execution_count": 5,
   "id": "0629ec06",
   "metadata": {},
   "outputs": [],
   "source": [
    "class TreeNode:\n",
    "    def __init__(self, val= 0, left = None, right = None):\n",
    "        self.val= val\n",
    "        self.left = None\n",
    "        self.right = None\n",
    "        "
   ]
  },
  {
   "cell_type": "code",
   "execution_count": 27,
   "id": "bf57fc9b",
   "metadata": {},
   "outputs": [],
   "source": [
    "def Print(root):\n",
    "    q = deque([root])\n",
    "    \n",
    "    while q:\n",
    "        Node = q.popleft()\n",
    "        print(Node.val)\n",
    "        \n",
    "        if Node.left:\n",
    "            q.append(Node.left)\n",
    "        if Node.right:\n",
    "            q.append(Node.right)"
   ]
  },
  {
   "cell_type": "code",
   "execution_count": 33,
   "id": "c5d251e3",
   "metadata": {},
   "outputs": [],
   "source": [
    "def invertTree(root):\n",
    "    if not root:\n",
    "        return None\n",
    "    q = deque([root])\n",
    "\n",
    "    while q:\n",
    "        Node = q.popleft()\n",
    "        \n",
    "        Node.left, Node.right = Node.right, Node.left\n",
    "\n",
    "        if Node.left:\n",
    "            q.append(Node.left)\n",
    "        if Node.right:\n",
    "            q.append(Node.right)\n",
    "            \n",
    "            \n",
    "    return root\n",
    "         "
   ]
  },
  {
   "cell_type": "code",
   "execution_count": 30,
   "id": "a9522018",
   "metadata": {},
   "outputs": [],
   "source": [
    "root = TreeNode(1)\n",
    "root.left = TreeNode(2)\n",
    "root.right = TreeNode(3)\n",
    "root.left.left = TreeNode(4)\n",
    "root.left.right = TreeNode(5)\n",
    "root.right.left = TreeNode(6)\n",
    "root.right.right = TreeNode(7)"
   ]
  },
  {
   "cell_type": "code",
   "execution_count": 38,
   "id": "77c998a9",
   "metadata": {},
   "outputs": [
    {
     "name": "stdout",
     "output_type": "stream",
     "text": [
      "1\n",
      "3\n",
      "2\n",
      "7\n",
      "6\n",
      "5\n",
      "4\n"
     ]
    }
   ],
   "source": [
    "Print(root)"
   ]
  },
  {
   "cell_type": "code",
   "execution_count": 36,
   "id": "bfe0f50c",
   "metadata": {},
   "outputs": [],
   "source": [
    "q = invertTree(root)"
   ]
  },
  {
   "cell_type": "code",
   "execution_count": 35,
   "id": "a3645e47",
   "metadata": {},
   "outputs": [
    {
     "name": "stdout",
     "output_type": "stream",
     "text": [
      "1\n",
      "3\n",
      "2\n",
      "7\n",
      "6\n",
      "5\n",
      "4\n"
     ]
    }
   ],
   "source": [
    "Print(q)"
   ]
  },
  {
   "cell_type": "markdown",
   "id": "d4e2c29b",
   "metadata": {},
   "source": [
    "# Graphs"
   ]
  },
  {
   "cell_type": "code",
   "execution_count": 9,
   "id": "f02cca21",
   "metadata": {},
   "outputs": [],
   "source": [
    "def bfs(graph, start):\n",
    "    # Initialize a queue with the start node\n",
    "    queue = deque([start])\n",
    "    # Set to keep track of visited nodes\n",
    "    visited = set([start])\n",
    "    \n",
    "    # While there are nodes in the queue\n",
    "    while queue:\n",
    "        # Dequeue the front node\n",
    "        node = queue.popleft()\n",
    "        print(node)  # Process the node (e.g., print it)\n",
    "        \n",
    "        # Visit all unvisited neighbors\n",
    "        for neighbor in graph[node]:\n",
    "            if neighbor not in visited:\n",
    "                visited.add(neighbor)  # Mark neighbor as visited\n",
    "                queue.append(neighbor)  # Enqueue the neighbor"
   ]
  },
  {
   "cell_type": "code",
   "execution_count": 10,
   "id": "79dbc455",
   "metadata": {},
   "outputs": [
    {
     "name": "stdout",
     "output_type": "stream",
     "text": [
      "0\n",
      "1\n",
      "2\n",
      "3\n",
      "4\n",
      "5\n"
     ]
    }
   ],
   "source": [
    "# Example graph as an adjacency list\n",
    "graph = {\n",
    "    0: [1, 2],\n",
    "    1: [0, 3, 4],\n",
    "    2: [0, 5],\n",
    "    3: [1],\n",
    "    4: [1, 5],\n",
    "    5: [2, 4]\n",
    "}\n",
    "\n",
    "# Run BFS starting from node 0\n",
    "bfs(graph, 0)"
   ]
  },
  {
   "cell_type": "markdown",
   "id": "35903fe7",
   "metadata": {},
   "source": [
    "# Examples"
   ]
  },
  {
   "cell_type": "markdown",
   "id": "da20eb48",
   "metadata": {},
   "source": [
    "## Shortest path"
   ]
  },
  {
   "cell_type": "code",
   "execution_count": 11,
   "id": "fcfa22ed",
   "metadata": {},
   "outputs": [],
   "source": [
    "def bfs_shortest_path(graph, start, target):\n",
    "    q = deque([(start, 0)])\n",
    "    visited = set([start])\n",
    "    \n",
    "    while q:\n",
    "        node, distance = q.popleft()\n",
    "        \n",
    "        if target == node:\n",
    "            return distance\n",
    "        \n",
    "        for neighbor in graph[node]:\n",
    "            \n",
    "            if neighbor not in visited:\n",
    "                visited.add(neighbor)\n",
    "                q.append((neighbor, distance + 1))\n",
    "                \n",
    "    return -1"
   ]
  },
  {
   "cell_type": "code",
   "execution_count": 12,
   "id": "1c945c01",
   "metadata": {},
   "outputs": [
    {
     "name": "stdout",
     "output_type": "stream",
     "text": [
      "2\n"
     ]
    }
   ],
   "source": [
    "print(bfs_shortest_path(graph, 0, 5))"
   ]
  },
  {
   "cell_type": "markdown",
   "id": "3ecad11b",
   "metadata": {},
   "source": [
    "# Matrix"
   ]
  },
  {
   "cell_type": "code",
   "execution_count": 19,
   "id": "9b62e968",
   "metadata": {},
   "outputs": [],
   "source": [
    "def bfs_shortest_path(matrix, start, target):\n",
    "    rows, cols = len(matrix), len(matrix[0])\n",
    "    q = deque([start])\n",
    "    visited = set([start])\n",
    "    directions = [(0,1),(1,0),(0,-1),(-1,0)]\n",
    "    steps = 0\n",
    "    \n",
    "    while q:\n",
    "        for _ in range(len(q)):\n",
    "            x, y = q.popleft()\n",
    "            \n",
    "            if matrix[x][y] == target:\n",
    "                return steps\n",
    "            \n",
    "            for dx, dy in directions:\n",
    "                nx, ny =  x + dx, y + dy\n",
    "                if 0 <= nx < rows and 0 <= ny < cols and matrix[nx][ny] and (nx, ny) not in visited:\n",
    "                    visited.add((nx,ny))\n",
    "                    q.append((nx,ny))\n",
    "        steps += 1\n",
    "    \n",
    "    return -1"
   ]
  },
  {
   "cell_type": "code",
   "execution_count": 24,
   "id": "dadd7f34",
   "metadata": {},
   "outputs": [
    {
     "name": "stdout",
     "output_type": "stream",
     "text": [
      "4\n"
     ]
    }
   ],
   "source": [
    "matrix = [\n",
    "    [1, 1, 1, 0],\n",
    "    [1, 0, 0, 9],\n",
    "    [1, 1, 1, 0]\n",
    "]\n",
    "\n",
    "print(bfs_shortest_path(matrix, (0, 0), 9))  # Output: 3"
   ]
  },
  {
   "cell_type": "code",
   "execution_count": null,
   "id": "7930b1be",
   "metadata": {},
   "outputs": [],
   "source": []
  }
 ],
 "metadata": {
  "kernelspec": {
   "display_name": "Python 3 (ipykernel)",
   "language": "python",
   "name": "python3"
  },
  "language_info": {
   "codemirror_mode": {
    "name": "ipython",
    "version": 3
   },
   "file_extension": ".py",
   "mimetype": "text/x-python",
   "name": "python",
   "nbconvert_exporter": "python",
   "pygments_lexer": "ipython3",
   "version": "3.11.7"
  }
 },
 "nbformat": 4,
 "nbformat_minor": 5
}
