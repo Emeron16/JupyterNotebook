{
 "cells": [
  {
   "cell_type": "markdown",
   "id": "313be927",
   "metadata": {},
   "source": [
    "# Subsets"
   ]
  },
  {
   "cell_type": "code",
   "execution_count": 1,
   "id": "ee924415",
   "metadata": {},
   "outputs": [
    {
     "data": {
      "text/plain": [
       "[[],\n",
       " [15],\n",
       " [15, 20],\n",
       " [15, 20, 12],\n",
       " [15, 20, 12, 19],\n",
       " [15, 20, 12, 19, 4],\n",
       " [15, 20, 12, 4],\n",
       " [15, 20, 19],\n",
       " [15, 20, 19, 4],\n",
       " [15, 20, 4],\n",
       " [15, 12],\n",
       " [15, 12, 19],\n",
       " [15, 12, 19, 4],\n",
       " [15, 12, 4],\n",
       " [15, 19],\n",
       " [15, 19, 4],\n",
       " [15, 4],\n",
       " [20],\n",
       " [20, 12],\n",
       " [20, 12, 19],\n",
       " [20, 12, 19, 4],\n",
       " [20, 12, 4],\n",
       " [20, 19],\n",
       " [20, 19, 4],\n",
       " [20, 4],\n",
       " [12],\n",
       " [12, 19],\n",
       " [12, 19, 4],\n",
       " [12, 4],\n",
       " [19],\n",
       " [19, 4],\n",
       " [4]]"
      ]
     },
     "execution_count": 1,
     "metadata": {},
     "output_type": "execute_result"
    }
   ],
   "source": [
    "def subsets(A):\n",
    "    combinations = []\n",
    "\n",
    "    def backtracking(start, curr):\n",
    "        if start == len(A):\n",
    "            combinations.append(curr.copy())\n",
    "            return\n",
    "        elif curr not in combinations:\n",
    "            combinations.append(curr.copy())\n",
    "\n",
    "        for num in range(start, len(A)):\n",
    "            curr.append(A[num])\n",
    "            backtracking(num+1, curr)\n",
    "            curr.pop()\n",
    "\n",
    "    backtracking(0, [])\n",
    "\n",
    "    return combinations\n",
    "\n",
    "subsets([15, 20, 12, 19, 4])"
   ]
  },
  {
   "cell_type": "code",
   "execution_count": 7,
   "id": "bc510894",
   "metadata": {},
   "outputs": [
    {
     "name": "stdout",
     "output_type": "stream",
     "text": [
      "[[], [15], [15, 20], [20]]\n"
     ]
    }
   ],
   "source": [
    "def subsets(nums):\n",
    "    result = []\n",
    "\n",
    "    def backtrack(start, path):\n",
    "        # Add the current subset (path) to the result\n",
    "        result.append(path[:])\n",
    "        \n",
    "        for i in range(start, len(nums)):\n",
    "            # Include nums[i] in the current subset\n",
    "            path.append(nums[i])\n",
    "            backtrack(i + 1, path)  # Recurse with remaining elements\n",
    "            path.pop()  # Undo choice (backtrack)\n",
    "    \n",
    "    backtrack(0, [])\n",
    "    return result\n",
    "\n",
    "print(subsets([15, 20, 2]))"
   ]
  },
  {
   "cell_type": "code",
   "execution_count": 30,
   "id": "0296e200",
   "metadata": {},
   "outputs": [
    {
     "name": "stdout",
     "output_type": "stream",
     "text": [
      "[[], [15], [20], [35], [15, 20], [15, 35], [20, 35], [15, 20, 35]]\n"
     ]
    }
   ],
   "source": [
    "import itertools\n",
    "\n",
    "arr = [15, 20, 35]\n",
    "res = []\n",
    "for i in range(len(arr) + 1):\n",
    "    for comb in itertools.combinations(arr,i):\n",
    "        res.append(list(comb))\n",
    "\n",
    "print(res)"
   ]
  },
  {
   "cell_type": "markdown",
   "id": "4c60d40f",
   "metadata": {},
   "source": [
    "# Permutations"
   ]
  },
  {
   "cell_type": "code",
   "execution_count": 34,
   "id": "b55434c3",
   "metadata": {},
   "outputs": [
    {
     "name": "stdout",
     "output_type": "stream",
     "text": [
      "[[1, 1, 2], [1, 2, 1], [2, 1, 1]]\n"
     ]
    }
   ],
   "source": [
    "def permutations(nums):\n",
    "    result = []\n",
    "\n",
    "    def backtrack(path, options):\n",
    "        if len(path) == len(nums):  # Base case: Path has all elements\n",
    "            if path not in result:\n",
    "            result.append(path[:])\n",
    "            return\n",
    "        \n",
    "        for i in range(len(options)):\n",
    "            path.append(options[i])  # Make a choice\n",
    "            backtrack(path, options[:i] + options[i+1:])  # Remove chosen element\n",
    "            \n",
    "            path.pop()  # Undo choice (backtrack)\n",
    "    \n",
    "    backtrack([], nums)\n",
    "    return result\n",
    "\n",
    "print(permutations([1, 1, 2]))"
   ]
  },
  {
   "cell_type": "code",
   "execution_count": 40,
   "id": "7985952f",
   "metadata": {},
   "outputs": [
    {
     "name": "stdout",
     "output_type": "stream",
     "text": [
      "Counter({1: 2, 2: 1})\n",
      "[[1, 1, 2], [1, 2, 1], [2, 1, 1]]\n"
     ]
    }
   ],
   "source": [
    "from collections import Counter\n",
    "def permutations(nums):\n",
    "    res = []\n",
    "    counter = Counter(nums)  # Count occurrences of each number\n",
    "    print(counter)\n",
    "    def backtracking(path):\n",
    "        if len(path) == len(nums):  # Found a valid permutation\n",
    "            res.append(path[:])\n",
    "            return\n",
    "\n",
    "        for num in counter:  # Iterate over unique numbers\n",
    "            if counter[num] > 0:\n",
    "                path.append(num)\n",
    "                counter[num] -= 1  # Mark as used\n",
    "\n",
    "                backtracking(path)\n",
    "\n",
    "                path.pop()\n",
    "                counter[num] += 1  # Restore the count\n",
    "\n",
    "    backtracking([]) \n",
    "    return res\n",
    "    \n",
    "print(permutations([1, 1, 2]))"
   ]
  },
  {
   "cell_type": "code",
   "execution_count": 32,
   "id": "b1c42db7",
   "metadata": {},
   "outputs": [
    {
     "name": "stdout",
     "output_type": "stream",
     "text": [
      "['abc', 'acb', 'bac', 'bca', 'cab', 'cba']\n"
     ]
    }
   ],
   "source": [
    "import itertools\n",
    "\n",
    "arr = 'abc'\n",
    "res = []\n",
    "for comb in itertools.permutations(arr):\n",
    "    res.append(''.join(comb))\n",
    "\n",
    "print(res)"
   ]
  },
  {
   "cell_type": "markdown",
   "id": "6977d1f1",
   "metadata": {},
   "source": [
    "# N-Queens"
   ]
  },
  {
   "cell_type": "code",
   "execution_count": 1,
   "id": "03f268f2",
   "metadata": {},
   "outputs": [
    {
     "name": "stdout",
     "output_type": "stream",
     "text": [
      "[['.Q..', '...Q', 'Q...', '..Q.'], ['..Q.', 'Q...', '...Q', '.Q..']]\n"
     ]
    }
   ],
   "source": [
    "def solveNQueens(n):\n",
    "    result = []\n",
    "    board = [[\".\"] * n for _ in range(n)]\n",
    "\n",
    "    def is_safe(row, col):\n",
    "        for i in range(row):\n",
    "            if board[i][col] == \"Q\" or \\\n",
    "               (col - (row - i) >= 0 and board[i][col - (row - i)] == \"Q\") or \\\n",
    "               (col + (row - i) < n and board[i][col + (row - i)] == \"Q\"):\n",
    "                return False\n",
    "        return True\n",
    "\n",
    "    def backtrack(row):\n",
    "        if row == n:  # Base case: All queens placed\n",
    "            result.append([\"\".join(row) for row in board])\n",
    "            return\n",
    "        \n",
    "        for col in range(n):\n",
    "            if is_safe(row, col):\n",
    "                board[row][col] = \"Q\"  # Place queen\n",
    "                backtrack(row + 1)  # Recurse to place the next queen\n",
    "                board[row][col] = \".\"  # Undo choice (backtrack)\n",
    "    \n",
    "    backtrack(0)\n",
    "    return result\n",
    "\n",
    "print(solveNQueens(4))"
   ]
  },
  {
   "cell_type": "code",
   "execution_count": 21,
   "id": "f4336621",
   "metadata": {},
   "outputs": [
    {
     "name": "stdout",
     "output_type": "stream",
     "text": [
      "[[1, 1, 1, 1, 1, 1, 1, 1, 1, 1, 1, 1, 1, 1, 1, 1, 1, 1, 1, 1, 1, 1, 1, 1, 1, 1, 1, 1], [1, 1, 1, 1, 1, 1, 1, 1, 1, 1, 1, 1, 1, 1, 1, 1, 1, 1, 1, 1, 1, 1, 6], [1, 1, 1, 1, 1, 1, 1, 1, 1, 1, 1, 1, 1, 1, 1, 1, 1, 1, 1, 1, 8], [1, 1, 1, 1, 1, 1, 1, 1, 1, 1, 1, 1, 1, 1, 1, 1, 1, 1, 10], [1, 1, 1, 1, 1, 1, 1, 1, 1, 1, 1, 1, 1, 1, 1, 1, 1, 11], [1, 1, 1, 1, 1, 1, 1, 1, 1, 1, 1, 1, 1, 1, 1, 1, 6, 6], [1, 1, 1, 1, 1, 1, 1, 1, 1, 1, 1, 1, 1, 1, 6, 8], [1, 1, 1, 1, 1, 1, 1, 1, 1, 1, 1, 1, 6, 10], [1, 1, 1, 1, 1, 1, 1, 1, 1, 1, 1, 1, 8, 8], [1, 1, 1, 1, 1, 1, 1, 1, 1, 1, 1, 1, 16], [1, 1, 1, 1, 1, 1, 1, 1, 1, 1, 1, 6, 11], [1, 1, 1, 1, 1, 1, 1, 1, 1, 1, 6, 6, 6], [1, 1, 1, 1, 1, 1, 1, 1, 1, 1, 8, 10], [1, 1, 1, 1, 1, 1, 1, 1, 1, 8, 11], [1, 1, 1, 1, 1, 1, 1, 1, 6, 6, 8], [1, 1, 1, 1, 1, 1, 1, 1, 10, 10], [1, 1, 1, 1, 1, 1, 1, 10, 11], [1, 1, 1, 1, 1, 1, 6, 6, 10], [1, 1, 1, 1, 1, 1, 6, 8, 8], [1, 1, 1, 1, 1, 1, 6, 16], [1, 1, 1, 1, 1, 1, 11, 11], [1, 1, 1, 1, 1, 6, 6, 11], [1, 1, 1, 1, 6, 6, 6, 6], [1, 1, 1, 1, 6, 8, 10], [1, 1, 1, 1, 8, 8, 8], [1, 1, 1, 1, 8, 16], [1, 1, 1, 6, 8, 11], [1, 1, 6, 6, 6, 8], [1, 1, 6, 10, 10], [1, 1, 8, 8, 10], [1, 1, 10, 16], [1, 6, 10, 11], [1, 8, 8, 11], [1, 11, 16], [6, 6, 6, 10], [6, 6, 8, 8], [6, 6, 16], [6, 11, 11], [8, 10, 10]]\n"
     ]
    }
   ],
   "source": [
    "def combinationSum(A, B):\n",
    "    combinations = []\n",
    "\n",
    "    A.sort()\n",
    "    def backtracking(total, start, curr):\n",
    "        nonlocal combinations\n",
    "        if total == B:\n",
    "            combinations.append(curr.copy())\n",
    "            return\n",
    "        if total > B:\n",
    "            return\n",
    "\n",
    "        for num in range(start, len(A)):\n",
    "            if num > start and A[num] == A[num-1]:\n",
    "                continue\n",
    "            curr.append(A[num])\n",
    "            backtracking(total + A[num], num , curr)\n",
    "            curr.pop()\n",
    "\n",
    "\n",
    "    backtracking(0, 0, [])\n",
    "    return combinations\n",
    "\n",
    "\n",
    "print(combinationSum([ 8, 10, 6, 11, 1, 16, 8 ], 28))"
   ]
  },
  {
   "cell_type": "code",
   "execution_count": null,
   "id": "68551b66",
   "metadata": {},
   "outputs": [],
   "source": []
  }
 ],
 "metadata": {
  "kernelspec": {
   "display_name": "Python [conda env:base] *",
   "language": "python",
   "name": "conda-base-py"
  },
  "language_info": {
   "codemirror_mode": {
    "name": "ipython",
    "version": 3
   },
   "file_extension": ".py",
   "mimetype": "text/x-python",
   "name": "python",
   "nbconvert_exporter": "python",
   "pygments_lexer": "ipython3",
   "version": "3.12.7"
  }
 },
 "nbformat": 4,
 "nbformat_minor": 5
}
