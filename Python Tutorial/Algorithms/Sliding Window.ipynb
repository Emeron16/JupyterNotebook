{
 "cells": [
  {
   "cell_type": "markdown",
   "id": "a00531da",
   "metadata": {},
   "source": [
    "To solve a sliding window problem effectively, follow this template:\n",
    "1. Understand the Problem\n",
    "Determine the problem constraints (e.g., fixed size or dynamic size window).\n",
    "Identify what needs to be maximized, minimized, or counted within the window.\n",
    "2. Initialize the Window\n",
    "Define two pointers: start (left) and end (right).\n",
    "Start with the smallest valid window (often size 0 or 1).\n",
    "3. Expand the Window\n",
    "Use the end pointer to include new elements and modify the window state.\n",
    "Update conditions like sum, count, or frequency as the window grows.\n",
    "4. Shrink the Window (if needed)\n",
    "Check if the current window violates constraints or needs optimization.\n",
    "Adjust the start pointer to shrink the window and restore valid conditions.\n",
    "5. Update Results\n",
    "At each step (or valid state), update the desired result (e.g., maximum sum, minimum size).\n",
    "Track the global best answer.\n",
    "6. Return the Result\n",
    "After processing the entire array, return the computed result."
   ]
  },
  {
   "cell_type": "code",
   "execution_count": 1,
   "id": "96acae3e",
   "metadata": {},
   "outputs": [
    {
     "data": {
      "text/plain": [
       "7"
      ]
     },
     "execution_count": 1,
     "metadata": {},
     "output_type": "execute_result"
    }
   ],
   "source": [
    "def maxSumSubarray(nums, k):\n",
    "    max_sum, window_sum = 0, 0\n",
    "    start = 0\n",
    "    \n",
    "    for end in range(len(nums)):\n",
    "        window_sum += nums[end]  # Expand the window\n",
    "        \n",
    "        if end - start + 1 == k:  # Check if window size is `k`\n",
    "            max_sum = max(max_sum, window_sum)\n",
    "            window_sum -= nums[start]  # Shrink the window\n",
    "            start += 1\n",
    "    \n",
    "    return max_sum\n",
    "\n",
    "maxSumSubarray([1,2,3,4],2)"
   ]
  },
  {
   "cell_type": "code",
   "execution_count": null,
   "id": "b1e99437",
   "metadata": {},
   "outputs": [],
   "source": [
    "def characterReplacement(s: str, k: int) -> int:\n",
    "    from collections import defaultdict\n",
    "\n",
    "    freq = defaultdict(int)\n",
    "    start = 0\n",
    "    max_length = 0\n",
    "    max_count = 0  # Tracks the count of the most frequent character in the window\n",
    "\n",
    "    for end in range(len(s)):\n",
    "        # Expand the window\n",
    "        freq[s[end]] += 1\n",
    "        max_count = max(max_count, freq[s[end]])\n",
    "\n",
    "        # Check if the current window is valid\n",
    "        while (end - start + 1) - max_count > k:\n",
    "            freq[s[start]] -= 1\n",
    "            start += 1\n",
    "\n",
    "        # Update the maximum length\n",
    "        max_length = max(max_length, end - start + 1)\n",
    "\n",
    "    return max_length\n"
   ]
  }
 ],
 "metadata": {
  "kernelspec": {
   "display_name": "Python 3 (ipykernel)",
   "language": "python",
   "name": "python3"
  },
  "language_info": {
   "codemirror_mode": {
    "name": "ipython",
    "version": 3
   },
   "file_extension": ".py",
   "mimetype": "text/x-python",
   "name": "python",
   "nbconvert_exporter": "python",
   "pygments_lexer": "ipython3",
   "version": "3.11.7"
  }
 },
 "nbformat": 4,
 "nbformat_minor": 5
}
