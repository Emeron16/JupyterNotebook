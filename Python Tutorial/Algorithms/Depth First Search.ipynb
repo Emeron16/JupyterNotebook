{
 "cells": [
  {
   "cell_type": "code",
   "execution_count": 3,
   "id": "4a013264",
   "metadata": {},
   "outputs": [],
   "source": [
    "class TreeNode:\n",
    "    def __init__(self, val = 0, left =None, right = None):\n",
    "        self.val = val\n",
    "        self.left = left\n",
    "        self.right = right"
   ]
  },
  {
   "cell_type": "code",
   "execution_count": null,
   "id": "5810f37a",
   "metadata": {},
   "outputs": [],
   "source": [
    "# Traversal Approach"
   ]
  },
  {
   "cell_type": "code",
   "execution_count": 31,
   "id": "3b3aa752",
   "metadata": {},
   "outputs": [],
   "source": [
    "def Preorder(root):\n",
    "    if root is None:\n",
    "        return None\n",
    "    \n",
    "    stack = [root]\n",
    "    \n",
    "    while stack:\n",
    "        \n",
    "        Node = stack.pop()\n",
    "        print(Node.val)\n",
    "        \n",
    "        if Node.right:\n",
    "            stack.append(Node.right)\n",
    "        if Node.left:\n",
    "            stack.append(Node.left)\n",
    "        "
   ]
  },
  {
   "cell_type": "code",
   "execution_count": 32,
   "id": "3c1dcfa6",
   "metadata": {},
   "outputs": [],
   "source": [
    "#Recursive Approach"
   ]
  },
  {
   "cell_type": "code",
   "execution_count": 9,
   "id": "1e004113",
   "metadata": {},
   "outputs": [],
   "source": [
    "def PreorderRecursive(root):\n",
    "    if root is None:\n",
    "        return None\n",
    "    print(root.val)\n",
    "    PreorderRecursive(root.left)\n",
    "\n",
    "    PreorderRecursive(root.right)\n"
   ]
  },
  {
   "cell_type": "code",
   "execution_count": 34,
   "id": "ac0b1e31",
   "metadata": {},
   "outputs": [],
   "source": [
    "def InorderRecursive(root):\n",
    "    if root is None:\n",
    "        return None\n",
    "    \n",
    "    InorderRecursive(root.left)\n",
    "    print(root.val)\n",
    "    InorderRecursive(root.right)"
   ]
  },
  {
   "cell_type": "code",
   "execution_count": 16,
   "id": "b9e71fea",
   "metadata": {},
   "outputs": [],
   "source": [
    "def PostorderRecursive(root):\n",
    "    if root is None:\n",
    "        return None\n",
    "    \n",
    "    PostorderRecursive(root.left)\n",
    "    PostorderRecursive(root.right)\n",
    "    print(root.val)"
   ]
  },
  {
   "cell_type": "code",
   "execution_count": 15,
   "id": "c158e872",
   "metadata": {},
   "outputs": [],
   "source": [
    "root = TreeNode(1)\n",
    "root.left = TreeNode(2)\n",
    "root.right = TreeNode(3)\n",
    "root.left.left = TreeNode(4)\n",
    "root.left.right = TreeNode(5)\n",
    "root.right.left = TreeNode(6)\n",
    "root.right.right = TreeNode(7)"
   ]
  },
  {
   "cell_type": "code",
   "execution_count": 10,
   "id": "898e53e0",
   "metadata": {},
   "outputs": [
    {
     "name": "stdout",
     "output_type": "stream",
     "text": [
      "1\n",
      "2\n",
      "4\n",
      "5\n",
      "8\n",
      "3\n",
      "6\n",
      "7\n"
     ]
    }
   ],
   "source": [
    "PreorderRecursive(root)\n",
    "\n",
    "\n",
    "\n",
    "\n"
   ]
  },
  {
   "cell_type": "code",
   "execution_count": 30,
   "id": "75f5cf2d",
   "metadata": {},
   "outputs": [
    {
     "name": "stdout",
     "output_type": "stream",
     "text": [
      "1\n",
      "3\n",
      "7\n",
      "6\n",
      "2\n",
      "5\n",
      "8\n"
     ]
    }
   ],
   "source": [
    "InorderRecursive(root)"
   ]
  },
  {
   "cell_type": "code",
   "execution_count": 17,
   "id": "41758124",
   "metadata": {},
   "outputs": [
    {
     "name": "stdout",
     "output_type": "stream",
     "text": [
      "4\n",
      "5\n",
      "2\n",
      "6\n",
      "7\n",
      "3\n",
      "1\n"
     ]
    }
   ],
   "source": [
    "PostorderRecursive(root)"
   ]
  },
  {
   "cell_type": "code",
   "execution_count": 18,
   "id": "0e3009ca",
   "metadata": {},
   "outputs": [
    {
     "name": "stdout",
     "output_type": "stream",
     "text": [
      "2\n",
      "5\n",
      "8\n",
      "1\n",
      "6\n",
      "3\n",
      "7\n"
     ]
    }
   ],
   "source": [
    "InorderRecursive(root)"
   ]
  },
  {
   "cell_type": "code",
   "execution_count": 21,
   "id": "84016c08",
   "metadata": {},
   "outputs": [
    {
     "name": "stdout",
     "output_type": "stream",
     "text": [
      "8\n",
      "5\n",
      "2\n",
      "6\n",
      "7\n",
      "3\n",
      "1\n"
     ]
    }
   ],
   "source": [
    "PostorderRecursive(root)"
   ]
  },
  {
   "cell_type": "markdown",
   "id": "908c25c7",
   "metadata": {},
   "source": [
    "# Graphs"
   ]
  },
  {
   "cell_type": "code",
   "execution_count": 2,
   "id": "ef05c395",
   "metadata": {},
   "outputs": [],
   "source": [
    "def dfs_iterative(graph, start):\n",
    "    # Initialize a stack with the start node\n",
    "    stack = [start]\n",
    "    # To keep track of visited nodes\n",
    "    visited = set()\n",
    "    \n",
    "    # While there are nodes to process in the stack\n",
    "    while stack:\n",
    "        # Pop the last node from the stack (LIFO)\n",
    "        node = stack.pop()\n",
    "        \n",
    "        # If the node hasn't been visited, mark it as visited\n",
    "        if node not in visited:\n",
    "            print(node)  # Process the node (e.g., print it)\n",
    "            visited.add(node)\n",
    "            \n",
    "            # Add all unvisited neighbors of the node to the stack\n",
    "            for neighbor in graph[node]:\n",
    "                if neighbor not in visited:\n",
    "                    stack.append(neighbor)\n",
    "            "
   ]
  },
  {
   "cell_type": "code",
   "execution_count": 7,
   "id": "1315d02b",
   "metadata": {},
   "outputs": [],
   "source": [
    "def dfs_recursive(graph, node, visited=None):\n",
    "    if visited is None:\n",
    "        visited = set()\n",
    "    \n",
    "    # Mark the current node as visited\n",
    "    visited.add(node)\n",
    "    print(node)  # Process the node (e.g., print it)\n",
    "    \n",
    "    # Visit each neighbor\n",
    "    for neighbor in graph[node]:\n",
    "        if neighbor not in visited:\n",
    "            dfs_recursive(graph, neighbor, visited)"
   ]
  },
  {
   "cell_type": "code",
   "execution_count": 4,
   "id": "9fe6cdc0",
   "metadata": {},
   "outputs": [
    {
     "name": "stdout",
     "output_type": "stream",
     "text": [
      "0\n",
      "2\n",
      "5\n",
      "4\n",
      "1\n",
      "3\n"
     ]
    }
   ],
   "source": [
    "# Example graph as an adjacency list\n",
    "graph = {\n",
    "    0: [1, 2],\n",
    "    1: [0, 3, 4],\n",
    "    2: [0, 5],\n",
    "    3: [1],\n",
    "    4: [1, 5],\n",
    "    5: [2, 4]\n",
    "}\n",
    "\n",
    "# Run DFS from node 0\n",
    "dfsIterative(graph, 0)"
   ]
  },
  {
   "cell_type": "code",
   "execution_count": 8,
   "id": "748744f2",
   "metadata": {},
   "outputs": [
    {
     "name": "stdout",
     "output_type": "stream",
     "text": [
      "0\n",
      "1\n",
      "3\n",
      "4\n",
      "5\n",
      "2\n"
     ]
    }
   ],
   "source": [
    "dfs_recursive(graph, 0)"
   ]
  },
  {
   "cell_type": "markdown",
   "id": "bda4df28",
   "metadata": {},
   "source": [
    "# Matrix"
   ]
  },
  {
   "cell_type": "code",
   "execution_count": 1,
   "id": "a6b25e47",
   "metadata": {},
   "outputs": [],
   "source": [
    "def dfs(matrix, i, j, visited):\n",
    "    if i < 0 or i >= len(matrix) or j < 0 or j >= len(matrix[0]) or matrix[i][j] or(i,j) in visited:\n",
    "        return\n",
    "    \n",
    "    visited.add((i,j))\n",
    "    dfs(matrix, i + 1, j, visited)\n",
    "    dfs(matrix,i - 1, j, visited)\n",
    "    dfs(matrix,i, j + 1, visited)\n",
    "    dfs(matrix, i, j - 1, visited)\n",
    "\n",
    "def count_islands(matrix):\n",
    "    visited = set()\n",
    "    num_island = 0\n",
    "    for i in range(len(matrix)):\n",
    "        for j in range(len(matrix[0])):\n",
    "            if matrix[i][j] == 1 and (i,j) not in visited:\n",
    "                dfs(matrix, i, j, visited)\n",
    "                nums_island += 1\n",
    "        \n",
    "    return nums_islands\n",
    "        "
   ]
  },
  {
   "cell_type": "code",
   "execution_count": null,
   "id": "e87a6e1b",
   "metadata": {},
   "outputs": [],
   "source": []
  }
 ],
 "metadata": {
  "kernelspec": {
   "display_name": "Python 3 (ipykernel)",
   "language": "python",
   "name": "python3"
  },
  "language_info": {
   "codemirror_mode": {
    "name": "ipython",
    "version": 3
   },
   "file_extension": ".py",
   "mimetype": "text/x-python",
   "name": "python",
   "nbconvert_exporter": "python",
   "pygments_lexer": "ipython3",
   "version": "3.11.7"
  }
 },
 "nbformat": 4,
 "nbformat_minor": 5
}
