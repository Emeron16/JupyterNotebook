{
 "cells": [
  {
   "attachments": {
    "image.png": {
     "image/png": "[encoded data removed]"
    }
   },
   "cell_type": "markdown",
   "id": "7b26f3de",
   "metadata": {},
   "source": [
    "Binary Search is an efficient algorithm for finding a target value within a sorted array or list. It works by repeatedly dividing the search interval in half. If the target value is less than the middle element, the search continues on the left half of the array; if it is greater, the search continues on the right half. This process is repeated until the target value is found or the search interval is empty.![image.png](attachment:image.png)"
   ]
  },
  {
   "cell_type": "code",
   "execution_count": 1,
   "id": "2eee0926",
   "metadata": {},
   "outputs": [
    {
     "name": "stdout",
     "output_type": "stream",
     "text": [
      "Element 5 is at index: 4\n"
     ]
    }
   ],
   "source": [
    "def binary_search(arr, target):\n",
    "    left, right = 0, len(arr) - 1\n",
    "    \n",
    "    while left <= right:\n",
    "        mid = (left + right) // 2\n",
    "        \n",
    "        # Check if target is at mid\n",
    "        if arr[mid] == target:\n",
    "            return mid\n",
    "        \n",
    "        # If target is smaller, ignore the right half\n",
    "        elif arr[mid] > target:\n",
    "            right = mid - 1\n",
    "            \n",
    "        # If target is larger, ignore the left half\n",
    "        else:\n",
    "            left = mid + 1\n",
    "    \n",
    "    # Target is not present in the array\n",
    "    return -1\n",
    "\n",
    "\n",
    "\n",
    "\n"
   ]
  },
  {
   "cell_type": "code",
   "execution_count": 2,
   "id": "3ce8f95e",
   "metadata": {},
   "outputs": [
    {
     "name": "stdout",
     "output_type": "stream",
     "text": [
      "Element 5 is at index: 4\n"
     ]
    }
   ],
   "source": [
    "# Example usage:\n",
    "arr = [1, 2, 3, 4, 5, 6, 7, 8, 9]\n",
    "target = 5\n",
    "result = binary_search(arr, target)\n",
    "print(f\"Element {target} is at index: {result}\")  # Output: Element 5 is at index: 4"
   ]
  },
  {
   "cell_type": "code",
   "execution_count": 3,
   "id": "6ac5a7ee",
   "metadata": {},
   "outputs": [
    {
     "name": "stdout",
     "output_type": "stream",
     "text": [
      "Element 5 is at index: 4\n"
     ]
    }
   ],
   "source": [
    "def binary_search_recursive(arr, target, left, right):\n",
    "    # Base case: if left index exceeds right, target is not present\n",
    "    if left > right:\n",
    "        return -1\n",
    "    \n",
    "    mid = (left + right) // 2\n",
    "    \n",
    "    # Check if target is at mid\n",
    "    if arr[mid] == target:\n",
    "        return mid\n",
    "    \n",
    "    # If target is smaller, search in the left half\n",
    "    elif arr[mid] > target:\n",
    "        return binary_search_recursive(arr, target, left, mid - 1)\n",
    "    \n",
    "    # If target is larger, search in the right half\n",
    "    else:\n",
    "        return binary_search_recursive(arr, target, mid + 1, right)\n",
    "# Example usage:\n",
    "arr = [1, 2, 3, 4, 5, 6, 7, 8, 9]\n",
    "target = 5\n",
    "result = binary_search_recursive(arr, target, 0, len(arr) - 1)\n",
    "print(f\"Element {target} is at index: {result}\")  # Output: Element 5 is at index: 4\n"
   ]
  },
  {
   "cell_type": "code",
   "execution_count": 4,
   "id": "e09b73dc",
   "metadata": {},
   "outputs": [
    {
     "ename": "TypeError",
     "evalue": "list.index() takes no keyword arguments",
     "output_type": "error",
     "traceback": [
      "\u001b[0;31m---------------------------------------------------------------------------\u001b[0m",
      "\u001b[0;31mTypeError\u001b[0m                                 Traceback (most recent call last)",
      "Cell \u001b[0;32mIn[4], line 3\u001b[0m\n\u001b[1;32m      1\u001b[0m l \u001b[38;5;241m=\u001b[39m [\u001b[38;5;241m5\u001b[39m,\u001b[38;5;241m5\u001b[39m,\u001b[38;5;241m5\u001b[39m,\u001b[38;5;241m3\u001b[39m]\n\u001b[0;32m----> 3\u001b[0m l\u001b[38;5;241m.\u001b[39mindex(\u001b[38;5;241m5\u001b[39m, start \u001b[38;5;241m=\u001b[39m \u001b[38;5;241m2\u001b[39m)\n",
      "\u001b[0;31mTypeError\u001b[0m: list.index() takes no keyword arguments"
     ]
    }
   ],
   "source": [
    "l = [5,5,5,3]\n",
    "\n",
    "l.index(5, start = 2)"
   ]
  },
  {
   "cell_type": "code",
   "execution_count": 2,
   "id": "01d824aa",
   "metadata": {},
   "outputs": [
    {
     "data": {
      "text/plain": [
       "<function list.index(value, start=0, stop=9223372036854775807, /)>"
      ]
     },
     "execution_count": 2,
     "metadata": {},
     "output_type": "execute_result"
    }
   ],
   "source": [
    "l.index"
   ]
  },
  {
   "cell_type": "code",
   "execution_count": null,
   "id": "c41a05ef",
   "metadata": {},
   "outputs": [],
   "source": []
  }
 ],
 "metadata": {
  "kernelspec": {
   "display_name": "Python [conda env:base] *",
   "language": "python",
   "name": "conda-base-py"
  },
  "language_info": {
   "codemirror_mode": {
    "name": "ipython",
    "version": 3
   },
   "file_extension": ".py",
   "mimetype": "text/x-python",
   "name": "python",
   "nbconvert_exporter": "python",
   "pygments_lexer": "ipython3",
   "version": "3.12.7"
  }
 },
 "nbformat": 4,
 "nbformat_minor": 5
}
