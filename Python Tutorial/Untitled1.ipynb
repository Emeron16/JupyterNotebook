{
 "cells": [
  {
   "cell_type": "markdown",
   "id": "db70cf45",
   "metadata": {},
   "source": [
    "Codeland Username Validation\n",
    "Have the function CodelandUsernameValidation(str) take the str parameter being passed and determine if the string is a valid username according to the following rules:\n",
    "\n",
    "1. The username is between 4 and 25 characters.\n",
    "2. It must start with a letter.\n",
    "3. It can only contain letters, numbers, and the underscore character.\n",
    "4. It cannot end with an underscore character.\n",
    "\n",
    "If the username is valid then your program should return the string true, otherwise return the string false.\n",
    "\n",
    "Examples\n",
    "Input: \"aa_\"\n",
    "Output: false\n",
    "Input: \"u__hello_world123\"\n",
    "Output: true"
   ]
  },
  {
   "cell_type": "code",
   "execution_count": 4,
   "id": "2712a771",
   "metadata": {},
   "outputs": [
    {
     "data": {
      "text/plain": [
       "str"
      ]
     },
     "execution_count": 4,
     "metadata": {},
     "output_type": "execute_result"
    }
   ],
   "source": [
    "Name = 'LeeFine'\n",
    "#len(8)\n"
   ]
  },
  {
   "cell_type": "code",
   "execution_count": 19,
   "id": "b270c716",
   "metadata": {},
   "outputs": [
    {
     "name": "stdout",
     "output_type": "stream",
     "text": [
      "36\n"
     ]
    }
   ],
   "source": [
    "def EightQueens(board):\n",
    "    if board == 8:\n",
    "        "
   ]
  },
  {
   "cell_type": "code",
   "execution_count": 5,
   "id": "95b437d3",
   "metadata": {},
   "outputs": [
    {
     "data": {
      "text/plain": [
       "0"
      ]
     },
     "execution_count": 5,
     "metadata": {},
     "output_type": "execute_result"
    }
   ],
   "source": [
    "2 ^ 4"
   ]
  },
  {
   "cell_type": "code",
   "execution_count": 3,
   "id": "e2d4d8b9",
   "metadata": {},
   "outputs": [
    {
     "ename": "TypeError",
     "evalue": "TNavigator.forward() missing 1 required positional argument: 'distance'",
     "output_type": "error",
     "traceback": [
      "\u001b[0;31m---------------------------------------------------------------------------\u001b[0m",
      "\u001b[0;31mTypeError\u001b[0m                                 Traceback (most recent call last)",
      "Cell \u001b[0;32mIn[3], line 7\u001b[0m\n\u001b[1;32m      3\u001b[0m wn \u001b[38;5;241m=\u001b[39m turtle\u001b[38;5;241m.\u001b[39mScreen()\n\u001b[1;32m      5\u001b[0m T \u001b[38;5;241m=\u001b[39m turtle\u001b[38;5;241m.\u001b[39mTurtle\n\u001b[0;32m----> 7\u001b[0m T\u001b[38;5;241m.\u001b[39mforward(\u001b[38;5;241m100\u001b[39m)\n\u001b[1;32m      8\u001b[0m T\u001b[38;5;241m.\u001b[39mright(\u001b[38;5;241m90\u001b[39m)\n\u001b[1;32m      9\u001b[0m T\u001b[38;5;241m.\u001b[39mforward(\u001b[38;5;241m100\u001b[39m)\n",
      "\u001b[0;31mTypeError\u001b[0m: TNavigator.forward() missing 1 required positional argument: 'distance'"
     ]
    }
   ],
   "source": [
    "import turtle\n",
    "\n",
    "wn = turtle.Screen()\n",
    "\n",
    "T = turtle.Turtle\n",
    "\n",
    "T.forward(100)\n",
    "T.right(90)\n",
    "T.forward(100)\n",
    "T.right(90)\n",
    "T.forward(100)\n",
    "T.right(90)"
   ]
  },
  {
   "cell_type": "code",
   "execution_count": 4,
   "id": "ec9a3f56",
   "metadata": {},
   "outputs": [],
   "source": [
    "T.forward??\n"
   ]
  },
  {
   "cell_type": "code",
   "execution_count": null,
   "id": "eb024cc1",
   "metadata": {},
   "outputs": [],
   "source": [
    "turtle.position()\n",
    "(0.00, 0.00)\n",
    "turtle.forward(25)\n",
    "turtle.position()\n",
    "        (25.00,0.00)\n",
    "turtle.forward(-75)\n",
    "turtle.position()\n",
    "        (-50.00,0.00)"
   ]
  },
  {
   "cell_type": "code",
   "execution_count": null,
   "id": "3d4a10ea",
   "metadata": {},
   "outputs": [],
   "source": []
  }
 ],
 "metadata": {
  "kernelspec": {
   "display_name": "Python 3 (ipykernel)",
   "language": "python",
   "name": "python3"
  },
  "language_info": {
   "codemirror_mode": {
    "name": "ipython",
    "version": 3
   },
   "file_extension": ".py",
   "mimetype": "text/x-python",
   "name": "python",
   "nbconvert_exporter": "python",
   "pygments_lexer": "ipython3",
   "version": "3.11.7"
  }
 },
 "nbformat": 4,
 "nbformat_minor": 5
}
