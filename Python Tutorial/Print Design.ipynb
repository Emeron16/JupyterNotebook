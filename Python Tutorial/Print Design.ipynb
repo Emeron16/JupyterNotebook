{
 "cells": [
  {
   "cell_type": "markdown",
   "id": "5e590f97",
   "metadata": {},
   "source": [
    "# Example 1"
   ]
  },
  {
   "cell_type": "code",
   "execution_count": 15,
   "id": "d1e5e72a",
   "metadata": {},
   "outputs": [
    {
     "name": "stdout",
     "output_type": "stream",
     "text": [
      "  P  \n",
      " PPP \n",
      "PPPPP\n",
      " PPP         PPP        \n",
      " PPP         PPP        \n",
      " PPP         PPP        \n",
      " PPP         PPP        \n",
      " PPPPPPPPPPPPPPP  \n",
      " PPPPPPPPPPPPPPP  \n",
      " PPP         PPP        \n",
      " PPP         PPP        \n",
      " PPP         PPP        \n",
      " PPP         PPP        \n",
      "            PPPPP \n",
      "             PPP  \n",
      "              P   \n"
     ]
    }
   ],
   "source": [
    "thickness = 3\n",
    "c = \"P\"\n",
    "for i in range(thickness):\n",
    "    print((c*i).rjust(thickness-1)+c+(c*i).ljust(thickness-1))\n",
    "for i in range(thickness+1):\n",
    "    print((c*thickness).center(thickness*2)+(c*thickness).center(thickness*6))\n",
    "for i in range((thickness+1)//2):\n",
    "    print((c*thickness*5).center(thickness*6))\n",
    "for i in range(thickness+1):\n",
    "    print((c*thickness).center(thickness*2)+(c*thickness).center(thickness*6))\n",
    "for i in range(thickness):\n",
    "    print(((c*(thickness-i-1)).rjust(thickness)+c+(c*(thickness-i-1)).ljust(thickness)).rjust(thickness*6))\n"
   ]
  },
  {
   "cell_type": "markdown",
   "id": "07f48bfc",
   "metadata": {},
   "source": [
    "# Example 2"
   ]
  },
  {
   "cell_type": "code",
   "execution_count": null,
   "id": "a6c53b64",
   "metadata": {},
   "outputs": [],
   "source": [
    "#https://www.hackerrank.com/challenges/designer-door-mat/problem?isFullScreen=true\n",
    "#replace n value for length and m value for width\n",
    "n = 21\n",
    "m = 63\n",
    "line = 0\n",
    "#replace dash for boarder design\n",
    "dash = '-'\n",
    "#replace for design\n",
    "special = '.|.'\n",
    "specA = 1\n",
    "space= (m-specA*len(special))//2\n",
    "#Replace for word design\n",
    "word = \" Hello Welcome\"\n",
    "log = []\n",
    "for i in range(1, n+1):\n",
    "    \n",
    "        log.append(f\" line:{line},  n/2:{(n)//2}, {line < (n+1)//i},{(i ==(n)//2)},\\\n",
    "        specA: {specA},'i:'{i},{line} < {n//2}\")\n",
    "      \n",
    "        if line < n//2:\n",
    "            print((dash*space)+(special*specA)+(dash*space))\n",
    "            print( )\n",
    "            line+= 1\n",
    "            specA += 2\n",
    "       \n",
    "        elif line ==n//2:\n",
    "            Tempspace = m - len(word)\n",
    "            Temp = dash * Tempspace\n",
    "            Middle =  Temp[len(Temp)//2:]+word + Temp[:len(Temp)//2]\n",
    "            print(Middle)\n",
    "            line+=1\n",
    "            specA-=2\n",
    "        elif line > n//2:\n",
    "            print((dash*space)+(special*specA)+(dash*space))\n",
    "            line +=1\n",
    "            specA-=2\n",
    "        #How much space is needed for special Design.\n",
    "        #Subtract M from len of special times the number line we are on\n",
    "        space = (m-(specA*len(special)))//2\n",
    "        \n",
    "\n",
    "        \n",
    "#Shows log: print('\\n'.join([l for l in log])) \n",
    "   \n",
    "    \n",
    "\n",
    "     "
   ]
  },
  {
   "cell_type": "code",
   "execution_count": 9,
   "id": "3673f865",
   "metadata": {},
   "outputs": [
    {
     "name": "stdout",
     "output_type": "stream",
     "text": [
      "-------------*-------------\n",
      "------------***------------\n",
      "-----------*****-----------\n",
      "----------*******----------\n",
      "----------WELCOME----------\n",
      "----------*******----------\n",
      "-----------*****-----------\n",
      "------------***------------\n",
      "-------------*-------------\n"
     ]
    }
   ],
   "source": [
    "n = 9\n",
    "m = 27\n",
    "s = \"*\"\n",
    "h = \"-\"\n",
    "w = \"WELCOME\"\n",
    "\n",
    "pat = [(s*(2*i + 1)).center(m, h) for i in range(n//2)]\n",
    "wel = [w.center(m,h)]\n",
    "\n",
    "x = \"\\n\".join(pat+wel+pat[::-1])\n",
    "print(x)"
   ]
  },
  {
   "cell_type": "markdown",
   "id": "7ffc827a",
   "metadata": {},
   "source": [
    "# Example 3"
   ]
  },
  {
   "cell_type": "code",
   "execution_count": 12,
   "id": "0952c99d",
   "metadata": {},
   "outputs": [
    {
     "name": "stdout",
     "output_type": "stream",
     "text": [
      "\n",
      "------------g------------\n",
      "----------g-f-g----------\n",
      "--------g-f-e-f-g--------\n",
      "------g-f-e-d-e-f-g------\n",
      "----g-f-e-d-c-d-e-f-g----\n",
      "--g-f-e-d-c-b-c-d-e-f-g--\n",
      "g-f-e-d-c-b-a-b-c-d-e-f-g\n",
      "--g-f-e-d-c-b-c-d-e-f-g--\n",
      "----g-f-e-d-c-d-e-f-g----\n",
      "------g-f-e-d-e-f-g------\n",
      "--------g-f-e-f-g--------\n",
      "----------g-f-g----------\n",
      "------------g------------\n"
     ]
    }
   ],
   "source": [
    "#https://www.hackerrank.com/challenges/alphabet-rangoli/problem?isFullScreen=true\n",
    "s = 7\n",
    "alphabet = \"abcdefghijklmnopqrstuvwxyz\"\n",
    "rangoli = []\n",
    "design = '-'\n",
    "reverse = list(alphabet[1:s])\n",
    "reverse.reverse()\n",
    "middle = '-'.join(reverse)+'-'+'-'.join(alphabet[:s])\n",
    "size = len(middle)\n",
    "rangoli = \"\"\n",
    "nLine = []\n",
    "\n",
    "#create bottom half of the line\n",
    "for l in range(1, s+1): \n",
    "    reverse = list(alphabet[l-1:s])\n",
    "    reverse.reverse()\n",
    "    nLine.append( \"\\n\"+ ('-'.join(reverse)+'-'+'-'.join(alphabet[l:s])).center(size, design))\n",
    "\n",
    "#create first half of the line\n",
    "fLine = nLine[1:]\n",
    "fLine.reverse()\n",
    " \n",
    "#Joins the line    \n",
    "rangoli += ''.join(fLine + nLine)\n",
    "\n",
    "print(rangoli)\n",
    "    "
   ]
  },
  {
   "cell_type": "code",
   "execution_count": 99,
   "id": "04eba2db",
   "metadata": {},
   "outputs": [
    {
     "name": "stdout",
     "output_type": "stream",
     "text": [
      "97\n",
      "------------g------------\n",
      "----------g-f-g----------\n",
      "--------g-f-e-f-g--------\n",
      "------g-f-e-d-e-f-g------\n",
      "----g-f-e-d-c-d-e-f-g----\n",
      "--g-f-e-d-c-b-c-d-e-f-g--\n",
      "g-f-e-d-c-b-a-b-c-d-e-f-g\n",
      "--g-f-e-d-c-b-c-d-e-f-g--\n",
      "----g-f-e-d-c-d-e-f-g----\n",
      "------g-f-e-d-e-f-g------\n",
      "--------g-f-e-f-g--------\n",
      "----------g-f-g----------\n",
      "------------g------------\n"
     ]
    }
   ],
   "source": [
    "    smchr=97 # ASCII code for 'a'. for 'A' it is 65\n",
    "    size = 7\n",
    "    \n",
    "    def print_line(i):\n",
    "        t=[]\n",
    "        for j in range(i,size): \n",
    "            t.append( chr(smchr + j) )\n",
    "            \n",
    "            \n",
    "        t = list(reversed(t)) + t[1:]\n",
    "        centre, sides = \"-\".join(t), '--'*i\n",
    "        print(sides+centre+sides)\n",
    "        \n",
    "    for i in reversed(range(size)): print_line(i)\n",
    "    for i in range(1,size): print_line(i)\n"
   ]
  },
  {
   "cell_type": "code",
   "execution_count": null,
   "id": "4aeb7211",
   "metadata": {},
   "outputs": [],
   "source": []
  }
 ],
 "metadata": {
  "kernelspec": {
   "display_name": "Python 3 (ipykernel)",
   "language": "python",
   "name": "python3"
  },
  "language_info": {
   "codemirror_mode": {
    "name": "ipython",
    "version": 3
   },
   "file_extension": ".py",
   "mimetype": "text/x-python",
   "name": "python",
   "nbconvert_exporter": "python",
   "pygments_lexer": "ipython3",
   "version": "3.11.7"
  }
 },
 "nbformat": 4,
 "nbformat_minor": 5
}
