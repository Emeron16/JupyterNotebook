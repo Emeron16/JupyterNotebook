{
 "cells": [
  {
   "cell_type": "code",
   "execution_count": 2,
   "id": "38a48d27",
   "metadata": {},
   "outputs": [],
   "source": [
    "def kmToMiles (km):\n",
    "    return km * .621371"
   ]
  },
  {
   "cell_type": "code",
   "execution_count": 3,
   "id": "22f86219",
   "metadata": {},
   "outputs": [
    {
     "name": "stdout",
     "output_type": "stream",
     "text": [
      "9.320565\n"
     ]
    }
   ],
   "source": [
    "A = kmToMiles(15)\n",
    "print(A)"
   ]
  },
  {
   "cell_type": "code",
   "execution_count": null,
   "id": "40feedf0",
   "metadata": {},
   "outputs": [],
   "source": []
  }
 ],
 "metadata": {
  "kernelspec": {
   "display_name": "Python 3 (ipykernel)",
   "language": "python",
   "name": "python3"
  },
  "language_info": {
   "codemirror_mode": {
    "name": "ipython",
    "version": 3
   },
   "file_extension": ".py",
   "mimetype": "text/x-python",
   "name": "python",
   "nbconvert_exporter": "python",
   "pygments_lexer": "ipython3",
   "version": "3.11.7"
  }
 },
 "nbformat": 4,
 "nbformat_minor": 5
}
