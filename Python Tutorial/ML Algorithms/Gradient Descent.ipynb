{
 "cells": [
  {
   "attachments": {},
   "cell_type": "markdown",
   "id": "af702f96",
   "metadata": {},
   "source": [
    "# Gradient Descent Manual Algorithm\n",
    " - Found in chapter 4 pg.38 of the \"Hundred Page Machine Book\""
   ]
  },
  {
   "cell_type": "code",
   "execution_count": null,
   "id": "98956dba",
   "metadata": {},
   "outputs": [],
   "source": [
    "def  update_w_and_b(spendings, sales, w, b, alpha):\n",
    "    #Mathematical algorithm can be found in the book\n",
    "    dl_dw = 0.0\n",
    "    dl_db = 0.0\n",
    "    N = len(spendings)\n",
    "    \n",
    "    for i in range(N):\n",
    "        dl_dw +=  -2 * spendings[i] * (sales[i] - ((w * spendings[i]) + b))\n",
    "        dl_dw += -2 * (sales[i] - ((w * spendings[i]) + b))\n",
    "    \n",
    "    #Update W and B\n",
    "    w = w - (1 / float(N)) * dl_dw * alpha\n",
    "    b = b - (1 / float(N)) * dl_db * alpha\n",
    "    \n",
    "    return w, b\n",
    "\n",
    "def train(spendings, sales, w = 0.0, b = 0.0, alpha = 0.001, epochs = 15000):\n",
    "    \n",
    "    for e in range(epochs):\n",
    "        w, b = update_w_and_b(spendings, sales, w, b, alpha)\n",
    "        \n",
    "    # log the progress\n",
    "    if e % 400 == 0:\n",
    "        print(\"epoch:\", e, \" loss:\", avg_loss(spendings, sales, w, b))\n",
    "    \n",
    "    return w, b\n",
    "\n",
    "def avg_loss(spendings, sales, w, b):\n",
    "    N = len(spendings)\n",
    "    total_error = 0.0\n",
    "    \n",
    "    for i in range(N):\n",
    "        total_error += (sales[i] - (w * spendings[i] + b)) ** 2\n",
    "    \n",
    "    return total_error / float(N)\n",
    "\n",
    "\n",
    "#Run training algorithm using Parameters:\n",
    "\n",
    "\n",
    "    "
   ]
  }
 ],
 "metadata": {
  "kernelspec": {
   "display_name": "Python 3 (ipykernel)",
   "language": "python",
   "name": "python3"
  },
  "language_info": {
   "codemirror_mode": {
    "name": "ipython",
    "version": 3
   },
   "file_extension": ".py",
   "mimetype": "text/x-python",
   "name": "python",
   "nbconvert_exporter": "python",
   "pygments_lexer": "ipython3",
   "version": "3.11.7"
  }
 },
 "nbformat": 4,
 "nbformat_minor": 5
}
