{
 "cells": [
  {
   "cell_type": "markdown",
   "id": "229d1a05",
   "metadata": {},
   "source": [
    "# Counter"
   ]
  },
  {
   "cell_type": "code",
   "execution_count": 2,
   "id": "88f08842",
   "metadata": {},
   "outputs": [],
   "source": [
    "from collections import Counter"
   ]
  },
  {
   "cell_type": "code",
   "execution_count": 9,
   "id": "b8f00782",
   "metadata": {},
   "outputs": [
    {
     "name": "stdout",
     "output_type": "stream",
     "text": [
      "Counter({' ': 2, 'm': 2, 'I': 1, 'a': 1, 'E': 1, 'e': 1, 'r': 1, 'o': 1, 'n': 1})\n"
     ]
    }
   ],
   "source": [
    "#Creating a counter from string\n",
    "string = 'I am Emeron'\n",
    "letters = Counter(string)\n",
    "print(letters)"
   ]
  },
  {
   "cell_type": "code",
   "execution_count": 14,
   "id": "03cd7d2b",
   "metadata": {},
   "outputs": [
    {
     "name": "stdout",
     "output_type": "stream",
     "text": [
      "Counter({2: 2, 3: 2, 4: 2, 5: 2, 1: 1, 6: 1})\n"
     ]
    }
   ],
   "source": [
    "#Creating a counter from a list\n",
    "WordL = [1,2,3,4,5,6,2,3,4,5]\n",
    "nums = Counter(WordL)\n",
    "print(nums)"
   ]
  },
  {
   "cell_type": "code",
   "execution_count": 15,
   "id": "7ee677be",
   "metadata": {},
   "outputs": [
    {
     "name": "stdout",
     "output_type": "stream",
     "text": [
      "Counter({2: 3, 3: 2, 4: 2, 5: 2, 1: 1, 6: 1})\n"
     ]
    }
   ],
   "source": [
    "#Access key\n",
    "nums[2] += 1\n",
    "print(nums)"
   ]
  },
  {
   "cell_type": "code",
   "execution_count": 16,
   "id": "bf152e26",
   "metadata": {},
   "outputs": [
    {
     "name": "stdout",
     "output_type": "stream",
     "text": [
      "Counter({2: 3, 3: 2, 4: 2, 5: 2, 1: 1, 6: 1, 7: 0})\n"
     ]
    }
   ],
   "source": [
    "#Create key\n",
    "nums[7] = 0\n",
    "print(nums)"
   ]
  },
  {
   "cell_type": "code",
   "execution_count": 17,
   "id": "ddfa5b2a",
   "metadata": {},
   "outputs": [
    {
     "name": "stdout",
     "output_type": "stream",
     "text": [
      "dict_keys([1, 2, 3, 4, 5, 6, 7]) dict_values([1, 3, 2, 2, 2, 1, 0])\n"
     ]
    }
   ],
   "source": [
    "print(nums.keys(), nums.values())"
   ]
  },
  {
   "cell_type": "code",
   "execution_count": 19,
   "id": "2242ddb2",
   "metadata": {},
   "outputs": [
    {
     "name": "stdout",
     "output_type": "stream",
     "text": [
      "1 : 1\n",
      "2 : 3\n",
      "3 : 2\n",
      "4 : 2\n",
      "5 : 2\n",
      "6 : 1\n",
      "7 : 0\n"
     ]
    }
   ],
   "source": [
    "for x,y in nums.items():\n",
    "    print(x,':',y)"
   ]
  },
  {
   "cell_type": "code",
   "execution_count": 27,
   "id": "f370b605",
   "metadata": {},
   "outputs": [
    {
     "name": "stdout",
     "output_type": "stream",
     "text": [
      "[]\n",
      "[(2, 3), (3, 2), (4, 2), (5, 2), (1, 1), (6, 1), (7, 0)]\n"
     ]
    }
   ],
   "source": [
    "print(nums.most_common(-2))\n",
    "print(nums.most_common())"
   ]
  },
  {
   "cell_type": "markdown",
   "id": "6fcd80a8",
   "metadata": {},
   "source": [
    "# Default Dict"
   ]
  },
  {
   "cell_type": "code",
   "execution_count": 2,
   "id": "e8c525d8",
   "metadata": {},
   "outputs": [],
   "source": [
    "from collections import defaultdict"
   ]
  },
  {
   "cell_type": "code",
   "execution_count": 39,
   "id": "7132caa9",
   "metadata": {},
   "outputs": [
    {
     "name": "stdout",
     "output_type": "stream",
     "text": [
      "-1\n"
     ]
    }
   ],
   "source": [
    "d = defaultdict(int)\n",
    "d[1] -= 1\n",
    "print(d[1])"
   ]
  },
  {
   "cell_type": "code",
   "execution_count": 40,
   "id": "82f0495c",
   "metadata": {},
   "outputs": [
    {
     "ename": "KeyError",
     "evalue": "1",
     "output_type": "error",
     "traceback": [
      "\u001b[0;31m---------------------------------------------------------------------------\u001b[0m",
      "\u001b[0;31mKeyError\u001b[0m                                  Traceback (most recent call last)",
      "Cell \u001b[0;32mIn[40], line 2\u001b[0m\n\u001b[1;32m      1\u001b[0m a \u001b[38;5;241m=\u001b[39m {}\n\u001b[0;32m----> 2\u001b[0m a[\u001b[38;5;241m1\u001b[39m] \u001b[38;5;241m-\u001b[39m\u001b[38;5;241m=\u001b[39m \u001b[38;5;241m1\u001b[39m\n\u001b[1;32m      3\u001b[0m \u001b[38;5;28mprint\u001b[39m(a[\u001b[38;5;241m1\u001b[39m])\n",
      "\u001b[0;31mKeyError\u001b[0m: 1"
     ]
    }
   ],
   "source": [
    "a = {}\n",
    "a[1] -= 1\n",
    "print(a[1])"
   ]
  },
  {
   "cell_type": "code",
   "execution_count": 10,
   "id": "9b786648",
   "metadata": {},
   "outputs": [
    {
     "data": {
      "text/plain": [
       "dict_items([('act', ['act', 'cat']), ('opst', ['pots', 'tops', 'stop']), ('aht', ['hat'])])"
      ]
     },
     "execution_count": 10,
     "metadata": {},
     "output_type": "execute_result"
    }
   ],
   "source": [
    "l = [\"act\",\"pots\",\"tops\",\"cat\",\"stop\",\"hat\"]\n",
    "d = defaultdict(list)\n",
    "\n",
    "for word in l:\n",
    "    sortedS = ''.join(sorted(word))\n",
    "    d[sortedS].append(word)\n",
    "d.items()"
   ]
  },
  {
   "cell_type": "markdown",
   "id": "bfce6568",
   "metadata": {},
   "source": [
    "# Ordered Dict"
   ]
  },
  {
   "cell_type": "code",
   "execution_count": 43,
   "id": "b97ba1c7",
   "metadata": {},
   "outputs": [],
   "source": [
    "from collections import OrderedDict"
   ]
  },
  {
   "cell_type": "code",
   "execution_count": 53,
   "id": "bbcc5af8",
   "metadata": {},
   "outputs": [
    {
     "name": "stdout",
     "output_type": "stream",
     "text": [
      "b 7\n",
      "a 1\n",
      "c 3\n",
      "d 4\n"
     ]
    }
   ],
   "source": [
    "d = {}\n",
    "d['b'] = 2\n",
    "d['a'] = 1\n",
    "d['c'] = 3\n",
    "d['d'] = 4\n",
    "d['b'] += 5\n",
    "for x,y in d.items():\n",
    "    print(x,y)"
   ]
  },
  {
   "cell_type": "code",
   "execution_count": 54,
   "id": "3762048f",
   "metadata": {},
   "outputs": [
    {
     "name": "stdout",
     "output_type": "stream",
     "text": [
      "b 7\n",
      "a 1\n",
      "c 3\n",
      "d 4\n"
     ]
    }
   ],
   "source": [
    "d = OrderedDict()\n",
    "d['b'] = 2\n",
    "d['a'] = 1\n",
    "d['c'] = 3\n",
    "d['d'] = 4\n",
    "d['b'] += 5\n",
    "for x,y in d.items():\n",
    "    print(x,y)"
   ]
  },
  {
   "cell_type": "code",
   "execution_count": null,
   "id": "06e826ee",
   "metadata": {},
   "outputs": [],
   "source": []
  }
 ],
 "metadata": {
  "kernelspec": {
   "display_name": "Python 3 (ipykernel)",
   "language": "python",
   "name": "python3"
  },
  "language_info": {
   "codemirror_mode": {
    "name": "ipython",
    "version": 3
   },
   "file_extension": ".py",
   "mimetype": "text/x-python",
   "name": "python",
   "nbconvert_exporter": "python",
   "pygments_lexer": "ipython3",
   "version": "3.11.7"
  }
 },
 "nbformat": 4,
 "nbformat_minor": 5
}
