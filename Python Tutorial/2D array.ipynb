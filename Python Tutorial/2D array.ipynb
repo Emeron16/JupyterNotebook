{
 "cells": [
  {
   "cell_type": "markdown",
   "id": "b0e56d8d",
   "metadata": {},
   "source": [
    "# Create "
   ]
  },
  {
   "cell_type": "code",
   "execution_count": 1,
   "id": "d036bd22",
   "metadata": {},
   "outputs": [
    {
     "name": "stdout",
     "output_type": "stream",
     "text": [
      "[[0, 0, 0, 0], [0, 0, 0, 0], [0, 0, 0, 0]]\n"
     ]
    }
   ],
   "source": [
    "rows, cols = 3, 4  # Dimensions of the 2D array\n",
    "\n",
    "# Initialize a 2D array with all elements as 0\n",
    "array = [[0 for _ in range(cols)] for _ in range(rows)]\n",
    "\n",
    "# Output the 2D array\n",
    "print(array)"
   ]
  },
  {
   "cell_type": "code",
   "execution_count": 2,
   "id": "852fd2a6",
   "metadata": {},
   "outputs": [
    {
     "name": "stdout",
     "output_type": "stream",
     "text": [
      "[[0, 0, 0, 0], [0, 0, 0, 0], [0, 0, 0, 0]]\n",
      "[[1, 0, 0, 0], [1, 0, 0, 0], [1, 0, 0, 0]]\n"
     ]
    }
   ],
   "source": [
    "rows, cols = 3, 4\n",
    "\n",
    "# This will result in issues with shared references\n",
    "array = [[0] * cols] * rows\n",
    "\n",
    "# Output the 2D array\n",
    "print(array)\n",
    "\n",
    "# Modifying one element will affect other rows (due to shallow copy)\n",
    "array[0][0] = 1\n",
    "print(array)"
   ]
  },
  {
   "cell_type": "markdown",
   "id": "2fa6ee7d",
   "metadata": {},
   "source": [
    "# Access"
   ]
  },
  {
   "cell_type": "code",
   "execution_count": 3,
   "id": "3693cfba",
   "metadata": {},
   "outputs": [
    {
     "name": "stdout",
     "output_type": "stream",
     "text": [
      "0\n",
      "[[1, 0, 5, 0], [1, 0, 5, 0], [1, 0, 5, 0]]\n"
     ]
    }
   ],
   "source": [
    "# Access an element\n",
    "print(array[1][2])  # Access element at row 1, column 2\n",
    "\n",
    "# Modify an element\n",
    "array[1][2] = 5\n",
    "print(array)"
   ]
  },
  {
   "cell_type": "markdown",
   "id": "4118c97d",
   "metadata": {},
   "source": [
    "# Change\n"
   ]
  },
  {
   "cell_type": "code",
   "execution_count": 4,
   "id": "4f1196ed",
   "metadata": {},
   "outputs": [
    {
     "name": "stdout",
     "output_type": "stream",
     "text": [
      "[[1, 2, 3], [4, 10, 6], [7, 8, 9]]\n"
     ]
    }
   ],
   "source": [
    "# Create a 2D array (list of lists)\n",
    "array = [\n",
    "    [1, 2, 3],\n",
    "    [4, 5, 6],\n",
    "    [7, 8, 9]\n",
    "]\n",
    "\n",
    "# Change the value at row 1, column 2 (5 → 10)\n",
    "array[1][1] = 10\n",
    "\n",
    "# Output the updated array\n",
    "print(array)"
   ]
  },
  {
   "cell_type": "markdown",
   "id": "d1202fa7",
   "metadata": {},
   "source": [
    "# Add value"
   ]
  },
  {
   "cell_type": "code",
   "execution_count": 5,
   "id": "5720be4a",
   "metadata": {},
   "outputs": [
    {
     "name": "stdout",
     "output_type": "stream",
     "text": [
      "[[1, 2, 3], [4, 10, 6], [7, 8, 9], [10, 11, 12]]\n"
     ]
    }
   ],
   "source": [
    "# Add a new row [10, 11, 12] to the 2D array\n",
    "array.append([10, 11, 12])\n",
    "\n",
    "# Output the updated array\n",
    "print(array)\n"
   ]
  },
  {
   "cell_type": "code",
   "execution_count": 6,
   "id": "a1f581f6",
   "metadata": {},
   "outputs": [
    {
     "name": "stdout",
     "output_type": "stream",
     "text": [
      "[[1, 2, 3, 4], [4, 10, 6], [7, 8, 9], [10, 11, 12]]\n"
     ]
    }
   ],
   "source": [
    "# Append a new value to the first row\n",
    "array[0].append(4)\n",
    "\n",
    "# Output the updated array\n",
    "print(array)"
   ]
  },
  {
   "cell_type": "markdown",
   "id": "c319864c",
   "metadata": {},
   "source": [
    "# Remove"
   ]
  },
  {
   "cell_type": "code",
   "execution_count": 7,
   "id": "53cb8c5f",
   "metadata": {},
   "outputs": [
    {
     "name": "stdout",
     "output_type": "stream",
     "text": [
      "[[1, 2, 3, 4], [4, 6], [7, 8, 9], [10, 11, 12]]\n"
     ]
    }
   ],
   "source": [
    "# Remove the element at row 1, column 1 (the value 10)\n",
    "array[1].pop(1)\n",
    "\n",
    "# Output the updated array\n",
    "print(array)\n"
   ]
  },
  {
   "cell_type": "code",
   "execution_count": 8,
   "id": "8c836959",
   "metadata": {},
   "outputs": [
    {
     "name": "stdout",
     "output_type": "stream",
     "text": [
      "[[1, 2, 3, 4], [4, 6], [10, 11, 12]]\n"
     ]
    }
   ],
   "source": [
    "# Remove the third row (index 2)\n",
    "array.pop(2)\n",
    "\n",
    "# Output the updated array\n",
    "print(array)"
   ]
  },
  {
   "cell_type": "markdown",
   "id": "c4abd664",
   "metadata": {},
   "source": [
    "# Length"
   ]
  },
  {
   "cell_type": "code",
   "execution_count": 10,
   "id": "bbc8828b",
   "metadata": {},
   "outputs": [
    {
     "name": "stdout",
     "output_type": "stream",
     "text": [
      "Length of 2D array: 3\n"
     ]
    }
   ],
   "source": [
    "# Get the number of rows (length of 2D array)\n",
    "length_of_2d_array = len(array)\n",
    "\n",
    "print(\"Length of 2D array:\", length_of_2d_array)\n"
   ]
  },
  {
   "cell_type": "code",
   "execution_count": 11,
   "id": "85f35dfe",
   "metadata": {},
   "outputs": [
    {
     "name": "stdout",
     "output_type": "stream",
     "text": [
      "Length of first row: 4\n",
      "Length of second row: 2\n"
     ]
    }
   ],
   "source": [
    "# Get the length of the first row\n",
    "length_of_first_row = len(array[0])\n",
    "\n",
    "# Get the length of the second row\n",
    "length_of_second_row = len(array[1])\n",
    "\n",
    "print(\"Length of first row:\", length_of_first_row)\n",
    "print(\"Length of second row:\", length_of_second_row)"
   ]
  },
  {
   "cell_type": "code",
   "execution_count": null,
   "id": "9c9d1c0a",
   "metadata": {},
   "outputs": [],
   "source": []
  }
 ],
 "metadata": {
  "kernelspec": {
   "display_name": "Python 3 (ipykernel)",
   "language": "python",
   "name": "python3"
  },
  "language_info": {
   "codemirror_mode": {
    "name": "ipython",
    "version": 3
   },
   "file_extension": ".py",
   "mimetype": "text/x-python",
   "name": "python",
   "nbconvert_exporter": "python",
   "pygments_lexer": "ipython3",
   "version": "3.11.7"
  }
 },
 "nbformat": 4,
 "nbformat_minor": 5
}
