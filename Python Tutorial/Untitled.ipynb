{
 "cells": [
  {
   "cell_type": "code",
   "execution_count": 5,
   "id": "4b7d0e3e",
   "metadata": {},
   "outputs": [
    {
     "name": "stdout",
     "output_type": "stream",
     "text": [
      "['a', 'b', 'c']\n"
     ]
    }
   ],
   "source": [
    "dic = {'1':[1,2,3,4], '2':['a','b','c']}\n",
    "dic.\n",
    "print(dic['2'][])"
   ]
  },
  {
   "cell_type": "code",
   "execution_count": 76,
   "id": "4c9d96b5",
   "metadata": {},
   "outputs": [
    {
     "data": {
      "text/plain": [
       "2"
      ]
     },
     "execution_count": 76,
     "metadata": {},
     "output_type": "execute_result"
    }
   ],
   "source": [
    "l = [1,2,3,3]\n",
    "\n",
    "l.index(3,2)"
   ]
  },
  {
   "cell_type": "code",
   "execution_count": 31,
   "id": "ab293d88",
   "metadata": {},
   "outputs": [
    {
     "name": "stdout",
     "output_type": "stream",
     "text": [
      "6 [3]\n",
      "24 [3, 6]\n",
      "120 [3, 6, 24]\n",
      "960 [3, 6, 24, 120]\n",
      "8 [3, 6, 24, 120, 960, 2]\n",
      "40 [3, 6, 24, 120, 960, 2, 8]\n",
      "320 [3, 6, 24, 120, 960, 2, 8, 40]\n",
      "20 [3, 6, 24, 120, 960, 2, 8, 40, 320, 4]\n",
      "160 [3, 6, 24, 120, 960, 2, 8, 40, 320, 4, 20]\n",
      "40 [3, 6, 24, 120, 960, 2, 8, 40, 320, 4, 20, 160, 5]\n",
      "Not Colorful\n",
      "Not Colorful\n",
      "[3, 6, 24, 120, 960, 2, 8, 40, 320, 4, 20, 160, 5]\n"
     ]
    }
   ],
   "source": [
    "num = '32458'\n",
    "\n",
    "unique = list()\n",
    "\n",
    "for n in range(len(num)):\n",
    "    if int(num[n]) in unique:\n",
    "            print('Not Colorful')\n",
    "            break\n",
    "    else:\n",
    "        unique.append(int(num[n]))\n",
    "    product = int(num[n])\n",
    "    \n",
    "    if n != len(num):\n",
    "        for s in range(n+1, len(num)):\n",
    "            product *= int(num[s])\n",
    "            print(product, unique)\n",
    "            if product in unique:\n",
    "                print('Not Colorful')\n",
    "                break\n",
    "            else:\n",
    "                unique.append(product)\n",
    "\n",
    "                \n",
    "print(unique)\n",
    "\n",
    "        "
   ]
  },
  {
   "cell_type": "code",
   "execution_count": 23,
   "id": "c12c07a9",
   "metadata": {},
   "outputs": [
    {
     "data": {
      "text/plain": [
       "1"
      ]
     },
     "execution_count": 23,
     "metadata": {},
     "output_type": "execute_result"
    }
   ],
   "source": [
    "a = 5\n",
    "b= 2\n",
    "#print(bin(3),bin(2))\n",
    "a >>b"
   ]
  },
  {
   "cell_type": "code",
   "execution_count": 5,
   "id": "ad0cb082",
   "metadata": {},
   "outputs": [
    {
     "name": "stdout",
     "output_type": "stream",
     "text": [
      "1339 9 133\n",
      "133 3 13\n",
      "13 3 1\n",
      "1 1 0\n",
      "16\n"
     ]
    }
   ],
   "source": [
    "digit_sum = 0\n",
    "num = 1339\n",
    "while num > 0:\n",
    "    digit_sum += num % 10\n",
    "    print(num, num % 10, num // 10)\n",
    "    num //= 10\n",
    "print(digit_sum)"
   ]
  },
  {
   "cell_type": "code",
   "execution_count": 78,
   "id": "fae0bc36",
   "metadata": {},
   "outputs": [
    {
     "name": "stdout",
     "output_type": "stream",
     "text": [
      "{2: [0, 1], 4: [2], 3: [3]}\n",
      "[1, 2]\n"
     ]
    }
   ],
   "source": [
    "def icecream_parlor(m, arr):\n",
    "    ice_cream_one = 0\n",
    "    ice_cream_two = 0\n",
    "    cost_to_index = create_map(arr)\n",
    "    \n",
    "    # Loop through the list, O(n) time complexity\n",
    "    for i in range(len(arr) - 1):\n",
    "        complement = m - arr[i]\n",
    "        if complement in cost_to_index:\n",
    "            ice_cream_one = i\n",
    "            ice_cream_two = cost_to_index[complement][0]\n",
    "            \n",
    "            # Case where two different ice creams of the same price are needed\n",
    "            if ice_cream_two == ice_cream_one:\n",
    "                if len(cost_to_index[complement]) > 1:\n",
    "                    ice_cream_two = cost_to_index[complement][1]\n",
    "                    break\n",
    "            else:\n",
    "                break\n",
    "    \n",
    "    # Convert to 1-based indexing\n",
    "    ice_cream_one += 1\n",
    "    ice_cream_two += 1\n",
    "    return [ice_cream_one, ice_cream_two]\n",
    "\n",
    "def create_map(arr):\n",
    "    cost_to_index = {}\n",
    "    for i, cost in enumerate(arr):\n",
    "        if cost not in cost_to_index:\n",
    "            cost_to_index[cost] = [i]\n",
    "        else:\n",
    "            cost_to_index[cost].append(i)\n",
    "    print(cost_to_index)\n",
    "    return cost_to_index\n",
    "\n",
    "# Example usage:\n",
    "m = 4\n",
    "arr = [2, 2,4, 3]\n",
    "result = icecream_parlor(m, arr)\n",
    "print(result)  # Output: [1, 4]\n"
   ]
  },
  {
   "cell_type": "code",
   "execution_count": 4,
   "id": "1ea212e6",
   "metadata": {},
   "outputs": [
    {
     "name": "stdout",
     "output_type": "stream",
     "text": [
      "[[1, 'x'], [2, 'y'], [2, 'x'], [8, 'y'], [3, 'x'], [6, 'y']]\n",
      "[[1, 'x'], [2, 'x'], [2, 'y'], [3, 'x'], [6, 'y'], [8, 'y']]\n",
      "2\n"
     ]
    }
   ],
   "source": [
    "def overlap(v):\n",
    "\n",
    "    # variable to store the maximum\n",
    "    # count\n",
    "    ans = 0\n",
    "    count = 0\n",
    "    data = []\n",
    "\n",
    "    # storing the x and y\n",
    "    # coordinates in data vector\n",
    "    for i in range(len(v)):\n",
    "\n",
    "        # pushing the x coordinate\n",
    "        data.append([v[i][0], 'x'])\n",
    "\n",
    "        # pushing the y coordinate\n",
    "        data.append([v[i][1], 'y'])\n",
    "    print(data)\n",
    "    # sorting of ranges\n",
    "    data = sorted(data)\n",
    "    print(data)\n",
    "\n",
    "    # Traverse the data vector to\n",
    "    # count number of overlaps\n",
    "    for i in range(len(data)):\n",
    "\n",
    "        # if x occur it means a new range\n",
    "        # is added so we increase count\n",
    "        if (data[i][1] == 'x'):\n",
    "            count += 1\n",
    "\n",
    "        # if y occur it means a range\n",
    "        # is ended so we decrease count\n",
    "        if (data[i][1] == 'y'):\n",
    "            count -= 1\n",
    "\n",
    "        # updating the value of ans\n",
    "        # after every traversal\n",
    "        ans = max(ans, count)\n",
    "\n",
    "    # printing the maximum value\n",
    "    print(ans)\n",
    "\n",
    "# Driver code\n",
    "v = [ [ 1, 2 ], [ 2, 8 ], [ 3, 6 ] ]\n",
    "overlap(v)\n"
   ]
  },
  {
   "cell_type": "code",
   "execution_count": null,
   "id": "bc4fc2be",
   "metadata": {},
   "outputs": [],
   "source": [
    "def minCost(arr:list[int]):\n",
    "    '''\n",
    "    [0, 12, 43, 12, 2, 1 ,3, 34]\n",
    "    '''\n",
    "    dp = [0] * len(arr)\n",
    "    dp[0] = min(arr[:6])\n",
    "\n",
    "    for i in range(1, len(arr)):\n",
    "        dp[i] = min(dp[i-1], arr[i:6]) \n",
    "\n",
    "\n",
    "    \n",
    "    "
   ]
  },
  {
   "cell_type": "code",
   "execution_count": 1,
   "id": "1bc91c27-9020-4486-b957-1684f93ba95d",
   "metadata": {},
   "outputs": [
    {
     "name": "stdout",
     "output_type": "stream",
     "text": [
      "Minimum cost for [1, 10, 2, 5, 8, 1, 6]: 7\n"
     ]
    }
   ],
   "source": [
    "def min_cost_with_dice(costs: list[int]) -> int:\n",
    "    \"\"\"\n",
    "    Calculates the minimum cost to get through a list of numbers,\n",
    "    where each index is the cost, and you can move forward 1 to 6 steps\n",
    "    based on a die roll.\n",
    "\n",
    "    Args:\n",
    "        costs: A list of integers representing the cost at each index.\n",
    "\n",
    "    Returns:\n",
    "        The minimum cost to reach the end of the list.\n",
    "    \"\"\"\n",
    "    n = len(costs)\n",
    "    if n == 0:\n",
    "        return 0\n",
    "    if n == 1:\n",
    "        return costs[0]\n",
    "\n",
    "    dp = [0] * n\n",
    "    dp[0] = costs[0]\n",
    "\n",
    "    for i in range(1, n):\n",
    "        min_prev_cost = float('inf')\n",
    "        for j in range(1, 7):\n",
    "            prev_index = i - j\n",
    "            if 0 <= prev_index < i:\n",
    "                min_prev_cost = min(min_prev_cost, dp[prev_index])\n",
    "            elif prev_index < 0:\n",
    "                min_prev_cost = min(min_prev_cost, 0)  # Starting point has no cost to reach\n",
    "\n",
    "        dp[i] = costs[i] + min_prev_cost\n",
    "\n",
    "    return dp[n - 1]\n",
    "\n",
    "\n",
    "# Example usage:\n",
    "costs1 = [1, 10, 2, 5, 8, 1, 6]\n",
    "print(f\"Minimum cost for {costs1}: {min_cost_with_dice(costs1)}\")  # Output: 8\n",
    "\n",
    "\n"
   ]
  },
  {
   "cell_type": "code",
   "execution_count": null,
   "id": "1e97eb34-7a57-49d7-a963-9ab79e498985",
   "metadata": {},
   "outputs": [],
   "source": []
  }
 ],
 "metadata": {
  "kernelspec": {
   "display_name": "Python [conda env:base] *",
   "language": "python",
   "name": "conda-base-py"
  },
  "language_info": {
   "codemirror_mode": {
    "name": "ipython",
    "version": 3
   },
   "file_extension": ".py",
   "mimetype": "text/x-python",
   "name": "python",
   "nbconvert_exporter": "python",
   "pygments_lexer": "ipython3",
   "version": "3.12.7"
  }
 },
 "nbformat": 4,
 "nbformat_minor": 5
}
